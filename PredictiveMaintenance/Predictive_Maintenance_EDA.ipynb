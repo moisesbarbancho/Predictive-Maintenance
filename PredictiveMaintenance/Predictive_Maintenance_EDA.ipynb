{
  "nbformat": 4,
  "nbformat_minor": 0,
  "metadata": {
    "colab": {
      "provenance": [],
      "collapsed_sections": [
        "W_wAmwQwetd_",
        "PfYxZI9lj3lq",
        "Xit0pyt-j3g4",
        "8aHtaBcJj3eM"
      ]
    },
    "kernelspec": {
      "name": "python3",
      "display_name": "Python 3"
    },
    "language_info": {
      "name": "python"
    }
  },
  "cells": [
    {
      "cell_type": "markdown",
      "source": [
        "# **Case Presentation**"
      ],
      "metadata": {
        "id": "J69yZ9OEB5LM"
      }
    },
    {
      "cell_type": "markdown",
      "source": [
        "Dataset:\n",
        "\n",
        "The dataset comprises 10,000 data points with 14 features. Each row contains a unique identifier (UID) from 1 to 10,000 and includes product IDs denoted as L, M, or H, representing low (50%), medium (30%), and high (20%) quality variants. Notable features include air and process temperatures generated through random walk processes, rotational speed calculated from power with added noise, torque values distributed around 40 Nm, and tool wear incremented based on product quality.\n",
        "\n",
        "This dataset contains a 'machine failure' label linked to five distinct failure modes: tool wear failure, heat dissipation failure, power failure, overstrain failure, and random failures. The 'machine failure' label is set to 1 if any of these modes are true. These failure modes encompass various conditions such as specific torque and speed parameters, tool wear durations, and random failure chances. It's important to note that the exact failure mode triggering the machine failure is not explicitly discernible, posing a challenge for machine learning methods.\n",
        "\n",
        "In summary, the dataset details various features and failure modes affecting machine failures, presenting a complex scenario for predictive analysis due to the presence of multiple, independent failure causes.\n",
        "\n",
        "source: https://archive.ics.uci.edu/dataset/601/ai4i+2020+predictive+maintenance+dataset"
      ],
      "metadata": {
        "id": "mP-6QoF9DAT2"
      }
    },
    {
      "cell_type": "markdown",
      "source": [
        "## Conclusions and Insights"
      ],
      "metadata": {
        "id": "OXobfR5xCZ5e"
      }
    },
    {
      "cell_type": "markdown",
      "source": [
        "# **Exploratory Data Analysis**"
      ],
      "metadata": {
        "id": "w-dPQ6XHB-xX"
      }
    },
    {
      "cell_type": "code",
      "source": [
        "# Data ingestion:\n",
        "import pandas as pd\n",
        "import numpy as np\n",
        "\n",
        "import seaborn as sns\n",
        "import matplotlib.pyplot as plt\n",
        "%matplotlib inline\n",
        "\n",
        "import warnings\n",
        "warnings.filterwarnings(\"ignore\")\n",
        "\n",
        "df = pd.read_csv('/content/predictive_maintenance.csv')"
      ],
      "metadata": {
        "id": "2t4XLoRED6vP"
      },
      "execution_count": 29,
      "outputs": []
    },
    {
      "cell_type": "code",
      "source": [
        "# Overview of data:\n",
        "df.head()"
      ],
      "metadata": {
        "colab": {
          "base_uri": "https://localhost:8080/",
          "height": 224
        },
        "id": "dZb23M5oEMYd",
        "outputId": "4180377a-e8ff-47de-c2ca-11211c234568"
      },
      "execution_count": 30,
      "outputs": [
        {
          "output_type": "execute_result",
          "data": {
            "text/plain": [
              "   UDI Product ID Type  Air temperature [K]  Process temperature [K]  \\\n",
              "0    1     M14860    M                298.1                    308.6   \n",
              "1    2     L47181    L                298.2                    308.7   \n",
              "2    3     L47182    L                298.1                    308.5   \n",
              "3    4     L47183    L                298.2                    308.6   \n",
              "4    5     L47184    L                298.2                    308.7   \n",
              "\n",
              "   Rotational speed [rpm]  Torque [Nm]  Tool wear [min]  Target Failure Type  \n",
              "0                    1551         42.8                0       0   No Failure  \n",
              "1                    1408         46.3                3       0   No Failure  \n",
              "2                    1498         49.4                5       0   No Failure  \n",
              "3                    1433         39.5                7       0   No Failure  \n",
              "4                    1408         40.0                9       0   No Failure  "
            ],
            "text/html": [
              "\n",
              "  <div id=\"df-9587361f-79c9-463c-8a16-a6b01851605d\" class=\"colab-df-container\">\n",
              "    <div>\n",
              "<style scoped>\n",
              "    .dataframe tbody tr th:only-of-type {\n",
              "        vertical-align: middle;\n",
              "    }\n",
              "\n",
              "    .dataframe tbody tr th {\n",
              "        vertical-align: top;\n",
              "    }\n",
              "\n",
              "    .dataframe thead th {\n",
              "        text-align: right;\n",
              "    }\n",
              "</style>\n",
              "<table border=\"1\" class=\"dataframe\">\n",
              "  <thead>\n",
              "    <tr style=\"text-align: right;\">\n",
              "      <th></th>\n",
              "      <th>UDI</th>\n",
              "      <th>Product ID</th>\n",
              "      <th>Type</th>\n",
              "      <th>Air temperature [K]</th>\n",
              "      <th>Process temperature [K]</th>\n",
              "      <th>Rotational speed [rpm]</th>\n",
              "      <th>Torque [Nm]</th>\n",
              "      <th>Tool wear [min]</th>\n",
              "      <th>Target</th>\n",
              "      <th>Failure Type</th>\n",
              "    </tr>\n",
              "  </thead>\n",
              "  <tbody>\n",
              "    <tr>\n",
              "      <th>0</th>\n",
              "      <td>1</td>\n",
              "      <td>M14860</td>\n",
              "      <td>M</td>\n",
              "      <td>298.1</td>\n",
              "      <td>308.6</td>\n",
              "      <td>1551</td>\n",
              "      <td>42.8</td>\n",
              "      <td>0</td>\n",
              "      <td>0</td>\n",
              "      <td>No Failure</td>\n",
              "    </tr>\n",
              "    <tr>\n",
              "      <th>1</th>\n",
              "      <td>2</td>\n",
              "      <td>L47181</td>\n",
              "      <td>L</td>\n",
              "      <td>298.2</td>\n",
              "      <td>308.7</td>\n",
              "      <td>1408</td>\n",
              "      <td>46.3</td>\n",
              "      <td>3</td>\n",
              "      <td>0</td>\n",
              "      <td>No Failure</td>\n",
              "    </tr>\n",
              "    <tr>\n",
              "      <th>2</th>\n",
              "      <td>3</td>\n",
              "      <td>L47182</td>\n",
              "      <td>L</td>\n",
              "      <td>298.1</td>\n",
              "      <td>308.5</td>\n",
              "      <td>1498</td>\n",
              "      <td>49.4</td>\n",
              "      <td>5</td>\n",
              "      <td>0</td>\n",
              "      <td>No Failure</td>\n",
              "    </tr>\n",
              "    <tr>\n",
              "      <th>3</th>\n",
              "      <td>4</td>\n",
              "      <td>L47183</td>\n",
              "      <td>L</td>\n",
              "      <td>298.2</td>\n",
              "      <td>308.6</td>\n",
              "      <td>1433</td>\n",
              "      <td>39.5</td>\n",
              "      <td>7</td>\n",
              "      <td>0</td>\n",
              "      <td>No Failure</td>\n",
              "    </tr>\n",
              "    <tr>\n",
              "      <th>4</th>\n",
              "      <td>5</td>\n",
              "      <td>L47184</td>\n",
              "      <td>L</td>\n",
              "      <td>298.2</td>\n",
              "      <td>308.7</td>\n",
              "      <td>1408</td>\n",
              "      <td>40.0</td>\n",
              "      <td>9</td>\n",
              "      <td>0</td>\n",
              "      <td>No Failure</td>\n",
              "    </tr>\n",
              "  </tbody>\n",
              "</table>\n",
              "</div>\n",
              "    <div class=\"colab-df-buttons\">\n",
              "\n",
              "  <div class=\"colab-df-container\">\n",
              "    <button class=\"colab-df-convert\" onclick=\"convertToInteractive('df-9587361f-79c9-463c-8a16-a6b01851605d')\"\n",
              "            title=\"Convert this dataframe to an interactive table.\"\n",
              "            style=\"display:none;\">\n",
              "\n",
              "  <svg xmlns=\"http://www.w3.org/2000/svg\" height=\"24px\" viewBox=\"0 -960 960 960\">\n",
              "    <path d=\"M120-120v-720h720v720H120Zm60-500h600v-160H180v160Zm220 220h160v-160H400v160Zm0 220h160v-160H400v160ZM180-400h160v-160H180v160Zm440 0h160v-160H620v160ZM180-180h160v-160H180v160Zm440 0h160v-160H620v160Z\"/>\n",
              "  </svg>\n",
              "    </button>\n",
              "\n",
              "  <style>\n",
              "    .colab-df-container {\n",
              "      display:flex;\n",
              "      gap: 12px;\n",
              "    }\n",
              "\n",
              "    .colab-df-convert {\n",
              "      background-color: #E8F0FE;\n",
              "      border: none;\n",
              "      border-radius: 50%;\n",
              "      cursor: pointer;\n",
              "      display: none;\n",
              "      fill: #1967D2;\n",
              "      height: 32px;\n",
              "      padding: 0 0 0 0;\n",
              "      width: 32px;\n",
              "    }\n",
              "\n",
              "    .colab-df-convert:hover {\n",
              "      background-color: #E2EBFA;\n",
              "      box-shadow: 0px 1px 2px rgba(60, 64, 67, 0.3), 0px 1px 3px 1px rgba(60, 64, 67, 0.15);\n",
              "      fill: #174EA6;\n",
              "    }\n",
              "\n",
              "    .colab-df-buttons div {\n",
              "      margin-bottom: 4px;\n",
              "    }\n",
              "\n",
              "    [theme=dark] .colab-df-convert {\n",
              "      background-color: #3B4455;\n",
              "      fill: #D2E3FC;\n",
              "    }\n",
              "\n",
              "    [theme=dark] .colab-df-convert:hover {\n",
              "      background-color: #434B5C;\n",
              "      box-shadow: 0px 1px 3px 1px rgba(0, 0, 0, 0.15);\n",
              "      filter: drop-shadow(0px 1px 2px rgba(0, 0, 0, 0.3));\n",
              "      fill: #FFFFFF;\n",
              "    }\n",
              "  </style>\n",
              "\n",
              "    <script>\n",
              "      const buttonEl =\n",
              "        document.querySelector('#df-9587361f-79c9-463c-8a16-a6b01851605d button.colab-df-convert');\n",
              "      buttonEl.style.display =\n",
              "        google.colab.kernel.accessAllowed ? 'block' : 'none';\n",
              "\n",
              "      async function convertToInteractive(key) {\n",
              "        const element = document.querySelector('#df-9587361f-79c9-463c-8a16-a6b01851605d');\n",
              "        const dataTable =\n",
              "          await google.colab.kernel.invokeFunction('convertToInteractive',\n",
              "                                                    [key], {});\n",
              "        if (!dataTable) return;\n",
              "\n",
              "        const docLinkHtml = 'Like what you see? Visit the ' +\n",
              "          '<a target=\"_blank\" href=https://colab.research.google.com/notebooks/data_table.ipynb>data table notebook</a>'\n",
              "          + ' to learn more about interactive tables.';\n",
              "        element.innerHTML = '';\n",
              "        dataTable['output_type'] = 'display_data';\n",
              "        await google.colab.output.renderOutput(dataTable, element);\n",
              "        const docLink = document.createElement('div');\n",
              "        docLink.innerHTML = docLinkHtml;\n",
              "        element.appendChild(docLink);\n",
              "      }\n",
              "    </script>\n",
              "  </div>\n",
              "\n",
              "\n",
              "<div id=\"df-2e55a75d-4e98-4323-9dea-ffaec9047cd7\">\n",
              "  <button class=\"colab-df-quickchart\" onclick=\"quickchart('df-2e55a75d-4e98-4323-9dea-ffaec9047cd7')\"\n",
              "            title=\"Suggest charts.\"\n",
              "            style=\"display:none;\">\n",
              "\n",
              "<svg xmlns=\"http://www.w3.org/2000/svg\" height=\"24px\"viewBox=\"0 0 24 24\"\n",
              "     width=\"24px\">\n",
              "    <g>\n",
              "        <path d=\"M19 3H5c-1.1 0-2 .9-2 2v14c0 1.1.9 2 2 2h14c1.1 0 2-.9 2-2V5c0-1.1-.9-2-2-2zM9 17H7v-7h2v7zm4 0h-2V7h2v10zm4 0h-2v-4h2v4z\"/>\n",
              "    </g>\n",
              "</svg>\n",
              "  </button>\n",
              "\n",
              "<style>\n",
              "  .colab-df-quickchart {\n",
              "      --bg-color: #E8F0FE;\n",
              "      --fill-color: #1967D2;\n",
              "      --hover-bg-color: #E2EBFA;\n",
              "      --hover-fill-color: #174EA6;\n",
              "      --disabled-fill-color: #AAA;\n",
              "      --disabled-bg-color: #DDD;\n",
              "  }\n",
              "\n",
              "  [theme=dark] .colab-df-quickchart {\n",
              "      --bg-color: #3B4455;\n",
              "      --fill-color: #D2E3FC;\n",
              "      --hover-bg-color: #434B5C;\n",
              "      --hover-fill-color: #FFFFFF;\n",
              "      --disabled-bg-color: #3B4455;\n",
              "      --disabled-fill-color: #666;\n",
              "  }\n",
              "\n",
              "  .colab-df-quickchart {\n",
              "    background-color: var(--bg-color);\n",
              "    border: none;\n",
              "    border-radius: 50%;\n",
              "    cursor: pointer;\n",
              "    display: none;\n",
              "    fill: var(--fill-color);\n",
              "    height: 32px;\n",
              "    padding: 0;\n",
              "    width: 32px;\n",
              "  }\n",
              "\n",
              "  .colab-df-quickchart:hover {\n",
              "    background-color: var(--hover-bg-color);\n",
              "    box-shadow: 0 1px 2px rgba(60, 64, 67, 0.3), 0 1px 3px 1px rgba(60, 64, 67, 0.15);\n",
              "    fill: var(--button-hover-fill-color);\n",
              "  }\n",
              "\n",
              "  .colab-df-quickchart-complete:disabled,\n",
              "  .colab-df-quickchart-complete:disabled:hover {\n",
              "    background-color: var(--disabled-bg-color);\n",
              "    fill: var(--disabled-fill-color);\n",
              "    box-shadow: none;\n",
              "  }\n",
              "\n",
              "  .colab-df-spinner {\n",
              "    border: 2px solid var(--fill-color);\n",
              "    border-color: transparent;\n",
              "    border-bottom-color: var(--fill-color);\n",
              "    animation:\n",
              "      spin 1s steps(1) infinite;\n",
              "  }\n",
              "\n",
              "  @keyframes spin {\n",
              "    0% {\n",
              "      border-color: transparent;\n",
              "      border-bottom-color: var(--fill-color);\n",
              "      border-left-color: var(--fill-color);\n",
              "    }\n",
              "    20% {\n",
              "      border-color: transparent;\n",
              "      border-left-color: var(--fill-color);\n",
              "      border-top-color: var(--fill-color);\n",
              "    }\n",
              "    30% {\n",
              "      border-color: transparent;\n",
              "      border-left-color: var(--fill-color);\n",
              "      border-top-color: var(--fill-color);\n",
              "      border-right-color: var(--fill-color);\n",
              "    }\n",
              "    40% {\n",
              "      border-color: transparent;\n",
              "      border-right-color: var(--fill-color);\n",
              "      border-top-color: var(--fill-color);\n",
              "    }\n",
              "    60% {\n",
              "      border-color: transparent;\n",
              "      border-right-color: var(--fill-color);\n",
              "    }\n",
              "    80% {\n",
              "      border-color: transparent;\n",
              "      border-right-color: var(--fill-color);\n",
              "      border-bottom-color: var(--fill-color);\n",
              "    }\n",
              "    90% {\n",
              "      border-color: transparent;\n",
              "      border-bottom-color: var(--fill-color);\n",
              "    }\n",
              "  }\n",
              "</style>\n",
              "\n",
              "  <script>\n",
              "    async function quickchart(key) {\n",
              "      const quickchartButtonEl =\n",
              "        document.querySelector('#' + key + ' button');\n",
              "      quickchartButtonEl.disabled = true;  // To prevent multiple clicks.\n",
              "      quickchartButtonEl.classList.add('colab-df-spinner');\n",
              "      try {\n",
              "        const charts = await google.colab.kernel.invokeFunction(\n",
              "            'suggestCharts', [key], {});\n",
              "      } catch (error) {\n",
              "        console.error('Error during call to suggestCharts:', error);\n",
              "      }\n",
              "      quickchartButtonEl.classList.remove('colab-df-spinner');\n",
              "      quickchartButtonEl.classList.add('colab-df-quickchart-complete');\n",
              "    }\n",
              "    (() => {\n",
              "      let quickchartButtonEl =\n",
              "        document.querySelector('#df-2e55a75d-4e98-4323-9dea-ffaec9047cd7 button');\n",
              "      quickchartButtonEl.style.display =\n",
              "        google.colab.kernel.accessAllowed ? 'block' : 'none';\n",
              "    })();\n",
              "  </script>\n",
              "</div>\n",
              "    </div>\n",
              "  </div>\n"
            ]
          },
          "metadata": {},
          "execution_count": 30
        }
      ]
    },
    {
      "cell_type": "code",
      "source": [
        "df.tail()"
      ],
      "metadata": {
        "colab": {
          "base_uri": "https://localhost:8080/",
          "height": 241
        },
        "id": "wi8reUPLFV5k",
        "outputId": "290f4504-2dc4-4c02-9a2c-3a37fa986374"
      },
      "execution_count": 31,
      "outputs": [
        {
          "output_type": "execute_result",
          "data": {
            "text/plain": [
              "        UDI Product ID Type  Air temperature [K]  Process temperature [K]  \\\n",
              "9995   9996     M24855    M                298.8                    308.4   \n",
              "9996   9997     H39410    H                298.9                    308.4   \n",
              "9997   9998     M24857    M                299.0                    308.6   \n",
              "9998   9999     H39412    H                299.0                    308.7   \n",
              "9999  10000     M24859    M                299.0                    308.7   \n",
              "\n",
              "      Rotational speed [rpm]  Torque [Nm]  Tool wear [min]  Target  \\\n",
              "9995                    1604         29.5               14       0   \n",
              "9996                    1632         31.8               17       0   \n",
              "9997                    1645         33.4               22       0   \n",
              "9998                    1408         48.5               25       0   \n",
              "9999                    1500         40.2               30       0   \n",
              "\n",
              "     Failure Type  \n",
              "9995   No Failure  \n",
              "9996   No Failure  \n",
              "9997   No Failure  \n",
              "9998   No Failure  \n",
              "9999   No Failure  "
            ],
            "text/html": [
              "\n",
              "  <div id=\"df-1a7dc8b0-3b33-459d-a3df-c103067a8148\" class=\"colab-df-container\">\n",
              "    <div>\n",
              "<style scoped>\n",
              "    .dataframe tbody tr th:only-of-type {\n",
              "        vertical-align: middle;\n",
              "    }\n",
              "\n",
              "    .dataframe tbody tr th {\n",
              "        vertical-align: top;\n",
              "    }\n",
              "\n",
              "    .dataframe thead th {\n",
              "        text-align: right;\n",
              "    }\n",
              "</style>\n",
              "<table border=\"1\" class=\"dataframe\">\n",
              "  <thead>\n",
              "    <tr style=\"text-align: right;\">\n",
              "      <th></th>\n",
              "      <th>UDI</th>\n",
              "      <th>Product ID</th>\n",
              "      <th>Type</th>\n",
              "      <th>Air temperature [K]</th>\n",
              "      <th>Process temperature [K]</th>\n",
              "      <th>Rotational speed [rpm]</th>\n",
              "      <th>Torque [Nm]</th>\n",
              "      <th>Tool wear [min]</th>\n",
              "      <th>Target</th>\n",
              "      <th>Failure Type</th>\n",
              "    </tr>\n",
              "  </thead>\n",
              "  <tbody>\n",
              "    <tr>\n",
              "      <th>9995</th>\n",
              "      <td>9996</td>\n",
              "      <td>M24855</td>\n",
              "      <td>M</td>\n",
              "      <td>298.8</td>\n",
              "      <td>308.4</td>\n",
              "      <td>1604</td>\n",
              "      <td>29.5</td>\n",
              "      <td>14</td>\n",
              "      <td>0</td>\n",
              "      <td>No Failure</td>\n",
              "    </tr>\n",
              "    <tr>\n",
              "      <th>9996</th>\n",
              "      <td>9997</td>\n",
              "      <td>H39410</td>\n",
              "      <td>H</td>\n",
              "      <td>298.9</td>\n",
              "      <td>308.4</td>\n",
              "      <td>1632</td>\n",
              "      <td>31.8</td>\n",
              "      <td>17</td>\n",
              "      <td>0</td>\n",
              "      <td>No Failure</td>\n",
              "    </tr>\n",
              "    <tr>\n",
              "      <th>9997</th>\n",
              "      <td>9998</td>\n",
              "      <td>M24857</td>\n",
              "      <td>M</td>\n",
              "      <td>299.0</td>\n",
              "      <td>308.6</td>\n",
              "      <td>1645</td>\n",
              "      <td>33.4</td>\n",
              "      <td>22</td>\n",
              "      <td>0</td>\n",
              "      <td>No Failure</td>\n",
              "    </tr>\n",
              "    <tr>\n",
              "      <th>9998</th>\n",
              "      <td>9999</td>\n",
              "      <td>H39412</td>\n",
              "      <td>H</td>\n",
              "      <td>299.0</td>\n",
              "      <td>308.7</td>\n",
              "      <td>1408</td>\n",
              "      <td>48.5</td>\n",
              "      <td>25</td>\n",
              "      <td>0</td>\n",
              "      <td>No Failure</td>\n",
              "    </tr>\n",
              "    <tr>\n",
              "      <th>9999</th>\n",
              "      <td>10000</td>\n",
              "      <td>M24859</td>\n",
              "      <td>M</td>\n",
              "      <td>299.0</td>\n",
              "      <td>308.7</td>\n",
              "      <td>1500</td>\n",
              "      <td>40.2</td>\n",
              "      <td>30</td>\n",
              "      <td>0</td>\n",
              "      <td>No Failure</td>\n",
              "    </tr>\n",
              "  </tbody>\n",
              "</table>\n",
              "</div>\n",
              "    <div class=\"colab-df-buttons\">\n",
              "\n",
              "  <div class=\"colab-df-container\">\n",
              "    <button class=\"colab-df-convert\" onclick=\"convertToInteractive('df-1a7dc8b0-3b33-459d-a3df-c103067a8148')\"\n",
              "            title=\"Convert this dataframe to an interactive table.\"\n",
              "            style=\"display:none;\">\n",
              "\n",
              "  <svg xmlns=\"http://www.w3.org/2000/svg\" height=\"24px\" viewBox=\"0 -960 960 960\">\n",
              "    <path d=\"M120-120v-720h720v720H120Zm60-500h600v-160H180v160Zm220 220h160v-160H400v160Zm0 220h160v-160H400v160ZM180-400h160v-160H180v160Zm440 0h160v-160H620v160ZM180-180h160v-160H180v160Zm440 0h160v-160H620v160Z\"/>\n",
              "  </svg>\n",
              "    </button>\n",
              "\n",
              "  <style>\n",
              "    .colab-df-container {\n",
              "      display:flex;\n",
              "      gap: 12px;\n",
              "    }\n",
              "\n",
              "    .colab-df-convert {\n",
              "      background-color: #E8F0FE;\n",
              "      border: none;\n",
              "      border-radius: 50%;\n",
              "      cursor: pointer;\n",
              "      display: none;\n",
              "      fill: #1967D2;\n",
              "      height: 32px;\n",
              "      padding: 0 0 0 0;\n",
              "      width: 32px;\n",
              "    }\n",
              "\n",
              "    .colab-df-convert:hover {\n",
              "      background-color: #E2EBFA;\n",
              "      box-shadow: 0px 1px 2px rgba(60, 64, 67, 0.3), 0px 1px 3px 1px rgba(60, 64, 67, 0.15);\n",
              "      fill: #174EA6;\n",
              "    }\n",
              "\n",
              "    .colab-df-buttons div {\n",
              "      margin-bottom: 4px;\n",
              "    }\n",
              "\n",
              "    [theme=dark] .colab-df-convert {\n",
              "      background-color: #3B4455;\n",
              "      fill: #D2E3FC;\n",
              "    }\n",
              "\n",
              "    [theme=dark] .colab-df-convert:hover {\n",
              "      background-color: #434B5C;\n",
              "      box-shadow: 0px 1px 3px 1px rgba(0, 0, 0, 0.15);\n",
              "      filter: drop-shadow(0px 1px 2px rgba(0, 0, 0, 0.3));\n",
              "      fill: #FFFFFF;\n",
              "    }\n",
              "  </style>\n",
              "\n",
              "    <script>\n",
              "      const buttonEl =\n",
              "        document.querySelector('#df-1a7dc8b0-3b33-459d-a3df-c103067a8148 button.colab-df-convert');\n",
              "      buttonEl.style.display =\n",
              "        google.colab.kernel.accessAllowed ? 'block' : 'none';\n",
              "\n",
              "      async function convertToInteractive(key) {\n",
              "        const element = document.querySelector('#df-1a7dc8b0-3b33-459d-a3df-c103067a8148');\n",
              "        const dataTable =\n",
              "          await google.colab.kernel.invokeFunction('convertToInteractive',\n",
              "                                                    [key], {});\n",
              "        if (!dataTable) return;\n",
              "\n",
              "        const docLinkHtml = 'Like what you see? Visit the ' +\n",
              "          '<a target=\"_blank\" href=https://colab.research.google.com/notebooks/data_table.ipynb>data table notebook</a>'\n",
              "          + ' to learn more about interactive tables.';\n",
              "        element.innerHTML = '';\n",
              "        dataTable['output_type'] = 'display_data';\n",
              "        await google.colab.output.renderOutput(dataTable, element);\n",
              "        const docLink = document.createElement('div');\n",
              "        docLink.innerHTML = docLinkHtml;\n",
              "        element.appendChild(docLink);\n",
              "      }\n",
              "    </script>\n",
              "  </div>\n",
              "\n",
              "\n",
              "<div id=\"df-440c0e35-9364-4e7d-a7a7-3b6590f9f71e\">\n",
              "  <button class=\"colab-df-quickchart\" onclick=\"quickchart('df-440c0e35-9364-4e7d-a7a7-3b6590f9f71e')\"\n",
              "            title=\"Suggest charts.\"\n",
              "            style=\"display:none;\">\n",
              "\n",
              "<svg xmlns=\"http://www.w3.org/2000/svg\" height=\"24px\"viewBox=\"0 0 24 24\"\n",
              "     width=\"24px\">\n",
              "    <g>\n",
              "        <path d=\"M19 3H5c-1.1 0-2 .9-2 2v14c0 1.1.9 2 2 2h14c1.1 0 2-.9 2-2V5c0-1.1-.9-2-2-2zM9 17H7v-7h2v7zm4 0h-2V7h2v10zm4 0h-2v-4h2v4z\"/>\n",
              "    </g>\n",
              "</svg>\n",
              "  </button>\n",
              "\n",
              "<style>\n",
              "  .colab-df-quickchart {\n",
              "      --bg-color: #E8F0FE;\n",
              "      --fill-color: #1967D2;\n",
              "      --hover-bg-color: #E2EBFA;\n",
              "      --hover-fill-color: #174EA6;\n",
              "      --disabled-fill-color: #AAA;\n",
              "      --disabled-bg-color: #DDD;\n",
              "  }\n",
              "\n",
              "  [theme=dark] .colab-df-quickchart {\n",
              "      --bg-color: #3B4455;\n",
              "      --fill-color: #D2E3FC;\n",
              "      --hover-bg-color: #434B5C;\n",
              "      --hover-fill-color: #FFFFFF;\n",
              "      --disabled-bg-color: #3B4455;\n",
              "      --disabled-fill-color: #666;\n",
              "  }\n",
              "\n",
              "  .colab-df-quickchart {\n",
              "    background-color: var(--bg-color);\n",
              "    border: none;\n",
              "    border-radius: 50%;\n",
              "    cursor: pointer;\n",
              "    display: none;\n",
              "    fill: var(--fill-color);\n",
              "    height: 32px;\n",
              "    padding: 0;\n",
              "    width: 32px;\n",
              "  }\n",
              "\n",
              "  .colab-df-quickchart:hover {\n",
              "    background-color: var(--hover-bg-color);\n",
              "    box-shadow: 0 1px 2px rgba(60, 64, 67, 0.3), 0 1px 3px 1px rgba(60, 64, 67, 0.15);\n",
              "    fill: var(--button-hover-fill-color);\n",
              "  }\n",
              "\n",
              "  .colab-df-quickchart-complete:disabled,\n",
              "  .colab-df-quickchart-complete:disabled:hover {\n",
              "    background-color: var(--disabled-bg-color);\n",
              "    fill: var(--disabled-fill-color);\n",
              "    box-shadow: none;\n",
              "  }\n",
              "\n",
              "  .colab-df-spinner {\n",
              "    border: 2px solid var(--fill-color);\n",
              "    border-color: transparent;\n",
              "    border-bottom-color: var(--fill-color);\n",
              "    animation:\n",
              "      spin 1s steps(1) infinite;\n",
              "  }\n",
              "\n",
              "  @keyframes spin {\n",
              "    0% {\n",
              "      border-color: transparent;\n",
              "      border-bottom-color: var(--fill-color);\n",
              "      border-left-color: var(--fill-color);\n",
              "    }\n",
              "    20% {\n",
              "      border-color: transparent;\n",
              "      border-left-color: var(--fill-color);\n",
              "      border-top-color: var(--fill-color);\n",
              "    }\n",
              "    30% {\n",
              "      border-color: transparent;\n",
              "      border-left-color: var(--fill-color);\n",
              "      border-top-color: var(--fill-color);\n",
              "      border-right-color: var(--fill-color);\n",
              "    }\n",
              "    40% {\n",
              "      border-color: transparent;\n",
              "      border-right-color: var(--fill-color);\n",
              "      border-top-color: var(--fill-color);\n",
              "    }\n",
              "    60% {\n",
              "      border-color: transparent;\n",
              "      border-right-color: var(--fill-color);\n",
              "    }\n",
              "    80% {\n",
              "      border-color: transparent;\n",
              "      border-right-color: var(--fill-color);\n",
              "      border-bottom-color: var(--fill-color);\n",
              "    }\n",
              "    90% {\n",
              "      border-color: transparent;\n",
              "      border-bottom-color: var(--fill-color);\n",
              "    }\n",
              "  }\n",
              "</style>\n",
              "\n",
              "  <script>\n",
              "    async function quickchart(key) {\n",
              "      const quickchartButtonEl =\n",
              "        document.querySelector('#' + key + ' button');\n",
              "      quickchartButtonEl.disabled = true;  // To prevent multiple clicks.\n",
              "      quickchartButtonEl.classList.add('colab-df-spinner');\n",
              "      try {\n",
              "        const charts = await google.colab.kernel.invokeFunction(\n",
              "            'suggestCharts', [key], {});\n",
              "      } catch (error) {\n",
              "        console.error('Error during call to suggestCharts:', error);\n",
              "      }\n",
              "      quickchartButtonEl.classList.remove('colab-df-spinner');\n",
              "      quickchartButtonEl.classList.add('colab-df-quickchart-complete');\n",
              "    }\n",
              "    (() => {\n",
              "      let quickchartButtonEl =\n",
              "        document.querySelector('#df-440c0e35-9364-4e7d-a7a7-3b6590f9f71e button');\n",
              "      quickchartButtonEl.style.display =\n",
              "        google.colab.kernel.accessAllowed ? 'block' : 'none';\n",
              "    })();\n",
              "  </script>\n",
              "</div>\n",
              "    </div>\n",
              "  </div>\n"
            ]
          },
          "metadata": {},
          "execution_count": 31
        }
      ]
    },
    {
      "cell_type": "code",
      "source": [
        "df.drop_duplicates();"
      ],
      "metadata": {
        "id": "OIaEjnTEEwdB"
      },
      "execution_count": 32,
      "outputs": []
    },
    {
      "cell_type": "code",
      "source": [
        "products_uniques = df['Product ID'].value_counts()\n",
        "products_uniques"
      ],
      "metadata": {
        "colab": {
          "base_uri": "https://localhost:8080/"
        },
        "id": "AEJX6rfgGd09",
        "outputId": "ae19f9e5-5c96-4350-a124-78a6589cf2c4"
      },
      "execution_count": 33,
      "outputs": [
        {
          "output_type": "execute_result",
          "data": {
            "text/plain": [
              "M14860    1\n",
              "L53850    1\n",
              "L53843    1\n",
              "L53844    1\n",
              "L53845    1\n",
              "         ..\n",
              "M18193    1\n",
              "M18194    1\n",
              "L50515    1\n",
              "L50516    1\n",
              "M24859    1\n",
              "Name: Product ID, Length: 10000, dtype: int64"
            ]
          },
          "metadata": {},
          "execution_count": 33
        }
      ]
    },
    {
      "cell_type": "code",
      "source": [
        "df.info()"
      ],
      "metadata": {
        "colab": {
          "base_uri": "https://localhost:8080/"
        },
        "id": "zL4zoCL5EQOY",
        "outputId": "4144a172-b705-4984-c551-04e00077580d"
      },
      "execution_count": 34,
      "outputs": [
        {
          "output_type": "stream",
          "name": "stdout",
          "text": [
            "<class 'pandas.core.frame.DataFrame'>\n",
            "RangeIndex: 10000 entries, 0 to 9999\n",
            "Data columns (total 10 columns):\n",
            " #   Column                   Non-Null Count  Dtype  \n",
            "---  ------                   --------------  -----  \n",
            " 0   UDI                      10000 non-null  int64  \n",
            " 1   Product ID               10000 non-null  object \n",
            " 2   Type                     10000 non-null  object \n",
            " 3   Air temperature [K]      10000 non-null  float64\n",
            " 4   Process temperature [K]  10000 non-null  float64\n",
            " 5   Rotational speed [rpm]   10000 non-null  int64  \n",
            " 6   Torque [Nm]              10000 non-null  float64\n",
            " 7   Tool wear [min]          10000 non-null  int64  \n",
            " 8   Target                   10000 non-null  int64  \n",
            " 9   Failure Type             10000 non-null  object \n",
            "dtypes: float64(3), int64(4), object(3)\n",
            "memory usage: 781.4+ KB\n"
          ]
        }
      ]
    },
    {
      "cell_type": "markdown",
      "source": [
        "As a first view, we can extract some information:\n",
        "\n",
        "* There are no null or missing values\n",
        "* There are three categorical variables\n",
        "* There are no repeated products, therefore, we will eliminate this information in the future to work with machine learning algorithms"
      ],
      "metadata": {
        "id": "ib8BwJ-mEVuS"
      }
    },
    {
      "cell_type": "code",
      "source": [
        "# Transforming Units of measure:\n",
        "df['Air temperature [K]'] = (df['Air temperature [K]']-273.15)\n",
        "df['Process temperature [K]'] = (df['Process temperature [K]']-273.15)\n",
        "df = df.rename(columns={'Air temperature [K]': 'Air temperature [°C]', 'Process temperature [K]': 'Process temperature [°C]'})"
      ],
      "metadata": {
        "id": "jMg4deUHH0Ee"
      },
      "execution_count": 35,
      "outputs": []
    },
    {
      "cell_type": "code",
      "source": [
        "# Let's remove UDI and Product ID\n",
        "df = df.drop('UDI', axis=1)\n",
        "df = df.drop('Product ID', axis=1)"
      ],
      "metadata": {
        "id": "XgVorep5VfYL"
      },
      "execution_count": 36,
      "outputs": []
    },
    {
      "cell_type": "code",
      "source": [
        "df.head()"
      ],
      "metadata": {
        "colab": {
          "base_uri": "https://localhost:8080/",
          "height": 224
        },
        "id": "hHz6EKUfEMUR",
        "outputId": "7bd622da-7c79-4db9-deb2-22a540b860fd"
      },
      "execution_count": 37,
      "outputs": [
        {
          "output_type": "execute_result",
          "data": {
            "text/plain": [
              "  Type  Air temperature [°C]  Process temperature [°C]  \\\n",
              "0    M                 24.95                     35.45   \n",
              "1    L                 25.05                     35.55   \n",
              "2    L                 24.95                     35.35   \n",
              "3    L                 25.05                     35.45   \n",
              "4    L                 25.05                     35.55   \n",
              "\n",
              "   Rotational speed [rpm]  Torque [Nm]  Tool wear [min]  Target Failure Type  \n",
              "0                    1551         42.8                0       0   No Failure  \n",
              "1                    1408         46.3                3       0   No Failure  \n",
              "2                    1498         49.4                5       0   No Failure  \n",
              "3                    1433         39.5                7       0   No Failure  \n",
              "4                    1408         40.0                9       0   No Failure  "
            ],
            "text/html": [
              "\n",
              "  <div id=\"df-295264cb-fef5-4816-9a6e-ec3b95554750\" class=\"colab-df-container\">\n",
              "    <div>\n",
              "<style scoped>\n",
              "    .dataframe tbody tr th:only-of-type {\n",
              "        vertical-align: middle;\n",
              "    }\n",
              "\n",
              "    .dataframe tbody tr th {\n",
              "        vertical-align: top;\n",
              "    }\n",
              "\n",
              "    .dataframe thead th {\n",
              "        text-align: right;\n",
              "    }\n",
              "</style>\n",
              "<table border=\"1\" class=\"dataframe\">\n",
              "  <thead>\n",
              "    <tr style=\"text-align: right;\">\n",
              "      <th></th>\n",
              "      <th>Type</th>\n",
              "      <th>Air temperature [°C]</th>\n",
              "      <th>Process temperature [°C]</th>\n",
              "      <th>Rotational speed [rpm]</th>\n",
              "      <th>Torque [Nm]</th>\n",
              "      <th>Tool wear [min]</th>\n",
              "      <th>Target</th>\n",
              "      <th>Failure Type</th>\n",
              "    </tr>\n",
              "  </thead>\n",
              "  <tbody>\n",
              "    <tr>\n",
              "      <th>0</th>\n",
              "      <td>M</td>\n",
              "      <td>24.95</td>\n",
              "      <td>35.45</td>\n",
              "      <td>1551</td>\n",
              "      <td>42.8</td>\n",
              "      <td>0</td>\n",
              "      <td>0</td>\n",
              "      <td>No Failure</td>\n",
              "    </tr>\n",
              "    <tr>\n",
              "      <th>1</th>\n",
              "      <td>L</td>\n",
              "      <td>25.05</td>\n",
              "      <td>35.55</td>\n",
              "      <td>1408</td>\n",
              "      <td>46.3</td>\n",
              "      <td>3</td>\n",
              "      <td>0</td>\n",
              "      <td>No Failure</td>\n",
              "    </tr>\n",
              "    <tr>\n",
              "      <th>2</th>\n",
              "      <td>L</td>\n",
              "      <td>24.95</td>\n",
              "      <td>35.35</td>\n",
              "      <td>1498</td>\n",
              "      <td>49.4</td>\n",
              "      <td>5</td>\n",
              "      <td>0</td>\n",
              "      <td>No Failure</td>\n",
              "    </tr>\n",
              "    <tr>\n",
              "      <th>3</th>\n",
              "      <td>L</td>\n",
              "      <td>25.05</td>\n",
              "      <td>35.45</td>\n",
              "      <td>1433</td>\n",
              "      <td>39.5</td>\n",
              "      <td>7</td>\n",
              "      <td>0</td>\n",
              "      <td>No Failure</td>\n",
              "    </tr>\n",
              "    <tr>\n",
              "      <th>4</th>\n",
              "      <td>L</td>\n",
              "      <td>25.05</td>\n",
              "      <td>35.55</td>\n",
              "      <td>1408</td>\n",
              "      <td>40.0</td>\n",
              "      <td>9</td>\n",
              "      <td>0</td>\n",
              "      <td>No Failure</td>\n",
              "    </tr>\n",
              "  </tbody>\n",
              "</table>\n",
              "</div>\n",
              "    <div class=\"colab-df-buttons\">\n",
              "\n",
              "  <div class=\"colab-df-container\">\n",
              "    <button class=\"colab-df-convert\" onclick=\"convertToInteractive('df-295264cb-fef5-4816-9a6e-ec3b95554750')\"\n",
              "            title=\"Convert this dataframe to an interactive table.\"\n",
              "            style=\"display:none;\">\n",
              "\n",
              "  <svg xmlns=\"http://www.w3.org/2000/svg\" height=\"24px\" viewBox=\"0 -960 960 960\">\n",
              "    <path d=\"M120-120v-720h720v720H120Zm60-500h600v-160H180v160Zm220 220h160v-160H400v160Zm0 220h160v-160H400v160ZM180-400h160v-160H180v160Zm440 0h160v-160H620v160ZM180-180h160v-160H180v160Zm440 0h160v-160H620v160Z\"/>\n",
              "  </svg>\n",
              "    </button>\n",
              "\n",
              "  <style>\n",
              "    .colab-df-container {\n",
              "      display:flex;\n",
              "      gap: 12px;\n",
              "    }\n",
              "\n",
              "    .colab-df-convert {\n",
              "      background-color: #E8F0FE;\n",
              "      border: none;\n",
              "      border-radius: 50%;\n",
              "      cursor: pointer;\n",
              "      display: none;\n",
              "      fill: #1967D2;\n",
              "      height: 32px;\n",
              "      padding: 0 0 0 0;\n",
              "      width: 32px;\n",
              "    }\n",
              "\n",
              "    .colab-df-convert:hover {\n",
              "      background-color: #E2EBFA;\n",
              "      box-shadow: 0px 1px 2px rgba(60, 64, 67, 0.3), 0px 1px 3px 1px rgba(60, 64, 67, 0.15);\n",
              "      fill: #174EA6;\n",
              "    }\n",
              "\n",
              "    .colab-df-buttons div {\n",
              "      margin-bottom: 4px;\n",
              "    }\n",
              "\n",
              "    [theme=dark] .colab-df-convert {\n",
              "      background-color: #3B4455;\n",
              "      fill: #D2E3FC;\n",
              "    }\n",
              "\n",
              "    [theme=dark] .colab-df-convert:hover {\n",
              "      background-color: #434B5C;\n",
              "      box-shadow: 0px 1px 3px 1px rgba(0, 0, 0, 0.15);\n",
              "      filter: drop-shadow(0px 1px 2px rgba(0, 0, 0, 0.3));\n",
              "      fill: #FFFFFF;\n",
              "    }\n",
              "  </style>\n",
              "\n",
              "    <script>\n",
              "      const buttonEl =\n",
              "        document.querySelector('#df-295264cb-fef5-4816-9a6e-ec3b95554750 button.colab-df-convert');\n",
              "      buttonEl.style.display =\n",
              "        google.colab.kernel.accessAllowed ? 'block' : 'none';\n",
              "\n",
              "      async function convertToInteractive(key) {\n",
              "        const element = document.querySelector('#df-295264cb-fef5-4816-9a6e-ec3b95554750');\n",
              "        const dataTable =\n",
              "          await google.colab.kernel.invokeFunction('convertToInteractive',\n",
              "                                                    [key], {});\n",
              "        if (!dataTable) return;\n",
              "\n",
              "        const docLinkHtml = 'Like what you see? Visit the ' +\n",
              "          '<a target=\"_blank\" href=https://colab.research.google.com/notebooks/data_table.ipynb>data table notebook</a>'\n",
              "          + ' to learn more about interactive tables.';\n",
              "        element.innerHTML = '';\n",
              "        dataTable['output_type'] = 'display_data';\n",
              "        await google.colab.output.renderOutput(dataTable, element);\n",
              "        const docLink = document.createElement('div');\n",
              "        docLink.innerHTML = docLinkHtml;\n",
              "        element.appendChild(docLink);\n",
              "      }\n",
              "    </script>\n",
              "  </div>\n",
              "\n",
              "\n",
              "<div id=\"df-3881ea0d-adce-4af1-9428-5abc3aedffd0\">\n",
              "  <button class=\"colab-df-quickchart\" onclick=\"quickchart('df-3881ea0d-adce-4af1-9428-5abc3aedffd0')\"\n",
              "            title=\"Suggest charts.\"\n",
              "            style=\"display:none;\">\n",
              "\n",
              "<svg xmlns=\"http://www.w3.org/2000/svg\" height=\"24px\"viewBox=\"0 0 24 24\"\n",
              "     width=\"24px\">\n",
              "    <g>\n",
              "        <path d=\"M19 3H5c-1.1 0-2 .9-2 2v14c0 1.1.9 2 2 2h14c1.1 0 2-.9 2-2V5c0-1.1-.9-2-2-2zM9 17H7v-7h2v7zm4 0h-2V7h2v10zm4 0h-2v-4h2v4z\"/>\n",
              "    </g>\n",
              "</svg>\n",
              "  </button>\n",
              "\n",
              "<style>\n",
              "  .colab-df-quickchart {\n",
              "      --bg-color: #E8F0FE;\n",
              "      --fill-color: #1967D2;\n",
              "      --hover-bg-color: #E2EBFA;\n",
              "      --hover-fill-color: #174EA6;\n",
              "      --disabled-fill-color: #AAA;\n",
              "      --disabled-bg-color: #DDD;\n",
              "  }\n",
              "\n",
              "  [theme=dark] .colab-df-quickchart {\n",
              "      --bg-color: #3B4455;\n",
              "      --fill-color: #D2E3FC;\n",
              "      --hover-bg-color: #434B5C;\n",
              "      --hover-fill-color: #FFFFFF;\n",
              "      --disabled-bg-color: #3B4455;\n",
              "      --disabled-fill-color: #666;\n",
              "  }\n",
              "\n",
              "  .colab-df-quickchart {\n",
              "    background-color: var(--bg-color);\n",
              "    border: none;\n",
              "    border-radius: 50%;\n",
              "    cursor: pointer;\n",
              "    display: none;\n",
              "    fill: var(--fill-color);\n",
              "    height: 32px;\n",
              "    padding: 0;\n",
              "    width: 32px;\n",
              "  }\n",
              "\n",
              "  .colab-df-quickchart:hover {\n",
              "    background-color: var(--hover-bg-color);\n",
              "    box-shadow: 0 1px 2px rgba(60, 64, 67, 0.3), 0 1px 3px 1px rgba(60, 64, 67, 0.15);\n",
              "    fill: var(--button-hover-fill-color);\n",
              "  }\n",
              "\n",
              "  .colab-df-quickchart-complete:disabled,\n",
              "  .colab-df-quickchart-complete:disabled:hover {\n",
              "    background-color: var(--disabled-bg-color);\n",
              "    fill: var(--disabled-fill-color);\n",
              "    box-shadow: none;\n",
              "  }\n",
              "\n",
              "  .colab-df-spinner {\n",
              "    border: 2px solid var(--fill-color);\n",
              "    border-color: transparent;\n",
              "    border-bottom-color: var(--fill-color);\n",
              "    animation:\n",
              "      spin 1s steps(1) infinite;\n",
              "  }\n",
              "\n",
              "  @keyframes spin {\n",
              "    0% {\n",
              "      border-color: transparent;\n",
              "      border-bottom-color: var(--fill-color);\n",
              "      border-left-color: var(--fill-color);\n",
              "    }\n",
              "    20% {\n",
              "      border-color: transparent;\n",
              "      border-left-color: var(--fill-color);\n",
              "      border-top-color: var(--fill-color);\n",
              "    }\n",
              "    30% {\n",
              "      border-color: transparent;\n",
              "      border-left-color: var(--fill-color);\n",
              "      border-top-color: var(--fill-color);\n",
              "      border-right-color: var(--fill-color);\n",
              "    }\n",
              "    40% {\n",
              "      border-color: transparent;\n",
              "      border-right-color: var(--fill-color);\n",
              "      border-top-color: var(--fill-color);\n",
              "    }\n",
              "    60% {\n",
              "      border-color: transparent;\n",
              "      border-right-color: var(--fill-color);\n",
              "    }\n",
              "    80% {\n",
              "      border-color: transparent;\n",
              "      border-right-color: var(--fill-color);\n",
              "      border-bottom-color: var(--fill-color);\n",
              "    }\n",
              "    90% {\n",
              "      border-color: transparent;\n",
              "      border-bottom-color: var(--fill-color);\n",
              "    }\n",
              "  }\n",
              "</style>\n",
              "\n",
              "  <script>\n",
              "    async function quickchart(key) {\n",
              "      const quickchartButtonEl =\n",
              "        document.querySelector('#' + key + ' button');\n",
              "      quickchartButtonEl.disabled = true;  // To prevent multiple clicks.\n",
              "      quickchartButtonEl.classList.add('colab-df-spinner');\n",
              "      try {\n",
              "        const charts = await google.colab.kernel.invokeFunction(\n",
              "            'suggestCharts', [key], {});\n",
              "      } catch (error) {\n",
              "        console.error('Error during call to suggestCharts:', error);\n",
              "      }\n",
              "      quickchartButtonEl.classList.remove('colab-df-spinner');\n",
              "      quickchartButtonEl.classList.add('colab-df-quickchart-complete');\n",
              "    }\n",
              "    (() => {\n",
              "      let quickchartButtonEl =\n",
              "        document.querySelector('#df-3881ea0d-adce-4af1-9428-5abc3aedffd0 button');\n",
              "      quickchartButtonEl.style.display =\n",
              "        google.colab.kernel.accessAllowed ? 'block' : 'none';\n",
              "    })();\n",
              "  </script>\n",
              "</div>\n",
              "    </div>\n",
              "  </div>\n"
            ]
          },
          "metadata": {},
          "execution_count": 37
        }
      ]
    },
    {
      "cell_type": "markdown",
      "source": [
        "In industry, time is gold so that, Let's use a library called: Sweetviz for doing our EDA faster.\n",
        "\n",
        "We need to set in this library our target variable, in our case it will be *Target* that can take two values, O for non failure and 1 for failure.\n",
        "\n",
        "This library creates for us a HTML report where we can see the main stadistics of our DataFrame as well as correlations and main descriptions.\n",
        "\n",
        "![image.png](data:image/png;base64,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)\n",
        "\n",
        "https://github.com/fbdesignpro/sweetviz"
      ],
      "metadata": {
        "id": "jnfoF1rqOq02"
      }
    },
    {
      "cell_type": "code",
      "source": [
        "# Installing sweetviz\n",
        "!pip install sweetviz"
      ],
      "metadata": {
        "id": "a874Ak5WJuMJ"
      },
      "execution_count": null,
      "outputs": []
    },
    {
      "cell_type": "code",
      "source": [
        "# Unsing sweetviz\n",
        "import sweetviz\n",
        "\n",
        "#using analyze\n",
        "analyze_df = sweetviz.analyze([df, \"df\"], target_feat = 'Target')"
      ],
      "metadata": {
        "id": "SWTB3q2AKhcB"
      },
      "execution_count": null,
      "outputs": []
    },
    {
      "cell_type": "code",
      "source": [
        "# Showing results:\n",
        "analyze_df.show_html('analyze.html')\n",
        "\n",
        "from IPython.display import display, HTML\n",
        "display(HTML(\"<style>div.output_scroll { height: 44em; }</style>\"))"
      ],
      "metadata": {
        "colab": {
          "base_uri": "https://localhost:8080/",
          "height": 54
        },
        "id": "ooyo2R8BKhZ3",
        "outputId": "b9ec3928-f6b4-412b-d951-24a6697d4009"
      },
      "execution_count": 40,
      "outputs": [
        {
          "output_type": "stream",
          "name": "stdout",
          "text": [
            "Report analyze.html was generated! NOTEBOOK/COLAB USERS: the web browser MAY not pop up, regardless, the report IS saved in your notebook/colab files.\n"
          ]
        },
        {
          "output_type": "display_data",
          "data": {
            "text/plain": [
              "<IPython.core.display.HTML object>"
            ],
            "text/html": [
              "<style>div.output_scroll { height: 44em; }</style>"
            ]
          },
          "metadata": {}
        }
      ]
    },
    {
      "cell_type": "markdown",
      "source": [
        "**Heatmap:**\n",
        "\n",
        "Let's check the relationships between our DataFrames:\n",
        "\n",
        "We can see how the most important part of our heatmap is the first row, where we apreciate how there is soft correlations between Target and Torque, Tool wear and Air Temperature.\n",
        "\n",
        "\n",
        "![image.png](data:image/png;base64,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)"
      ],
      "metadata": {
        "id": "l7xJ3PasUOCg"
      }
    },
    {
      "cell_type": "markdown",
      "source": [
        "**Let's speak about each variable:**\n"
      ],
      "metadata": {
        "id": "jIiYk2r6RDY9"
      }
    },
    {
      "cell_type": "markdown",
      "source": [
        "**Target**\n",
        "\n",
        "Target means that we have a failure in a product and it can take two values, 0 for no failure and 1 when a failure appears.\n",
        "\n",
        "We can see that in our data set only 3% of the products have problems.\n",
        "\n",
        "![image.png](data:image/png;base64,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)\n",
        "\n",
        "![image.png](data:image/png;base64,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)"
      ],
      "metadata": {
        "id": "J_D9FWFccacH"
      }
    },
    {
      "cell_type": "markdown",
      "source": [
        "**Type**\n",
        "\n",
        "Type represent the product quality. We have three quality types:\n",
        "\n",
        "*   L, Low quality\n",
        "*   M, Medium quality\n",
        "*   H, High quality\n",
        "\n",
        "On these figures, we can see how the product with more \"problems\" is the L that corresponds with less quality.\n",
        "\n",
        "Product L can be even 50% less productive than product H.\n",
        "\n",
        "\n",
        "\n",
        "![Target 1.png](data:image/png;base64,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)\n",
        "\n",
        "![image.png](data:image/png;base64,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)"
      ],
      "metadata": {
        "id": "O4upj6l5aV_I"
      }
    },
    {
      "cell_type": "markdown",
      "source": [
        "**Air Temperature [ºC]**\n",
        "\n",
        "Air temperature as its name indicate, the temperature of the air close to our products.\n",
        "\n",
        "As we are finding in the chart, we have to take special atention when the temperature is more than 28º (82,4ºF), because the failure tendency grows suddenly.  \n",
        "\n",
        "![Air 1.png](data:image/png;base64,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)\n",
        "\n",
        "![image.png](data:image/png;base64,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)\n",
        "\n",
        "In our dataset, there is no context about where are placed our products, type of industry or production requeriments, however, one of our firts insight would be keep the temperature below 28º(82.4ºF)\n",
        "\n"
      ],
      "metadata": {
        "id": "qamH4C7yYgKB"
      }
    },
    {
      "cell_type": "markdown",
      "source": [
        "**Process Temperature [ºC]**\n",
        "\n",
        "Process temperature means the temperature of working from our products.\n",
        "\n",
        "We should pay attention in the range between 36º(96.8ºF) and 40º(104ºF)\n",
        "\n",
        "![Process 1.png](data:image/png;base64,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)\n",
        "\n",
        "![image.png](data:image/png;base64,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)\n",
        "\n"
      ],
      "metadata": {
        "id": "dPLG09z0iC_y"
      }
    },
    {
      "cell_type": "markdown",
      "source": [
        "**Rotational speed [rpm]**\n",
        "\n",
        "Rotational speed means the laps per minute of our machine spindle.\n",
        "\n",
        "We should take attention when our products and machines are haveing overstrain failures.\n",
        "\n",
        "![image.png](data:image/png;base64,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)\n",
        "\n",
        "\n",
        "\n",
        "![image.png](data:image/png;base64,iVBORw0KGgoAAAANSUhEUgAAASYAAABwCAYAAACzZN2EAAAABGdBTUEAALGPC/xhBQAAAAlwSFlzAAAOwgAADsIBFShKgAAAJrJJREFUeF7tndlXVUfa//0vzGXuuu+Su/Tdu96r7r5p02ux8kKWhOAvgWh3jBqNRl1R0287YBRwYDQCxjiL4oBDnBCVQTSgOCLIIDNnn5EDJhff3/NU1T5n7332gcPbKgesi89i11NVG91V+1vPU8Nmzu+//w6NRqNJJkiYfqMLjUajSR60MGk0mqRDC5NGo0k64gjTXexJmYfvfxly2IdwacM8pBbftdu7jmNZylbUBaO2cHMhspceQte4sgXpnlmLcKwjWiYZCT72YelOD+Zs9uCdHwzsuB92LbNwmyzz7k4vTnWPy7x+P76nuu+41Q2P4uJRA3/K8eDvF0JRuyYJkP09VZH+2RocbPXay7j0cVkvA/seWmx9p7D221PoM9Nd57Fj6cdI53vPX4QdZ57Ar/JaiqO/U7IC5/pUvTfGGIKdAew7aOCPRwOx+Xe8op/bMXCkf4K6L6mvs436+hwi7WQAQes9E2BCYUrdcB4jVjs1zsq0lBhhelSRgZVfL3IImRdNuz7G2jMvImWyK1ot+clIAN/Tg1x6Y5Sux9F2zsCcbV7ctpUZxZEiD/56MkjXY7h9lB7+Hj+GKY+v36mg65fj6LlsrRsSdf5U5kdbSImYJong/l6IFpUOdxzH2vl2EXLv4+o9sQ7AVmESg/EKHHuo6oSfo2pNCnbc4v4lhWnPXVVvmui5YIhB9O88GB90ESYHw1epX5fI/h63bosX7+TQgO2hvt7vQyaJWc4D+30mYwJh2ood+UtQ1RW1P9q7CPv25tuFabwV+7KoUQfP43unkPlrsWP+BlxqpobmMrbRZgYgRgsvam32UZzaYxemd36SI8LtSocw7fShjes88OJ9aqiLPut9NMmDXZh+//0Fzn1r8V7i9nH5nuwpzcDaKjkA24Tpdj7SndGFhWQQpt/DY+Jn7cEEhOllECUkQt/Wyzpx66r+bhWmkilGShMIUyGaWvdg2V7l5Yyz+u/Bo7uFdmGidLYow2HeIpuQMSNXNpAb+zEKbztc46QnjIsVHrxPDzzGDe32I/MHagx2a3+gBhhW9lAAObnKTu7ujqey4XhkmZNvIFOFiP/NntNLy/0004xdmITHxH3d9ILi9nFVz08/F5KQ9ZDNIkx9Z1ZEIgY3YkK5CUTsdZOIMAXryRPiKMDRd2PrqkhCvAc0iJ/iQdxeZzImFKaW33mkkC5t+NZWrKx8Lhop+gBHUZdPMXarrOcnEVrGZSz36qteQcJE7mvtTBImCuPYTc0lbynGywlhX4EHf6/meaIwbh8nL0mEcmOigd7/OSA8JnZ5uT43ohAmatCLPIJ4Avh2mweZV6U7r0kGuL9bBCJzA6qemP11oj4eFTQ/eUfZa0iQ4gkTvzfq/qYtKTwmxeTCNIojJe7zo866QYo03jf7e78fC3M4lJvaFMYkwvQbuiqXUEz8gkYK5dpahSlIoZq1QZlMGmnM+wxfwSaO1Z9QY2Xlo8mv7EkNiRKFYe/mGtFJbSvkmqaRN7TvhUpHwj05P/X9HWV/4cPfVTkhTAU+9Kh7JDI6ad4k0f4uwzZLGDdhH7fU+92Luu0p2FSxJxrK0buSvr0WYZEvsYrVjBImCs/+xNMRodg8Z13hLUXSaiCf4oLPpMIkXNOsDGSbsbVFmEZ+WYMFtgltL2r+92M1uqiGuiIn/roOL0I21TNXJJIVVvs/5ZCguImSIIgc8nikxzSG+yepEcRckpx7inhMN+QEoGjIDh/+yvfsoNDORwJG4d5CMcHuvLdmerAKDHk/tVuFoHBfnbiP2+uJgTiNhMsUJiFyGdhRo7ym8VE8+unzGShMY7j4E/Xt4+75zrrD16wRgh9LacCOzEslyOTCJOLq6EpCVJjY/nnM8j+HfOn5tRgh13bBt8fRZ8bpqpH2NCfzCynV3YyNo3hRxV6PevjWLQX27QIB5BRRaEd2+3YB8sKueUmcqA6RdpTFy/p7NdOLQ2DE5PfHJBq9E/bxcEw9NXVhChMzWI99a9R2gbSPsbbgSmQFL2aOaVq2C0ic4iK8fDM96J9wAjtG1F6Oovbof7xd4CVdaCaj7QyNGJX88N3zNZrZxHT39zm//fYSmskIYl+RgSM9bnkazWxj+vu7FiaNRpN0uApTd3e3RpMwbn1Io/lP0B6TRqNJOrQwaTS/3cGelAI0m+mBelSolbT0zBWoaByMlO09vSK6ipb2MZZtv4zeMfM+s5TxMIae+JH/oweZF0JRe58fG3ZGV6Hz74VV+RAuHPTgXV7RzjGw5balToLEFabey1uxbD49/PmLkH+5J5rXcwwrI8ubxKpT6P3NQPPeRWKH95eld+Cz3GfmMYbAc3Vi+kjAJf8lAo6vC1R1jUXze/3YUsKNYmCfOXkoGiq6fJp6MoCAWV6TBFiEaawDx5ZmIP+a6vND9diTlYGKh7IsC9Pa0ypvbBC3izKwrLJD3Wd2cp1FZqeBv1Kf/9AiTI1HSJAq/BgaH0P3Jbl3qZHsQ1fomt6Le6NUrt2HD0mcqgbs95wMd2EaOofvM/Nx20PXnnoUZi5CVafKu1OA1KI79vKey9i05TIJkoGaLStQzf+InlM4cDk60swUuvkoCqn/h+rEdGwZ+aWAv5K4sIhx48zZ48MQ5/X4kErCs/BKEIFxS51mudmyaoQErE8eatzSasnXTDMWYXq4Bwu2X8eoJX+UN1yqPm8TJsbtfZhtjPLAK/f42YRJHVqPCNNOH56SnYUs+u5Qvd0eLL2lvKkEcRUmbogF5fcj6YflH2NttRQZ3+X1WHnS0jCMU5h6e1C9tQIPZ6KLKxrB+XCtjKJKfF0gKkzv/OQXHpDZUDHeUKs8bW0VpuJ2RxnNNBIVpuHqFbH9u/cU1orIwN1j+v6XmTcAT51YYfotGMAWy6H1/Cfy3eHBPeIxDfnF2VBbvQRISJisjcHX6fNTIvH3gfsG2a2hXD2aD29F1Qzf8xNfmIguEhfL1wWqhtguG+6/i8jlVSHb0mtmY4SlZyUaUJ62jrmnZhqZmjBFpjGIZUX1GJ7tc0wCpzCFxTvy/s/SY+LwjQ+tN3KkME5RBQ3ePPf0R3ofMkm8vr0tRStRSJjG6cJB5zEsE6EcXXvqKMaeRx7TgMwb7UZbu0dcj7Yfw9o0atCxaN3R5lL8cLoONVs/F0L1fTUvJ0fzZwpSmPwueUHZQGdZXEbReIwaQIRy0h5pqAYD79MocmRgHAFx2trABeUx8WnrLa3cUM57a6aHJiVMdP2wVIVylvzGfKSXNolrOUjLPj1M0UN2UZO97KxF9fsL3O857ccG6scb7qj8Hh8+FPOqZnmF14+FJFDF7Q77JLgLE9FbvR4L0sgrWlyKip2LUPHQrVw3qldx6KbSPmrgrVXo7a1C/k+PydUdQPUG1eAzjLjCRMKSam0A9XWB624NRw3CDSe8pci9nOU0049FmMba1eS3GlCHmlCxmCe/ZVmrMMmyi3Bsii/dzMTZb0NiSiMyEN8gjymHBt+gpQ6FekfKzIHbYk+AuMIkGAti+OEBrP36ADqFV+RBzZYMFN5U3hN5VmszS/FQeUxtR0txy0fXs1mYfqO4mmNm4TGFcU98XcCLp5T39Cw1QpEPT0ell8RfKagaGceQOG2tPKYRddq6btRxX830YREmZqAusl1AhGwbL8Gn8mzCRIzeKcCCVTQYq/TsxWVA7fNji+XQev69aJ8W80zUzzOP+NFN70OkToLEFyZebRD7NKrQxiGdabc0mpxjkmGdne5ZF8qJB63SvF0g+nUBEh+xXYDKjQdR9ZPcv8ENteW2akSyXz/i3C4Q/V2aJIYG11s7P8ey8ntvSciWHMx5+XIcmsl5clqetnbL07wFhF1smteGFqaECKKiyMDhbrc8jUbzqtHCpNFokg4tTBqNJunQwqTREC/4bGhmClJTUrBgyVacfeTBy6YC22bKCKuq8OIlr+SZthRkf1eKxn73e894xkYxaB7iPR+Utm7etyQXgKxsaObyQfsh3kZVZwrEF6Z+++pbReNANK/7EvIXcyPyPqetuDar5l7C8Hf4USEO8fpd8pkxDD7wYclOD+Zu9qImYo9T1wigQq3WiVW5EwH4I3U0087zY1iWVYDGEZkO8cbhzFI8iJTpxtlV87CnyUwzcovBryr94upWZNM9fvVby8wOalhkdhr4C2+TMYXJyT35J5saxsYxqA7xtoTI/swrD/FOUbTdhSncjqNLMpB/tVumB3n3dwYqHnA+N9IiHHgk/4GhBxX4ck0Vhqz1ZzDd5w3MjRzidRcmf7Pco7Tlbshmj1e34QgJWIUfg9RoLzvlSLPlfrSeZpp5UIoFmy/B65YnmFyYmAc/foz861P3DpKeUJh+BlHB+5hchWkUFyo8+MtZmcdCFu3/VG+XB0tujqp0YpAwjdGFA26o7TUIWWyh6zlIL2qylyOGbuYhWzSq3T5jCfEDHLM8XGeZoNjx+pfTvHXAkTdpXUbtCG9yy9NMD/24ufNzLPgmB0cvtuBFyJnfpYTJamNh2k3CFLW9OLUCa091WcrMJsjrF8Lk0u/JK/rLZgOH+2WaB2jpMVF60I9VwtNyqTcBrsI0dJYPMjoe8IsqrBWxtUo37Zbx9cI8NA5ays0S4ouLFJYPS8wNk7zjlT2naJmJhMl/k7wqcnlrArF5mmlm8BEaT5Vi08KP8f1Za//XwhRfmMJoOObB+9Tf/aZtLIDDNHjPpffEPMS7qpG9Lmu9ifm/C5NCeEz/ukShnN0+05lUmM5yA43iyVk+bsKxdbRM3LoUxvH3mjY02YVMk2SEb6HQJjqJCZMM5abmGcwc4ghTvw9fUJ8uemaxWTEon96XuPlxSDiUe9mYJ05Y28oJYhtoNjCZMEVCMbE6YaCiO1rGtS6JUiY14BdXZ2vHnbl4L6/Hgp01GFIhXKj9qJr8NstMIkzhAF5czUF2FqX91jKzCXdhenKW+nqJD4MWW4QAeU5l5DntiZM/Ae7CFH6mJr+V1zSoTlg/4PwWVGSuwMl2+Q/01uVhwYbqt8hjCuHCTx78ifIGx8J4whPeuRRPW8rE1DVIzMidTZ1inK15Q4T70fjzevkpabHSnIOzj0YsZeIJk3O7gDV/tuEiTGN+caB9VV1sBCDmmWggFod4Y+bsJsddmJj+WzEnrM0Jbu+jKst2gRxcs3gLswWnuIgHbaZJaPKLZAzNy6gVjyaeYxJ1qWzMng9bR9doNCbxhckKjSi8arGsvMUe3r1FRA/xuudrNJpXx5zx8TEkzKiL7a0ggPIiA4e63PI0Gs2rZmrCpNFoNG8ALUwajSbpIGEK04VG8/bya1EKNl4asdmMS+uQnncNQZXuOL4IqduiaUHPSay1rMwtWJKDa12W/KRhFAONBlLVX/bhBZuTz0dFnu+hV5z5ZDsfp8prCTrqEuEQBh77kPejB5+eD8TmP/eKY1a8YifSHj/K91nPhvrhc9aZhImFyXcNeWmf4+gz09aJs6vSUN5qKUO0lqVh2fE2me44i7wlaXI1b/4i5J16CMNSNvkJwdfhQ/kBPojrc8knmhyrbAVedJE9biOHAzh/wGwoA5sbXRpXM320lGDBv36x9NMRXPsX9fMWM92C8qyvsHLJalwcNG0EC9Oqk+hR6cFbu5G95Cg6zPxkwe/DKhKIVfXcH0NoPkH9sNSHgXEf1pN9SS3bR/G4Wm4WrnfUr+G+GznE6+i71LfLi2SfN/Men5HvxOMg5Q/JDZab71vqJMCEwsSjxrKvv0L2jy0R2+DF1VhQFk2LRstUDea7jdKs5Tja2ifzgm04uSYFeTf8lvLJTRfvSzIP4h5wFyYuM6fC5xgFAiiiOh+e4cahEaom2sgDl+l6pxfN3FBt8rT1yT5rXc20Msp9eB2uDav08C/YmFmC1lGVJuHKLrot+v6Gi6pvMw5hGh+n/s+bLiPpJCQcxPmfaeDc5+y/hBhwDdQ47cEQ/SQBUvuYrHldvxh4t8KLPJc8Afd3EqaiNod9EiYQpj5cXL8cZ7uo0RZbGmnwLDZwo5nlWmm0WX8Wg3zdkId0akD7fWYYohHkKBFPmB6fpoaN500JQjRqSDF6TGn7vaiBxWlr+Xs0yUHHoc8jouMcfH8typDeE/d9q0fk5jGZ70ISIgZU9tpzDdR7nPkkWBUevE/91D3schGmPj6OwoOsm2iRN8a/i/j0FxfBmoT4wsQPXT3k1h8zLF6PHze3Rd3c1h/TIvF5z6nlWHuqU5Wb2UwkTJw3l1xg3mAZE5ebYR7ZD3VI8REdwvSYBsitdnOJNdNLx1EsE/2dB+RFONmh7DydkWUOzBziWfJsc0zE4t1oTHZP2NVjojCOIwUSrJoYwTJxik8QJ0v5iBX3fXdvSvCqPSae7Iu4reQVZVsmAoM3cmR4xy5wVg5u+qTdJkzm1weImShWEwnT+IAf9W0yXue4fC6NGjVhaxm7x8Rx+CFqRPO09afitLWcfNQkC204yXNIj+xeUbAmJyo8iog3ZfWYBin847Ny6l1IanjwpD4r55JIlDgcI1EyJ8TdcYhPlxQcMQhbiBUnWS91il5THGFqw9F/2BsjNcUSg6tR5Ne7dsFiMUp3rFzMVC9qQmGyIhrIQLlzNUbZD/U67B512nqKI4jm9cN9ddniRZb+yt6TY7HHOv/kCOU6Di3CskNqESiZ6PUilfpcXit58KbHVMaT32H4SKQ+IJEqn1CUmAm8IkdePf/lab4/D9bKY8p76KwzMe7CFLNKIVferBN/HHcvW5yB0qZoGelBUdh3VTXsqB+t+z6fZcJkn+QWLjBPcoflCscXNcqTYo8pl8I3a12/H4f4tLVYEbHYNckBzyGlWFbeOP2Pnx2rbH7czFMLOg5hEos/mctxtsdaPhmgfnrVwF/UdgH22mt6WYikoDi9Hp4AP8HTD7b+n7gw8XaBvJLodoEl51/RdgGeN8qrcaykcQxunfhj8bKuXJj03UL5GrVdIC0Na3f/gg5nmRmAU5jEPJGZfi6/982NaJ1j8rV48ek2aefl1fKH0bknUZ8a6dMjPnTxXJOyazTJCC/wvH98+lbT409+a2xMd0NpNG8O8oDE2VC3vDfDnLGxMDSToRqq0y1Po9G8akiYRulCo9FokgctTBqNJunQwqTRaJKOOMLUiNKUedhwoddh78WF9fOQWtgo0t1Vyx17neah9DaV6zkR3RGbloZl207gsce8B997N+7a7uvDjdwUfHnwqcU2iruF85Bd1myxdeLMquU40xMt8+oJwtsePcTrWua2YVlaJQq86GS7x4dc9cnduVsNFD4IyvKO09b/c8IHr/V+Go3GxoTClLr+LAas9vYjWJmWYhOmtVWd0XwTFqZVJ9DN16FhPD64HOmrVdpNmIYuYuOSr7AyqwT3Q1E7C1NqyiIcaTNtr1+YOs8ZQlTm7SAROeAuTFxmTrlTXEKoP+rBe/t9GBgN4RGf1N7hxSPKe6ROWz8KULlBddr6nrWuRqOxMoEw5SAv9yucaI/a7+9ZhPI9uVMTJgF7Wp8pgYkVpoELq8V9xP1bonYWpryS3chedQTdQrDegMcUkF7ONbWPKSafeHSKPKIYb4q8ol0erGwIyXSnF/N45/cLaxmije0eFEbEVqPROJlAmHajoaUEy/aoUCpENvZobu+OH8qZYhQjTFJkRJgXI0wsNqtxYYCu+fMSudcQsNUZpp+fKQF8E6GcZCJh4rzIIV7yrnKbWczkaer14v9IKGEq7zTrWU9b+5VNo9G4MaEw3R1rFod0b3hHEajNwcpjTzHmEKbEPKYJhInCQz7VLUPG6O+z1fHcREEWC1JyCNNYPx/iDdB1UIRsfIj32uhkwqTQHpNGMymTCNMo2o99hbzaTgrFlCD8n4QpfijXfvAzu9dFbLw0LPKiYjYKT00O0v9VgvJkECYrEQGSodxXN9SEd7xQjkO+Ag/+5xcWNmeeRqNhJhUmITJZGeIDWMKrmaowhXpxP97kd4g8pMx1uDqk6jH35Yfn+HdZhYnF7eq/+I9sTrcw+VG4w4N5ZzgcC+ERT5bzId5ROfk9tzx28jty2nqU6iuPKfeB874ajcaEhIkna500kHjsIvHg6xfk7aSQ1+SVebd3kTA1iOuYOSai9DaVYWEybZHtAi73binGgm1XERB2kyc4sWQRTrSHlDBZ8vi+aSxMFttrIipMMt15zpJ+7sVXvGpHAjN3K4lMM3s/ZI/ZLmCxF0e3C3x1jlf05H01Gk0scYRJ44RX4t47HhUqjUbz+pgTDoegmQw/yooMHOx0y9NoNK8aLUwajSbp0MKk0WiSDi1MGk24ASUpu3DHTI9Q+ovlOPOcrht3yY3DlvJ3CuehpJGvuV504Sf9/63G/uYh10UhQWFD5B5JTaPjLKjiYI+9nPEgdhFI5IX8qD4QXezZ1OC31UuE+ML04gbKVstP5KZnLkdZ/YtoXtCL/scXsf/fi7Ch6rm93ownCOOZD2X0YP942OeSH8VoMPAePfx1opNO0FAjdD/rId5KHwzLfTTTjUWYgk9wYvVnJDxDMm9SYYoKmv/pEayZvwW1hlmW80ngus30zKT/EglVMb3zNrsfBWrbDL8z/deozDYDdWb5HQbu+qncUy/m5Rg40WutOznuwkSNc2RJBvIuK9Hpv4GSrAyU3ZP53dVbsHHPCVwo/gprZpkwPT8nRcU8xOtWRkBisy5XipAUJkrzVoDrLEZBPDxLeaqhHqpDvA+5oQa8yKY6m1os99JMM0pggs9xZnWKvU9PQZjCYarPG4AjQjQLhCnkEwK08qYaZF2h/s59fAf1cUpfVVttZJ4fZWLj8UT1Y3EXpntyf5HfYvNf24J0hyvKLutsE6awPyh+2h+ukwDqDnvw51NerLR4TDaEO2zgqtPOIwjVKXjqsGumERaQ/0VJYQZS/30RI9a8qXpMWcW4HzTLznxhMm7yBmIaYEPu+ZGwb6uBg8/ku8ODe8Rj6qN3ZBsN9OemFs65ClP/6eX4ptIhON0nsMbRQLNSmBQTClOLgQ9yubHIS3IVpgCqyz14j+pHQzZZlhvx04tTj7k1rxMWkHnIzi1GHkUGkTCOmcIcU2rmOpx4YKk744XJj4PFiYiK3WPiOaaDjj/wurJBilaiaGGKQ1xhIjHaRA96Uws/aDdhokbicJCE6+qI1a7QHlMSwgKSi3r2dJ5TP/+CvCCz7Z7uxz8T8ZiCv6KMD5rbRGiGCxMPwDkGqr0ueU7E2dDYCfLwiJy6mGp/J2HiF8yBCOWuUChnsdXnIr2YQ7moTQpTh802W5DC5I3Ni7Nisa6R8wN4eFH+ueUTHXKuKRYfyvgQ70UWPbd8zZvHFBiZ7qaBOX11JbqDlDauIG/+cpx4asiy3ReQl/ktLvTH1hvh6Q56b0ZUOipMZnom4Uf1PvL6j8brp14xp5p9jb0p6vfsMVG/v2st4/Xh4F4apEt54txiTwB3YRKT358g77ISnf4GlH35Ccru2cu9lcJkgxonIkpBGCRaH1BjlTlEieej5uylxglRmjq4PMQbzddMN3aBCYcHySv6LNK3Rx5UIu9LPkDOWwK+xf47g3HqdeDMqjTyppSIOYWpuRjp609P+SWdFnq9+JT6acFTqz0g3ot36b0wKG00U5hm/oHXHQbKHsgVOkbMM9G78OlhL56Ledup4S5MzIvayHYBET//+4JlJJC8TcIkHnSMUFmFSXpCTk9KTICPxB7i5Ya130uj0ZjEFyYrwReo3fEZlu69aw/v3iIeqkO8bnkajebVMmd0NIiECbjY3grIGyo0cOC5W55Go3nVTE2YNBqN5g2ghUmj0SQdWpg0GqLr4hYszeSVtxQsWLIFp1sHpf3kcqw52REtR+l/FjRgWF1HNlcqShoM1P6QJlawZZ1BXPl+HnbXmekOVC5bjtM9ZjpJCfrR99CL7T96kHHO516m24t16mzouwUGrnQHpD3oQ/XP0cWeTfVx6k9AXGHqqvzK9sBl4wyiqXQh0qnx/lksG8et7swmAE+bF2X0YP9w2Oua31dv4KOtqkF2GKhslw3iafViseUQ7/Zf/bLOsP0Q70eVPnhs99RMK88OY2nWLtQNyLTvyWGsySzGPbq2CtNw3S78c3UlutRcq1O0TGx2zxXkpqUge+/daPof+/HMUj4ZucLCQn35z+I4iZuw+HGgmPKpL/M78eC03K/UR3l95iFeH5V7YohDvJUvnPUnJq4wNRWw+jvsAxewcdMFEiQaBTYp1e+oxP6LL+zlZjAd1kO8P7sIk+HFNyQu39xi0QngbiWVEw0iDzvOOy0bqk+dtr5FdW4dpnuWU5kg1W+XO2R553jMvTXTA28oFv06Ns8UmeGGXcgm8Woajs2zlhfw/X64Ah9fU701lZUoWaLEqGkX0snjiqmTbPh4sJVbYNyFKbpVRqRFvzZQbUhRi747dI9dHiyuVYN0gpAw8T/AyQC5n4tR2eGwD5wnYTpPDUj5m77G6a52nM7Zi3sBR7mZjE8KTvThupQxYZd1P4nOPi95QNY8vxhBeNR4YLMzZoM67Zrpowe1+Z9hwYotOHz+LrrESynpOvk1vsnfiTVpn2B/q7WOzLNGFakryZvivEAtdguPK0AD/EIcfuKh8I7fF6pTuRgbLw7Y7pO8WIXJPe/PlfyOUNh3U34CqOx5QAzu0mOicn00kEe8Luc94hNHmEhwVqYgfb6KuVeT+AyzfcASytWi6cCWWPGaJUwmTOLhc2iWS16ReDaKyGlrDw60SZGz4qmVp7WvGHa7Jgnou4+6k8XY+EUaNpxuFzYhPmlfo6T4a3FMpcsyCHPempOynB1zYL+LspU/kacUwPDF70iQ2kmgXAb8pGUiYSLaDWTwlAZPT+z14APymK4EyU4D9gF1iPcPhR5k5FKEUR/7LkxEHGEKwNdxH88G6DrgwbOj1CgF9fb8pmLknKzFlZzPhFCZDTlbeC0eEzXkR9SI6xqn1kiaNwx7PCk70UTXwmOq5L5Ng3LBZzYhii9MyjMqIE9LzC2RrasSa8jzKsmSnpSzfHIyiTBZ8NS49HdmWB3ifeKwT0JcYbLBD9V0U5nhepTkUJrsueX3qSF7cHq9bMiYujOUhISJYQ8ph+eSHPbn8kzcAbFSQfDoQqKUfXlqLq3m9cPezIL8K+hTIZzvySE1+e0QHw/1+6xPUNIgQ7GJhInnmZZmclnT9hiHV6bR76m1l0tqEhEmPzyPDWSTVxTTtw0vDohDvAb6rPYEcBemgfPIydqO2j6ZZo9pQalSfuLR4WLUcvjyNgpTN3k9JDjb75HXY3pMe3ny26tOW3PjKI+JT1tzHRo1+GuXH00xzta8Iaj/1v30HZbOl3NF6V/ydoE44tNBg/QX1Nep/3OebY6JiAgRr76lbEGtR6WJe3vTZtD8EuMUJr94L96l90JGCDL/3W0ebLpl79tiqoPeh4zDXnRY5uwSJa7H1FdXTKOGc47JSftbE8qJBy3SJDqXDfxZbRf4QyHv35ChmedX8oqsp61bpT0yH+VAT4BrNO4kFspp8KDKg/eOJRDaaTSa/5g5oVAAmsnwYW+hBwc63PI0Gs2rRguTRqNJOlyFqb29TaNJGLc+pNH8J2iPSaMhOp2HeO8PkJ03Gs9DcYOlbKfcOtNpXqekYe9dSz7jv4u9mXy+tN1uTwr8GGnzYu/P8ixo1O7D3gL74sx31v+3DT8u7+cyBi6LdLTu8T5rOR+Ol0r73ilOg5Aw+elCo3mLaTuEpVk7Udcv097HvI+pCC2hZ0qYLGU7j5MwHSdhUtcp87Cg9E40n/DWbEZ6WgoJ0zObPRlor/aIs6B/U2dBo3lefEcCsvuRvbwbIw0GPhDixcLENhI6JUwZv1ju2WMgQ5RjYYrWT4Q4wlSHYnrg6891O+zdOLduHlIL6kS6U+zxkA+fr9O/P49eS3k+CGxr1BmBzzGiuJQJ+ND7wMD2PdQQ1Y4ynQY2qu97Rxoj4MVZvl8ONRLxUaUXI9Y6mumlpQgLNp3HUExeAsK0cjNyl23G9RGzDL8j32JvafTdSCq8PvHzstoOE7F7DCymPnugy1LWDQ8JWC4JWBUfvbIL0+IKA3MLDLSrskIEycb3faXClLrulE1oeGT5hkaCeMLEbnDu1f5I+ZkoTPFHlCjcqOYnIf5mFaYOeeQki0aNkYClzh1qsByD3FzqFF1yFNnYbMnXTDPduC4O8W7G4XN30Ok17YkI03G0nPs2OoizjQboFsu7kYzECBP13b9Rv3yXB0/6+WcSlFZrHxb4cPOYBx8co3rkNTmF6aPThvjyxu7H0rab3pHvquV9X6Ew0UiwfTEq26L2ltKFNBJsjytMa/hsUNZ21A3J8jPSY4o3olgRZWRjWIWJG21uuRHrDTUbeM8hTLLxNElF7z3UnSzCv79Iw/pT3K8TE6bO/vP495JDaCNb29HFyK0Zsb0byUhM/6YooL3Zi3YW5T5DeEW2QZehfsx/gfomC5aLMHH5m0c8+K8qqvfYoIGbyj575cJEMffdIiw142c/2bIo7m7YGV+Y6Jp//pPy2S2emaGcZEJhEjiFSab/q5BGGxWyLb5s5tFIw39bjhpIjEYnJrqvZtrxX5eHeEMjuP5DAsLE5XgQf3wHe7Oont/+biQjk/Vvt3xhU304CouT5V3gQZgEaTcJFG9INj2xVypMTSF+0DJ+5gm9b44+IqWcWJhC/meoXPkJim+PvJXC9N5+A708B3VLfp/mQI+cLOTGOqs8piwSrY3N0jPTTD9D4hDvZfSqEC46+c0e0EJkF1xHL4lNyN+Ph/v43KgarK0iRe9FdtYnyFZ5M02YRm7Iz/GIPjok55EyrBPZTuJ4THzNIRyLlogKXo8wma7pM5xb9zVOd1LeZMLE9R//hKXkXe3Nf/uEyZrmVY7v6P8vvKXIvZzlNNOOvxt1+6yHeDfj9H01V8p5pSRGaZSXloalP5xCG4sU51mFyU+DeObCyNTHTBMm4dVXqgUa6reROSYzFHsWrSuIK0x+tKpP/rRy3usSJvHweSQwJ8ITESai5cdPRCO/PcIkG2RuITUIjbxiSZUa+XifH72X6V7maETx+2Kyf3NDe0waTTwmFyax/JkiJvREXoLCFBrhOanZI0y8WmcXKhfPJ+DF8Qq5VYBX9jbWqzyyXyavSW8X0GgSY04w6IdmclrV1wXc8jQazatFC1NCePFjoQc/t7vlaTSaVw0Jk48uNBqNJnnQwqTRaJIOLUwajSbp0MKk0WiSDi1MGo0myfDh/wO8CZ0H58o15AAAAABJRU5ErkJggg==)\n",
        "\n",
        "\n",
        "\n"
      ],
      "metadata": {
        "id": "UHbGtDekjUVw"
      }
    },
    {
      "cell_type": "markdown",
      "source": [
        "**Torque [Nm]**\n",
        "\n",
        "Torque means the capacity of a motor for generating torson over a axis. Normally its unit of measure is Newtom-meter (Nm) or (lb-ft). For our purpose, let's consider torque as the force that the motor have to do for turning.\n",
        "\n",
        "As well as Rotational speed, we need to control that our products are working between their ranges of production.\n",
        "\n",
        "![image.png](data:image/png;base64,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)\n",
        "\n",
        "![torque 2.png](data:image/png;base64,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)"
      ],
      "metadata": {
        "id": "d36PAaFGlEkm"
      }
    },
    {
      "cell_type": "markdown",
      "source": [
        "**Tool Wear [min]**\n",
        "\n",
        "Tool wear [min] means the time that one tool is usig by our products in minutes.\n",
        "\n",
        "We can asum that we can not use one tool more than 200 min (3,3hours)\n",
        "\n",
        "From the time that we are using the tools, we can asum that our products would be tooling-machines like mechanical lathe machine or drill machine.   \n",
        "\n",
        "![image.png](data:image/png;base64,iVBORw0KGgoAAAANSUhEUgAAAP4AAACFCAYAAAB7c0VTAAAABGdBTUEAALGPC/xhBQAAAAlwSFlzAAAOwQAADsEBuJFr7QAAJKxJREFUeF7tnXlwFFee52vannHHdExPTO8cu7PTPRF9xEzPzkz3Tm9sbMzEzuxGTLexDeYyYO4bcwmdgAAD4r7xBQZz2G6fYDDmMiCEOMUhQBIS6D7RXTpBQoBxT/zmfX+pV2SlnqCyVFWqLL0/PlHHy/xV5qv3eUfmy0zX7373LWk0Tufbbx958ejRNx6++eahh4cPH3jx4MF9R2PdH/O+mvPAmj9afE1EIAu0ubADq+yQ5f79jojEWhFY5QdafE1EIaWXrZ1V9I6Oex7u3Wv30N7e5mjM+2LeR2tFIPNFyq/F1zga2YJJ6a2yWwVva7tLd+/eiUiwb9ZKwVoJSPm1+BrHopJeCo+C33Exje6/+y49TJzvxYP58yIS7FvHpk3UfuQw3bnT6lUZoBJA3kj5tfgaRyKlByjIspVHIX+wbRv9x3e/S+Ry9Wnux0RTS20Ntba2cCWAvJGtvxZf4yjMwqOlB7KlR6v2cNQoT8H/9kc/ogcvvED3EuK9aI+Pi1juDxpE3/7sp548ePirX1FTdRU1NzdxL0C2/K5vv0Vmhp5Hjx6R213PXRGNxlfMY1oUZLRmKNQNDW5qW7/OEP7736emjRuotLSEiouLqKiosFuQ7mSs+5OTk023b98m929/S9/++Z9zfnSMGCFcc1NTU5PIN3T92yH+4xo0lED6V18ZqNH4xYihL3sYPmQAjXr5RXr4zHe4oG/61S9pUP9+NPCl55mXX/oNIz9HOllZWVRWVkbVp1Lod889x3nSmHKSK0dUlKhAe038trY7/AcarT4OQmg0T+fuXRy0ahWtfYsoxM3U0tJEjY1uav76KBfwB3/3c9HSF1NhYQHl5+dRXl6u4Ba/4nNBQb4HLBMJyP2B8KjgsK+lpaVM+4D+nC+ta1ZTfX0d947QW+p18fGqStdoVJjH9V4H9ETBNrq1w6mqqpIqKiq41ZMC4H15eTl3gysrH4Nle5ur2eW0N6WQX1XpT0LuB/YL8kvxS0pKmOa5czlf7sbGUl1drejuN/IQSYuvcRTmU3cQX566ezB/Phfw9vh4FgGSS/HxiooA31dXV1FNTTVTW1vT62zak0/f+c1Zcv36LL/is2q5J4F9wX4VFxdyVx89G+w3xG+ZM8cjPpZtbGzg7r4WX+MIZEsP6c2n73CUGmNWKX5bXBwLLlt8s/QQBN1dDC8x3oUEvUl2YR195/k0cv3mMc/0u8jfq5bvDuwL9qm8vJQGDehHRUUFXPFBfrP42H8s29LSrMXXOIMniY8xq0p8FH4pPVo7yIGuLgo+Wj10eXuTIxdryNXvSheOXqpRLt8d8sxGVdVtGvzyC0L4Yu76Y/9bo6O1+BrnYhbfOr7vTnwAAdANRksP6eVRbayHSqM3KbzdSr/34jVyvfCYZ166zt+rlu8OmQe1tdU0ZOCL3PJj/I/91+JrHI1VfEgvx/do9e7Pm+clPoSXrb25wEN68/z13ubvp+eS68VM5pn+WbT9aK1yuSchez5udx0NHfiS2PdyruyQB1bx0etB70CLr3EE3YkPkbsTH6Dlkwe1sBwEgSyIIYcNvUWl+56Q/YaQPoveT3ZTac095XJPQ+ZHQ0M9vTLoJbH/FSw58uFOTIwWX+NceiK+PI2F7jDWwfqIpfqdULLhyzpyvZRN/zu2SJnuK9gXVGaYz/DKoP481kdlp8XXOB5fxcfpPPP5bXR5w1X8f5hZwOJvOeJWpvuKVfzqaqOXg3x4gvjIgNDT1tbaKX6rMl2jMfPoEa4jR9cWN5bAuBY3nMCpPMzZbxHiGxNVcKFKV/FrhPgNQvxWXgfrI5bqd0LF9aK7LP0fDMwhd8t95TK+gn158KBDiI+uPsRHi1/dKb4c48d0io/Ze43kkjWpGdQeu3dso0njR9GkcSPp7Tc3coa56+toRdIimjBmBM2Lj6bCgjxePic7i6ZPHU9zZk6jioqyLvFU4E+A+HhVpWs0ZszjWZRPtNwYr6MVx5F6s/iVlZWmrn6VcoyPWKrfCRVR2ypZ/KGrfPPlSWBfHo/xja6+Mcb3Fr+62pjHgN6PUvzTp5Jp8vjRVFSYT7eFyNOnjKejhw/S5o1rac3KpVyD7trxLsXNmcnLr129nM6ePkX7v9hD7+/azpXEtq1vPzFztfgaO0SS+B33H9Kfjcpl8Q9ealYuY4eAiW/mjsjUWa9NpuPHjtBrk8fR+bOn+fuS4iIWF0HWrlpGN7Iy6VTKCa4QPtj1HqWKysMay4wWX2OHSBL/wMVmlv4vRt+i+w96vh0BFz8hNopGDR/M3XsEHzlsEKVfucxpGENAXEwWuJZ+hSaOHUnTJo2lA/u/oI3rV3eJJcEfBtkx1tDia3wlksQftKKMxY95r0qZbpeAi48x/Y2sDJo6cSylnDyuFF+O6fGHIGDi3FhKST5Gs6ZP5p4A/iBzzL2ff8LrSbT4Gl+IFPHrmu/T7w/MYfEzituUy9glYOKXlhRRZsY1z+fNG9bSO29u4hYdY3m5DMRtaW7yLLdp/Rq6fi2d5sbNoWtX01n8y5cueNKBbvE1/hAp4r910M3S/2J2oTLdHwIm/pnTKXzkPj/vFpWXldCMaRPpyKGvWOyVy17ng3u7d24TQ4HZnnVwZB/je7yPj5lNebk3ucK4mHbOs4wZCK/F1/hKpIj/q+hCFn/TgXpluj8ETHwE+u0HO7mLP2XCaNq5fStnFoRfvnQRjR9tnM7DUX/renhFrwCnAV9fMJcnWJiXkWjxNXZA2QJOFj+7tI2lf/blHKpp7FAu4w/Yl4CO8YOJFl9jh0gQP2FXFYvfP6lUme4vfoqPDAg9d++2dIrfokzXaMxgxp6ctYdZapgrcu8eLkfF9ejNFvEhPS7JrRASyIt03EL8Fl4H6yOW6neCxQNRYf23Mca5+y/ONyqX8RfsC2YyNjTUdYpvvkjHLD4uT8b05QYtvsYZOF38o+nGufsfvHqL2jsC+9tafE3E4nTxh68pZ/Fnbr2tTO8JWnxNxOJk8RtbO+i7g41z95fz7iiX6Ql+iS8PmoQa/AkQH6+qdI3GDA7qyQN7OJCFg3Ty7ju4s05H522kH1+P/1j8mpoaIYXxMAmsg/URS/U7weDdo8a5+59PLxC/q16mJ2BfcLATc2MgPm7EgQN5yAd5Bx5cnmtcqVjLBzq1+BpH4GTx/zmhiMVfvbdWmd5TtPiaiMWp4ufdbmfpv9M/myrq/bu11tPQ4msiFqeKv/DDGhb/14tKlOmBQIuviVicKP4DMZ7/4Xjj3P3HqQ3KZQKBFl8TsThR/JMZLSz9Hw+/RXfajdmCwUCLr4lYnCj+2I3GufvJb1Yo0wOFn+IjA0LPnTvNneI3K9M1GjM4fy/P4eOcNc7Ht7fjDrstQvwmIX5Cp/ixXPDxUAkg561jHjvO92MdrI9Yqt8JFM13O+h7Q2+y+GduoHFTLxcIsC+Y1+B213aKbzxQA/nQGm08Ow/n83H3XUN8txZf4wycJv7uZOPc/U8m54nfUi8TKLT4mojFaeL/v8RiFj/pkxpleiDR4msiFieJX1xtXHcP8F61TCDR4msiFieJj1Ye0v/b/GJleqDR4msiFqeIj/H8T6fks/i7TriVywQaLb4mYnGK+GezW1l6HNHHkX3VMoHGL/FRQ/UG+BMgPl5V6RqNGZy/l+fwcc4a5+NxP0ecm8dDIM3i4/x9RUU5g3PZEB8Pi8T5fqyD9RFL9Ts9BefsIf7o9eXK9GCAfcG8BlxyC/FR4UF85INZfMxpqK2tFZXgE8THgzFemzKe77a7fs1Kamluprpa42ab8tl5+Xm5vGz2jUxeFs/OKysr6RJLhRZfYwcniN/a1kHfH3aLxU++HrpyHTDxM66n0+gRQ/ge+XhSzuzpU+iTjz6gzRvX0OoVS0VGVtHO94xn52F5PDvvTGoK7dv7Oe3euZ27U+9ueeuJmavF19jBCeJ/dKqBpf/RhDy6/0C9TDDwU3xj7GQm+0YGHfpqv+fzxnWraOs7b9K0SeP41tn4rqiwgMXFeGHNyiTKyrxGKSePiQphK70v5D+VctyzvorW1qZO8ZuU6RqNGYzt5fge41k0LnhENhoOPPbZW3xIX8ZgnIuGyhC/idfB+oil+p2e8JvXjXP3Cz6sUqYHC+wLjnk8Fr+Mx/PIB2/x8fhsTF+uV4tvpry8hMaPHi7EvsqP0Lpy+SJ/j2dwQ9zS0iK6euUSPztv6sQx9OW+PbRx/aoucST4wyB7XZ3xCC4tvsYXwl388ro2vuYe4t8qv6NcJlgEXHy3CBQ1cyo/+hqfVeKXlRXzZ/whaP0T58bQyRNf87Pz0BPAHyTjgT2ffczrSbT4Gl8Id/FX7zHO3f+fuEJlejAJqPjIzPiYWfT2Gxs8mYQW/UzqSX5fXGR09ZubGjzrbFq/mq5dvUxz46LoavplFh+P0JLpQLf4Gn8IZ/Exxv676ca5+3eP1iuXCSYBEx/nRhfOj6MVSa9TU5ObH4wJIDa+q6mp5OfkJcTO8qyD4wIY3+M9KozcW9m0ecMaunD+jGcZMxBei6/xlXAW/+It49w97qTrbjbmCISSgImfmnLc0xU3A+GXLZHPzptDBfk4nfd4PZmZ6BVMGvcqLUpM4ErEvIxEi6+xQziLP2OLce5++JoyZXqwCZj4oUCLr7FDuIrfdq+DfjDCuO7+8OXeKctafE3EEq7i7z1nnLv/r2NyqYPv7KNeLpho8TURS7iKP2BZCYsft7NSmR4KtPiaiCUcxa9uaOdn3UP8zOLQnrs345f4cipkqMGfAPHxqkrXaMxgqq6crovpqZh6i2fjYxounvd+L8EQ/25srBC+nMrLyxhMW8X01fr6elFBNPE6WB+xVL9jhw37a1n6f5pToEwPFdgXTGGuqzPER4WH6bnIh5Y5hvi46SamL0N8VIJCfKMmDTXe4quX0WgkaOlla4/WDS03HpiJ8oOHQN5LiO8UP4YLPq4xAWj10PrV19dxzwDrYH3EUv2OHX4xu4DF33ygVpkeKrAv6AF5i3+bXx+LP4d7P7W1xnULWnyNIwg38a8VGOfuf39gDtU0GkOH3kKLr4lYwk38KW8Z5+6fX1ysTA8lWnxNxBJO4m89UsfSg9/rn03bjtYplwsVWnxNxBIu4pdU32XZpfjgmQE5/L1q+VCgxddELOEi/qFLjV7SS5Kv91451uJrIpZwEV/OyzejW3wbaPE1dggH8TOKWj0TduRNNyC9HuPbQIuvsUNvi49JMv+SUMSy908q4RYe3fvebOklWnxNxNLb4u84JmQR0v/hkJtUWHlHuUxv4af4yIDQ09LS2Cl+ozJdozFz/z6m2bYL8duEuJin3yokxsM0GoX4bov4kL6EMeat3xbi1wrxG3gdrI9Yqt9RUdPYRv/lVeO22av3VCuX6U2wL+3td4T4NZ3ilwrxcafhUiF+lEn8ciE+rluo0+JrnEFvij/xjXKW/n/MyKe2dt/XCxV+iS+7UKEG3S6Ij1dVuhnX2ma/UcXTOA908WU3H91adNlxdyeUH9zk1Sw+uvh4sAuQ3V6IjyEB1sH6iKX6HSupmU0sPTgl3quW6W2wLxj64AIciI/9R7cer2bxMezBlYoY9mjxNY6gN8S/29bOrTykn7C5XLlMOKDFV6CKpwkPVP9Xt6wRLS/TSK7VDeRaVR908TGeh/S4tVZ1g3FAMBzR4itQxQtnVPtgh2DHCySq3+uWEIuPI/c4gg/xt39dp1wmXAi4+DgIcOjgfn5AZklxAX9XU11Jy5cupAljhtPcuDmUl5vD32dlXu98cOZUKikp8oqjorfEVy1jh74cT5VuB3Ms2/F8FD/pX6PItUh0zxflGbxeQK7FReRKKifXCtGCrxKFHusjluU3zNuGc/WQ/l8SCuleh/d2hxsBFR93Kxk7chjfIhuC4gEa+H7ThtW0avkSPmq4Y/sWipszg79fs2oZpaYk0xd7PuV77uPoKZ63113NqsU3cFI8VbodzLFsxwuh+PvOu1l6zNLLKGrx2uZwJKDiozuER2jhFIBZfDw4E0/GxfvCgjxOQ89g9Yokyrh+lZJPfM0Vwu4d2+hk8jGvmGa0+AZOiqdKt4M5lu14IRK/saWNfjg+l8WP33m7yzaHIwHv6gOr+Hh+3uVLF7zTigsp/XIaTRz7Kj9ma/8Xn9OGdSu94khwNBZ/Fh7OocV3VjxVuh3MsWzHC5H4cTtus/R41DUqAes2hyO9Jr4c0+NUC1r/+QkxlHz8CD84Ez0ByC7jff7pR7yORIvvnHiqdDuYY9mOFwLxrxe2eC7C+fKCu8v2hit+io8xePc8Fj+fP6NFT005we+LCnM5rbEBRz2N5fEs/avpaZQQG0XpV9KE+Esp7cIZTzrG/phBVVNjPG0X72Vad1j/IDsEMhboy/FU6XYwx7IdTyk+bq3d0Cl+XM/EF5//Ob6QpR+QVNxlW8MZzGbETEbMwzfEL2Fv8eotfhn3tHGGw7b4EHtF0iKqqirnh2TiAZly2azMazy+x/u46Fl0MyeLH7R5/lyqZxkJ/jAtvrPiqdLtYI5lO16wxY+pZOm/NzSHCivRQ/Xe1nAmJOJD+GVLFtL40cbpvPw8nM57vDw2Aq/oFWDMvygxnnAFlXkZoMU3cFI8VbodzLFsxwum+CvE54HGOfs1e6u6bGe4ExTxg4UW38BJ8VTpdjDHsh0vmOJPKmbp/35GPt1tMxouJ+GX+Dgw0BuYxVelm/EqADYJZCzQl+Op0u1gjmU7nkJ8PD4Ls/EaGtzUHu+n+AuMp+EAXJBj3UYngIPqOIBuFh8H8jBzUYqP6/Ixi9G4N4EW3zZ9OZ4q3Q7mWLbjBUP81YJhxjl71+SSLtvnFLT4CgIZC/TleKp0O5hj2Y4XDPFnie8gPcb3Kxq7bJ9T0OIrCGQs0JfjqdLtYI5lO16gxV9aT64Bxjl7V2wl/4Z1+5yCFl9BIGOBvhxPlW4Hcyzb8QIp/io3ucaK7yH9KLEs4orfsG6fU9DiKwhkLNCX46nS7WCOZTteIMWPx7TcG+TCLbKXiJa/8zes2+cU/BS/Tawcepqb3Z3iu5XpZrwKgE0CGQv05XiqdDuYY9mOpxQfd9h1C/HrfRd/eQ25BqGLL8SfXub1Gz3aPgXWeMEC9xDEjFjcT88Qv1iIXybELxbCz+4UP0qIXyrEx70JRB6oAoUCLb6Bk+Kp0u1gjmU7XqDEnyI+v5hFLtxkY5WIZfqNHm2fAmu8YKHFVxDIWKAvx1Ol28Ecy3a8QIifKFr4F64b4s+r6vIbPdo+BdZ4wUKLryCQsUBfjqdKt4M5lu14PRU/sZhcgzMM8ceKdMSy/EaPtk+BNV6w0OIrCGQs0JfjqdLtYI5lO15PxH9NjOefv0iufumG+LNKtPiqQKFAi2/gpHiqdDuYY9mOZ1f8BbnkihJd+nFC9l+f8xYfXf2kx0fzJT3aPgXWeMFCi68gkLFAX46nSreDOZbteE8RvyUm1hD/l9PINSRNyJ5Krn8Hp9XiJ1Z3+Y0ebZ8Ca7xg4Zf4OAfYG+APg/h4VaWbUWWqh2Vu8SeKHcGrIt1WLB/o1XhP2VdgK54PBCuW7XhW8ZfV0p7UKoraUkD/a3YWLf/ZZEP8H0/oFF7QT0j/ihDexxa/R9unwBovWOD+mLgbkRQfwuOcfWlpMTVHPRYfd+TBrcbxqC1ni9958wQP+GxZxudYPmIrnj+ionDj4pGVooAvFwV8qVh3sSikOOds3teZ5aLwijQsg9NSWE8Vz/J7XtjcPlW6HcyxnhrPum14TRD/75Ricg27KeTtPFDX76rgCiX9ZJIh/j9MIddU8X2cyKOForuvGuNHi7zrzC8ztrbPB6zxgkXfEh8FwSyCJPa2GOPVGVIIIdrbfYglsRY2BeZYnngQFQJC0MRaUUCryDWxyHu7Ropx5wTx3bhCco0WhRGfR+TR30zLo7+emEt/NuoWfW9I59xxfxmQw099+atxufSzqXn0i9niN/A7+D38Ln4f155PLSXXGPGded1JJeSaK7q/2H/kH2a0LWugusY7dLftbvDyDgKuEqwQlRfWxRz6GZZKbhBukiHkBWitmQz6yaRsGrsuj7YcKKGaGTGG+N0d1V8g9jte7OMSsY/oMWjx1cGCTY/FRyEzF45ueG5QDv3l2Fz6x1kF9P8TRQFA4UfBnyFq/TmikogXkiIWPpvXReGbL75HOpZDulhv+JoS+veFRfRPc/JZWFfnzRmDBuJ39xuYcqr6Pgj8ISolCDj0FrmGC6FQoaDyGC/yE+/Ny3MlJ0QbJ9LGiApnlFju1Tx+Dt2PJ+Xy//EnooJyDTCt81SE9MNFfk8WMeMqRAVRQ7izE27Cgee9+zyBx3x1nqVM+VTubGCNFyz8FB+1eehpaqrvFL9emW5GlancOqgKCK6vHiIKp61CFSBweecr4vflNd5WpogWJ1pUIrgaDBXKvGo6ftVNZ7IaKD2vkW6Wiv1CzwHdfPQiZOHsbl/xPbeYncMC0cvJKGyiCzmNlHzNTV+lidYzQRT2OPF7+N0oIQyGCKj8VPEgNbZ/sHgNdoWmAhVZd/8belHYV9PBPTwiu7Gxnu/s3B7feXCvR+L7UO5sYI0XLPCIbNyNqLa2slP8Ij6QV1paZBG/RIhfIcQX+aAKFAp6LD542hhfCJFX3swiQIJdx0VNh8KP8fJkISG6v2idBqMraYojwbROXL2FlgvLi/VW76mk7UdraN+5OkrNFAUIXWJ0U80F6UmimrdPELB97cSneL5un9inxpZWqqhtoVtl4vNiIc1CMZRBTwgiogKbKvJFFQv5hZ6SrOTEMOLwJTelZLgp7WYjV1CeYxSo6GT+dbdtOBinxVcSMvHPnT1FUTOn8M0039y8jnBv8/d3bucbcOKuutgQ1XpmAiI+QEFBV10hFfAplq8iCHyKBwIpquQp+wp8jufH9qnSQ5Z3LL0WX0VIxHfX1wjBh9Hxrw+JwIUUNWMK7dv7Gc2cNpGKi/MpcW4MP0gzMyOdvj56SBkDBEz8p+BzLD9EeGI8EEhRfcRWPJvbp0pnQpF3WvxuCYn4Vy5foLEjX/G06nhA5qoVS2jOrNe45U9anEhX0y/RgnmxVFdb1WV9SdiJD2yK8NR4PuCkeKp0D8HOuwgQX7WMr1hjmQmJ+CeTv6bJE0Z7Pn/2yYcs+Za3NtHoEUP4YRubN6yhixfOeq0nMWZb1YsNMO7Xj1d8fhLPrqr2m0DGAn05nirdDuZYtuOtrOqkkp5dcZueXV4hCnoVVVdXUGVlGbVGGzecWP5/Z9CziVmCTIMF4v2iHHp2cT49m1Qs1is31kcsy2/0aPsUBDKeNZaZxsY6qq+v5h54yMXHe0wbPJ2aTFvfeYMrghnTJtDRI195lpXLQ3iNxh9GDH2ZGT5kADNscH8u7Hv/9mdcwPf8zU9pUP9+NLD/8wzeDx7wAg0d+CIvi3Wwviq2k5F5grzIy8sJvPiXL57nll129Xfv3EZrVi7l97iJP8b4WZlX+fVG1jV6bfJ4r/Vliw+wceaay4ydHkGo0dvmHz3ZNrRqoKGhVnTta0ThrVK2+E2zZ3LBz83NZvLzb1JhYR63gvhdrIP1Ecsc38n5Jlt8dPULC3P5oRkBFx8/MG7UMDp6+ACV8cG9qXRg/x5OQ0uffSODbt28Qa8vSOCDfXievjWGL2CHsLN4VaX3Jnrb/KMn24aGBuCJMehZogFRjfHvxERzgS8pKWQwmQUXrEB4vphHrIP1ZcMlcXK+yTE+7l+JvMC+PlV8zPqxy5nUFJo93Tid99bm9WKDMDX2rvhT8OcYr+tWr+DTe3s//8RrXV/BrKxPP/6QX1XpvYneNv/oybahTAHcVBKz1BADB5MhMwp7W5whfmt0ND+2vbi4kMHsNcxiw+OhMcMP62B9WVYlTs437Iu88SjyAvuKWXrIB7P4uPkmHp+Nm3L6Jb5GE2qCLb6T8VN8owul0YQz6OLLbj66teiyo2triF9rEn8Od/GLiwsYdHfR7cW4F1JgHayPWKrfcSLYF3lvAuQF9hXdeuRDc9SsTvFn87AHx+EwFAhL8c+eEUOJGY9nBqImUy0XKnCKEmMsyfu7tlFBfi4lzo3l4QyOZ+DgkWrdYIA/7qsDX9C8+DlUWJDL31XexuPLF3Q+vjyKbuZkeZb/7Qe7aOqksfTalPH0xZ6PPd8HA9W24ZHp5vzDWSF8D3lxXGjSuFE0a/okSj5x1CuWmUCI/+nHH3A+4BjVmpVJ1CDWC5d82//FZ/w72I61q5bxtvmabyeOH3G++PV11WLnjZmBJSUFfCxh395PlcuGiviYWXTk0Jf8Z4CWlgaWHqcsUajWrl5GK5ctVq4baHAwa+zIYbRwfjwXBlRA+H7j+lW0avli3p73tr1DsVEz+PtLF89zYbqZk0nXrl6iUcMHU052hlfMQNHdtn25f4+oHOd68g9HofH9kcMH+JRvUVEenybG2SIciDPHlPRU/NRTJ2iE2KYL589QQcEtUa4ms9jhkG/pV9J4369cThPbnO/ZNjv5hiGNo8W/fOk8zwzEn4zPu3Zs5ZmB1uVCyZQJY7ggyM8QHwU7+8Z1/nzh/GmurGR6MEGhrxV/bEVFiZdcOHuCFgLv83Jvchr+4A/f38E9Frk+WrX9+z7zfA4k3W3bB7u3s2DW5XFdx7ui5ZKfJ44bSWdOn/RaRtJT8c+dTaXPP/3I09Vft3o5vSMq7nDIt4zr6XRg/17P5/VrVvC22cm3UynHnS1+8gljgpD8jKOZmCBkXiaUoAs1ctggioueSdNFV2z92hVUUV7qVbCvX7vCn0M5JLHKhW28mHbWKw3ndN95cyNvs1xvyaJ59MGu9zyfg4F1297YuJav5ZgxdQILlH7lIn+P6d0YNsn10G1Fz0p+NtNT8SGDHOOjxUdFjZY8nPINoMWX22Yn3w6K4VXEiY9utXmZUIJChsKI6w/Q1cM1CW+/scGrYEvxccTYun6w8EV8dAWVBXh3aMVH/pw4dpi3Z9vWt2jy+FFcoSrFF91Y+dlMoMQvF4V/luhK73xvC8cNp3yrrqrgY1vo5eKznXw7+NU+Z4t/Ke0cj1nwJ+Pz7p3v0uoVS7ssFyrQrcekB/kZtT5mJaKAZGVe4+/SLpzh8aBcJhRY5Zo6cQylJB/j9/l5RpcVx0uwvTh4JdfDQbcv9+3xfA4G1m1DgZaVIlpTpOFOsBvXreLjJHI9HKw6d+aU57MZ38WPYuGLigxQ+KX4kCF69nS+lgRxEDdc8g13vkWv8s1N6zxl306+nT6V7GzxMRVz3KhXuJUtLSngmYHBLqhPAoUXGY5xPFqLhNjZtGPbFpb/7TfW88EojMlCXTlZ5dqwdiUtX7qQC/mO7VsoPmYmf3/p4lnOTxyPQAuCg1SYWWmOFWis24a8wkQvVKAff7jb03IdPrifj2RjOYxRx7w6lAu7NR7oifiQAC1/fMxsWvL6fC78uHIUguO/g+CQAgf34qJn8G+kXThNY0cO5enn6O2hZ5CTnclpgaahoY7mJ8TwdtTU3ObtAvMTorkiQBn76INdQvCRvM+HROs+bfI4PiaRcvIYN5QVYh9xcBUVCG6hjf1BPjhGfHAm9aRlZmDvns5DRmOcNWHMCC4omOuN1gEFetyo4bR44VyuFFTrBgurXBA+afEC3h6MB6XckAUHqtCy4bqJUJwhsW4bCiiO9KMCQquG8Su+h7xouXBwCt1VDPPMccx0J74xZVctfmFhPr9HgUfj8cqglzwX6siLdTDJZcmi+Xw2AmdvMOUclRLi7961XVRSo0XejaM9n33E3weDY0cPeS4+MnMz5wYPc1EBxURN50visTwqCgw3xws/cHQf970wWntjui4qWFR0jhNfo7FiFR8CQM7Hc/WNm21K8SE9QAUACdBqoguMFhHLYz3IEgnIPMAcfLT22Ff0dLDvWnyNozGLD6T4KPgo9G0LEw3xJ07wiF9QkMfIVh+FHmJAEKMCwJV+zgf7Apml9NhXSI99b+jsCUnxTRfpqDNaowknniQ+xvkt7+/iAv7gf/6SRUehzxdDDWCWH0MiVAAQAKJEAtgXCI99k118uf9N48ZyvjQuMo5jaPE1jsTa3Zfj/IacLC7gv3vuOao8fJALfl7eLcrNvcmvstuPLjAEADjoFylAeNm9x75in/OzrtM3f/qnnC/Vu3Zo8TXORbb8Xcf5tXRv+DAu5A9//GMqSTvvER/Ilh9SoEWUQJZIAMLL7j33dIT0LS/04/y4//O/pdLcHK4g0EPA0ECLr3EU5i6/lF+O82uF6I9++Fdc2B/90R9xN7dx1gwGd+aR4IBXpOJekMj7+M1//0tPD6ji4AGuHOR8BlSSWnyNo7CKD+T5fHRhazOvUce//SsX+r4Oej5V+/Z4jm/g2AbyCJWkFl/jKKT4ZvnN3X20aHzK6sB+PrWHo9l9kZrdO7l7j7E/uvjydCbyCHmlxdc4Cqv4QB7kQ6svT23hIBYqAHRvzQfB+hLYdwiPvJBzGJBHGBpp8TWOxFoBoNWX8qNV426/qABQ4K2nviId8/4iD5AXUnrkUUtLI/0nv8Zci+jPh3gAAAAASUVORK5CYII=)\n",
        "\n",
        "![Tool 2.png](data:image/png;base64,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)\n"
      ],
      "metadata": {
        "id": "HYd9KnSPlEiG"
      }
    },
    {
      "cell_type": "markdown",
      "source": [
        "**Failure type**\n",
        "\n",
        "Failure type make reference to the source of the failure. We can find the following in our data:\n",
        "\n",
        "*   Heat Dissipation Failure\n",
        "*   Power Failure\n",
        "*   Overstrain Failure\n",
        "*   Tool Wear Failure\n",
        "*   Random Failure\n",
        "\n",
        "![image.png](data:image/png;base64,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)\n",
        "\n",
        "We can not appreciate the details of Failure type chart provided by Sweetviz, therefore, let's create a new chart:"
      ],
      "metadata": {
        "id": "znylxqSzlEWm"
      }
    },
    {
      "cell_type": "code",
      "source": [
        "# Let drop only in this example the non failure part of the data set:\n",
        "non_failure_df = df[df['Failure Type']!='No Failure']"
      ],
      "metadata": {
        "id": "e4ia8TtprZVb"
      },
      "execution_count": 41,
      "outputs": []
    },
    {
      "cell_type": "code",
      "source": [
        "count_non_failure_by_product = non_failure_df.groupby('Failure Type')['Type'].count()\n",
        "count_non_failure_by_product"
      ],
      "metadata": {
        "colab": {
          "base_uri": "https://localhost:8080/"
        },
        "id": "Dc8Zc7Elrh-0",
        "outputId": "e7d24614-01d7-42ef-c1b6-0e3bc6c7d681"
      },
      "execution_count": 42,
      "outputs": [
        {
          "output_type": "execute_result",
          "data": {
            "text/plain": [
              "Failure Type\n",
              "Heat Dissipation Failure    112\n",
              "Overstrain Failure           78\n",
              "Power Failure                95\n",
              "Random Failures              18\n",
              "Tool Wear Failure            45\n",
              "Name: Type, dtype: int64"
            ]
          },
          "metadata": {},
          "execution_count": 42
        }
      ]
    },
    {
      "cell_type": "code",
      "source": [
        "# Pie chart:\n",
        "labels = count_non_failure_by_product.index\n",
        "sizes = count_non_failure_by_product.values\n",
        "\n",
        "plt.pie(sizes, labels=labels, autopct='%1.1f%%')\n",
        "plt.title('Failure type percentages', fontsize=13)\n",
        "plt.axis('equal')\n",
        "\n",
        "plt.show()"
      ],
      "metadata": {
        "colab": {
          "base_uri": "https://localhost:8080/",
          "height": 428
        },
        "id": "EgSWgmhPrw6n",
        "outputId": "e7c9eeaf-8a8a-4f1e-f16f-e7a9c357dcdc"
      },
      "execution_count": 43,
      "outputs": [
        {
          "output_type": "display_data",
          "data": {
            "text/plain": [
              "<Figure size 640x480 with 1 Axes>"
            ],
            "image/png": "[encoded data removed]"
          },
          "metadata": {}
        }
      ]
    },
    {
      "cell_type": "markdown",
      "source": [
        "Considering the above pie chart, we can consider:\n",
        "\n",
        "* The dissipation systems are not correctly dimensioned for their working conditions.\n",
        "* The machine may be too small for the production needs, as 22% of failures are due to overstress or the production line not being set up correctly\n",
        "* The feeding line needs to be overhauled or repaired.\n",
        "* The tool preparation process needs to be reviewed.\n"
      ],
      "metadata": {
        "id": "TBPKnDwsvYiA"
      }
    },
    {
      "cell_type": "markdown",
      "source": [
        "**Let's check the Failures type per product type:**\n"
      ],
      "metadata": {
        "id": "WtMzsieetk6D"
      }
    },
    {
      "cell_type": "code",
      "source": [
        "L_failures = non_failure_df[non_failure_df['Type'] == 'L'].groupby('Failure Type')\n",
        "M_failures = non_failure_df[non_failure_df['Type'] == 'M'].groupby('Failure Type')\n",
        "H_failures = non_failure_df[non_failure_df['Type'] == 'H'].groupby('Failure Type')"
      ],
      "metadata": {
        "id": "mug99EBLr3nA"
      },
      "execution_count": 44,
      "outputs": []
    },
    {
      "cell_type": "code",
      "source": [
        "# Cuenta el número de ocurrencias en cada grupo\n",
        "L_failures_count = L_failures.size()\n",
        "\n",
        "# Crea el gráfico circular\n",
        "plt.pie(L_failures_count, labels = L_failures_count.index, autopct='%1.1f%%')\n",
        "\n",
        "# Añade un título con un tamaño de fuente más pequeño\n",
        "plt.title('Failure Type for products L', fontsize=13)\n",
        "\n",
        "# Muestra el gráfico\n",
        "plt.show()"
      ],
      "metadata": {
        "colab": {
          "base_uri": "https://localhost:8080/",
          "height": 428
        },
        "id": "VHswQqDxtv-_",
        "outputId": "dbf420e5-2b99-4c7d-bf66-3003d671f13e"
      },
      "execution_count": 45,
      "outputs": [
        {
          "output_type": "display_data",
          "data": {
            "text/plain": [
              "<Figure size 640x480 with 1 Axes>"
            ],
            "image/png": "[encoded data removed]"
          },
          "metadata": {}
        }
      ]
    },
    {
      "cell_type": "markdown",
      "source": [
        "Considering the above pie chart, we can consider:\n",
        "\n",
        "* The dissipation systems are not correctly dimensioned for their working conditions\n",
        "* The machine may be undersized for the production requirements because 30% of the failures are due to overexertion\n",
        "* The feed line needs to be overhauled or repaired\n",
        "* The tooling set-up process needs to be reviewed"
      ],
      "metadata": {
        "id": "0LmacD7owUW8"
      }
    },
    {
      "cell_type": "code",
      "source": [
        "# Cuenta el número de ocurrencias en cada grupo\n",
        "H_failures_count = H_failures.size()\n",
        "\n",
        "# Crea el gráfico circular\n",
        "plt.pie(H_failures_count, labels = H_failures_count.index, autopct='%1.1f%%')\n",
        "\n",
        "# Añade un título con un tamaño de fuente más pequeño\n",
        "plt.title('Failure Type for products H', fontsize=13)\n",
        "\n",
        "# Muestra el gráfico\n",
        "plt.show()"
      ],
      "metadata": {
        "colab": {
          "base_uri": "https://localhost:8080/",
          "height": 428
        },
        "id": "0ZrDvzi7uHSN",
        "outputId": "60f72741-5fce-4803-f819-215e4fa0cf27"
      },
      "execution_count": 46,
      "outputs": [
        {
          "output_type": "display_data",
          "data": {
            "text/plain": [
              "<Figure size 640x480 with 1 Axes>"
            ],
            "image/png": "[encoded data removed]"
          },
          "metadata": {}
        }
      ]
    },
    {
      "cell_type": "markdown",
      "source": [
        "Considering the above pie chart, we can consider:\n",
        "\n",
        "*   Definitely We need to review and develop a better set-up process for tooling. Could be a human error, or defects on design.\n",
        "*   As well as before, dissipation systems is not working properly.\n",
        "*   Power line could be checked.\n",
        "*   Let's investigate the Random Failures.\n"
      ],
      "metadata": {
        "id": "3KgUsZG8xpIc"
      }
    },
    {
      "cell_type": "code",
      "source": [
        "# Cuenta el número de ocurrencias en cada grupo\n",
        "M_failures_count = M_failures.size()\n",
        "\n",
        "# Crea el gráfico circular\n",
        "plt.pie(M_failures_count, labels = M_failures_count.index, autopct='%1.1f%%')\n",
        "\n",
        "# Añade un título con un tamaño de fuente más pequeño\n",
        "plt.title('Failure Types for products M', fontsize=13)\n",
        "\n",
        "# Muestra el gráfico\n",
        "plt.show()"
      ],
      "metadata": {
        "colab": {
          "base_uri": "https://localhost:8080/",
          "height": 428
        },
        "id": "kO68vCOkuVti",
        "outputId": "f21cebf2-761a-4166-a62b-bfcb86b52dc6"
      },
      "execution_count": 47,
      "outputs": [
        {
          "output_type": "display_data",
          "data": {
            "text/plain": [
              "<Figure size 640x480 with 1 Axes>"
            ],
            "image/png": "[encoded data removed]"
          },
          "metadata": {}
        }
      ]
    },
    {
      "cell_type": "markdown",
      "source": [
        "Considering the above pie chart, we can consider:\n",
        "\n",
        "*   We need to review and develop a better set-up process for tooling.\n",
        "*   As well as before, dissipation systems is not working properly.\n",
        "*   Definetily we need to review or check the Power line."
      ],
      "metadata": {
        "id": "0HykUHVwy6CW"
      }
    },
    {
      "cell_type": "markdown",
      "source": [
        "**Including the economic dimension in the EDA:**\n",
        "\n",
        "*  Assuming that our Mean time to fix a failure of this severity is 30min. Calculated including:  \n",
        "    - MTTR: Mean time to response\n",
        "    - MTTRep: Mean time to reparation\n",
        "    - MTTRe: Mean time to recovery\n",
        "*  Assumin that the time of collecting this dataset is 5 years\n",
        "\n",
        "We have 10000/5 years: 2000 per year and a 3% of failure: 60 times per year.\n",
        "\n",
        "60*30min = 1.800min per year our line stopped.\n",
        "\n",
        "In money, and speaking about automotive industry:\n",
        "  $22000*1800min = 39.600.000dollars"
      ],
      "metadata": {
        "id": "LX5UuJVplERI"
      }
    },
    {
      "cell_type": "markdown",
      "source": [
        "# **Predictions**"
      ],
      "metadata": {
        "id": "Zzn7l9qPCJFh"
      }
    },
    {
      "cell_type": "markdown",
      "source": [
        "Let's try to predict throught various methods:\n",
        "\n",
        "*   Logistics Regression\n",
        "*   Decission trees\n",
        "*   Random Forest\n",
        "*   SVM\n",
        "*   K-nearest neighbors (K-NN)\n",
        "*   XGBoost\n",
        "\n",
        "For achieving that our models works properly, we need to do some things before to train them.\n",
        "\n",
        "1. Transform into numbers our categorical functions\n",
        "2. Splitting our dataset into Target variable (*Failure Type*) and explicable variables\n",
        "3. Splitting our dataset between train and test.\n",
        "\n",
        "We will use the following metrics:\n",
        "* Precision\n",
        "* Recall\n",
        "* F1-score\n",
        "* Support\n",
        "\n",
        "\n",
        "\n"
      ],
      "metadata": {
        "id": "Z1mjdRc7Wz_F"
      }
    },
    {
      "cell_type": "code",
      "source": [
        "#Let's start with the installation of the Category_encoders package.\n",
        "!pip install category_encoders"
      ],
      "metadata": {
        "id": "B2NZt8zLZLea"
      },
      "execution_count": null,
      "outputs": []
    },
    {
      "cell_type": "code",
      "source": [
        "df.head()"
      ],
      "metadata": {
        "colab": {
          "base_uri": "https://localhost:8080/",
          "height": 224
        },
        "id": "izFHPUEKc3-G",
        "outputId": "8ac0d133-3186-463b-8eba-3f85674f3cea"
      },
      "execution_count": 48,
      "outputs": [
        {
          "output_type": "execute_result",
          "data": {
            "text/plain": [
              "  Type  Air temperature [°C]  Process temperature [°C]  \\\n",
              "0    M                 24.95                     35.45   \n",
              "1    L                 25.05                     35.55   \n",
              "2    L                 24.95                     35.35   \n",
              "3    L                 25.05                     35.45   \n",
              "4    L                 25.05                     35.55   \n",
              "\n",
              "   Rotational speed [rpm]  Torque [Nm]  Tool wear [min]  Target Failure Type  \n",
              "0                    1551         42.8                0       0   No Failure  \n",
              "1                    1408         46.3                3       0   No Failure  \n",
              "2                    1498         49.4                5       0   No Failure  \n",
              "3                    1433         39.5                7       0   No Failure  \n",
              "4                    1408         40.0                9       0   No Failure  "
            ],
            "text/html": [
              "\n",
              "  <div id=\"df-e824403b-b5f0-4cc5-86be-527e3d54ec0b\" class=\"colab-df-container\">\n",
              "    <div>\n",
              "<style scoped>\n",
              "    .dataframe tbody tr th:only-of-type {\n",
              "        vertical-align: middle;\n",
              "    }\n",
              "\n",
              "    .dataframe tbody tr th {\n",
              "        vertical-align: top;\n",
              "    }\n",
              "\n",
              "    .dataframe thead th {\n",
              "        text-align: right;\n",
              "    }\n",
              "</style>\n",
              "<table border=\"1\" class=\"dataframe\">\n",
              "  <thead>\n",
              "    <tr style=\"text-align: right;\">\n",
              "      <th></th>\n",
              "      <th>Type</th>\n",
              "      <th>Air temperature [°C]</th>\n",
              "      <th>Process temperature [°C]</th>\n",
              "      <th>Rotational speed [rpm]</th>\n",
              "      <th>Torque [Nm]</th>\n",
              "      <th>Tool wear [min]</th>\n",
              "      <th>Target</th>\n",
              "      <th>Failure Type</th>\n",
              "    </tr>\n",
              "  </thead>\n",
              "  <tbody>\n",
              "    <tr>\n",
              "      <th>0</th>\n",
              "      <td>M</td>\n",
              "      <td>24.95</td>\n",
              "      <td>35.45</td>\n",
              "      <td>1551</td>\n",
              "      <td>42.8</td>\n",
              "      <td>0</td>\n",
              "      <td>0</td>\n",
              "      <td>No Failure</td>\n",
              "    </tr>\n",
              "    <tr>\n",
              "      <th>1</th>\n",
              "      <td>L</td>\n",
              "      <td>25.05</td>\n",
              "      <td>35.55</td>\n",
              "      <td>1408</td>\n",
              "      <td>46.3</td>\n",
              "      <td>3</td>\n",
              "      <td>0</td>\n",
              "      <td>No Failure</td>\n",
              "    </tr>\n",
              "    <tr>\n",
              "      <th>2</th>\n",
              "      <td>L</td>\n",
              "      <td>24.95</td>\n",
              "      <td>35.35</td>\n",
              "      <td>1498</td>\n",
              "      <td>49.4</td>\n",
              "      <td>5</td>\n",
              "      <td>0</td>\n",
              "      <td>No Failure</td>\n",
              "    </tr>\n",
              "    <tr>\n",
              "      <th>3</th>\n",
              "      <td>L</td>\n",
              "      <td>25.05</td>\n",
              "      <td>35.45</td>\n",
              "      <td>1433</td>\n",
              "      <td>39.5</td>\n",
              "      <td>7</td>\n",
              "      <td>0</td>\n",
              "      <td>No Failure</td>\n",
              "    </tr>\n",
              "    <tr>\n",
              "      <th>4</th>\n",
              "      <td>L</td>\n",
              "      <td>25.05</td>\n",
              "      <td>35.55</td>\n",
              "      <td>1408</td>\n",
              "      <td>40.0</td>\n",
              "      <td>9</td>\n",
              "      <td>0</td>\n",
              "      <td>No Failure</td>\n",
              "    </tr>\n",
              "  </tbody>\n",
              "</table>\n",
              "</div>\n",
              "    <div class=\"colab-df-buttons\">\n",
              "\n",
              "  <div class=\"colab-df-container\">\n",
              "    <button class=\"colab-df-convert\" onclick=\"convertToInteractive('df-e824403b-b5f0-4cc5-86be-527e3d54ec0b')\"\n",
              "            title=\"Convert this dataframe to an interactive table.\"\n",
              "            style=\"display:none;\">\n",
              "\n",
              "  <svg xmlns=\"http://www.w3.org/2000/svg\" height=\"24px\" viewBox=\"0 -960 960 960\">\n",
              "    <path d=\"M120-120v-720h720v720H120Zm60-500h600v-160H180v160Zm220 220h160v-160H400v160Zm0 220h160v-160H400v160ZM180-400h160v-160H180v160Zm440 0h160v-160H620v160ZM180-180h160v-160H180v160Zm440 0h160v-160H620v160Z\"/>\n",
              "  </svg>\n",
              "    </button>\n",
              "\n",
              "  <style>\n",
              "    .colab-df-container {\n",
              "      display:flex;\n",
              "      gap: 12px;\n",
              "    }\n",
              "\n",
              "    .colab-df-convert {\n",
              "      background-color: #E8F0FE;\n",
              "      border: none;\n",
              "      border-radius: 50%;\n",
              "      cursor: pointer;\n",
              "      display: none;\n",
              "      fill: #1967D2;\n",
              "      height: 32px;\n",
              "      padding: 0 0 0 0;\n",
              "      width: 32px;\n",
              "    }\n",
              "\n",
              "    .colab-df-convert:hover {\n",
              "      background-color: #E2EBFA;\n",
              "      box-shadow: 0px 1px 2px rgba(60, 64, 67, 0.3), 0px 1px 3px 1px rgba(60, 64, 67, 0.15);\n",
              "      fill: #174EA6;\n",
              "    }\n",
              "\n",
              "    .colab-df-buttons div {\n",
              "      margin-bottom: 4px;\n",
              "    }\n",
              "\n",
              "    [theme=dark] .colab-df-convert {\n",
              "      background-color: #3B4455;\n",
              "      fill: #D2E3FC;\n",
              "    }\n",
              "\n",
              "    [theme=dark] .colab-df-convert:hover {\n",
              "      background-color: #434B5C;\n",
              "      box-shadow: 0px 1px 3px 1px rgba(0, 0, 0, 0.15);\n",
              "      filter: drop-shadow(0px 1px 2px rgba(0, 0, 0, 0.3));\n",
              "      fill: #FFFFFF;\n",
              "    }\n",
              "  </style>\n",
              "\n",
              "    <script>\n",
              "      const buttonEl =\n",
              "        document.querySelector('#df-e824403b-b5f0-4cc5-86be-527e3d54ec0b button.colab-df-convert');\n",
              "      buttonEl.style.display =\n",
              "        google.colab.kernel.accessAllowed ? 'block' : 'none';\n",
              "\n",
              "      async function convertToInteractive(key) {\n",
              "        const element = document.querySelector('#df-e824403b-b5f0-4cc5-86be-527e3d54ec0b');\n",
              "        const dataTable =\n",
              "          await google.colab.kernel.invokeFunction('convertToInteractive',\n",
              "                                                    [key], {});\n",
              "        if (!dataTable) return;\n",
              "\n",
              "        const docLinkHtml = 'Like what you see? Visit the ' +\n",
              "          '<a target=\"_blank\" href=https://colab.research.google.com/notebooks/data_table.ipynb>data table notebook</a>'\n",
              "          + ' to learn more about interactive tables.';\n",
              "        element.innerHTML = '';\n",
              "        dataTable['output_type'] = 'display_data';\n",
              "        await google.colab.output.renderOutput(dataTable, element);\n",
              "        const docLink = document.createElement('div');\n",
              "        docLink.innerHTML = docLinkHtml;\n",
              "        element.appendChild(docLink);\n",
              "      }\n",
              "    </script>\n",
              "  </div>\n",
              "\n",
              "\n",
              "<div id=\"df-832a1fc9-da61-4715-97cc-40c60476eb01\">\n",
              "  <button class=\"colab-df-quickchart\" onclick=\"quickchart('df-832a1fc9-da61-4715-97cc-40c60476eb01')\"\n",
              "            title=\"Suggest charts.\"\n",
              "            style=\"display:none;\">\n",
              "\n",
              "<svg xmlns=\"http://www.w3.org/2000/svg\" height=\"24px\"viewBox=\"0 0 24 24\"\n",
              "     width=\"24px\">\n",
              "    <g>\n",
              "        <path d=\"M19 3H5c-1.1 0-2 .9-2 2v14c0 1.1.9 2 2 2h14c1.1 0 2-.9 2-2V5c0-1.1-.9-2-2-2zM9 17H7v-7h2v7zm4 0h-2V7h2v10zm4 0h-2v-4h2v4z\"/>\n",
              "    </g>\n",
              "</svg>\n",
              "  </button>\n",
              "\n",
              "<style>\n",
              "  .colab-df-quickchart {\n",
              "      --bg-color: #E8F0FE;\n",
              "      --fill-color: #1967D2;\n",
              "      --hover-bg-color: #E2EBFA;\n",
              "      --hover-fill-color: #174EA6;\n",
              "      --disabled-fill-color: #AAA;\n",
              "      --disabled-bg-color: #DDD;\n",
              "  }\n",
              "\n",
              "  [theme=dark] .colab-df-quickchart {\n",
              "      --bg-color: #3B4455;\n",
              "      --fill-color: #D2E3FC;\n",
              "      --hover-bg-color: #434B5C;\n",
              "      --hover-fill-color: #FFFFFF;\n",
              "      --disabled-bg-color: #3B4455;\n",
              "      --disabled-fill-color: #666;\n",
              "  }\n",
              "\n",
              "  .colab-df-quickchart {\n",
              "    background-color: var(--bg-color);\n",
              "    border: none;\n",
              "    border-radius: 50%;\n",
              "    cursor: pointer;\n",
              "    display: none;\n",
              "    fill: var(--fill-color);\n",
              "    height: 32px;\n",
              "    padding: 0;\n",
              "    width: 32px;\n",
              "  }\n",
              "\n",
              "  .colab-df-quickchart:hover {\n",
              "    background-color: var(--hover-bg-color);\n",
              "    box-shadow: 0 1px 2px rgba(60, 64, 67, 0.3), 0 1px 3px 1px rgba(60, 64, 67, 0.15);\n",
              "    fill: var(--button-hover-fill-color);\n",
              "  }\n",
              "\n",
              "  .colab-df-quickchart-complete:disabled,\n",
              "  .colab-df-quickchart-complete:disabled:hover {\n",
              "    background-color: var(--disabled-bg-color);\n",
              "    fill: var(--disabled-fill-color);\n",
              "    box-shadow: none;\n",
              "  }\n",
              "\n",
              "  .colab-df-spinner {\n",
              "    border: 2px solid var(--fill-color);\n",
              "    border-color: transparent;\n",
              "    border-bottom-color: var(--fill-color);\n",
              "    animation:\n",
              "      spin 1s steps(1) infinite;\n",
              "  }\n",
              "\n",
              "  @keyframes spin {\n",
              "    0% {\n",
              "      border-color: transparent;\n",
              "      border-bottom-color: var(--fill-color);\n",
              "      border-left-color: var(--fill-color);\n",
              "    }\n",
              "    20% {\n",
              "      border-color: transparent;\n",
              "      border-left-color: var(--fill-color);\n",
              "      border-top-color: var(--fill-color);\n",
              "    }\n",
              "    30% {\n",
              "      border-color: transparent;\n",
              "      border-left-color: var(--fill-color);\n",
              "      border-top-color: var(--fill-color);\n",
              "      border-right-color: var(--fill-color);\n",
              "    }\n",
              "    40% {\n",
              "      border-color: transparent;\n",
              "      border-right-color: var(--fill-color);\n",
              "      border-top-color: var(--fill-color);\n",
              "    }\n",
              "    60% {\n",
              "      border-color: transparent;\n",
              "      border-right-color: var(--fill-color);\n",
              "    }\n",
              "    80% {\n",
              "      border-color: transparent;\n",
              "      border-right-color: var(--fill-color);\n",
              "      border-bottom-color: var(--fill-color);\n",
              "    }\n",
              "    90% {\n",
              "      border-color: transparent;\n",
              "      border-bottom-color: var(--fill-color);\n",
              "    }\n",
              "  }\n",
              "</style>\n",
              "\n",
              "  <script>\n",
              "    async function quickchart(key) {\n",
              "      const quickchartButtonEl =\n",
              "        document.querySelector('#' + key + ' button');\n",
              "      quickchartButtonEl.disabled = true;  // To prevent multiple clicks.\n",
              "      quickchartButtonEl.classList.add('colab-df-spinner');\n",
              "      try {\n",
              "        const charts = await google.colab.kernel.invokeFunction(\n",
              "            'suggestCharts', [key], {});\n",
              "      } catch (error) {\n",
              "        console.error('Error during call to suggestCharts:', error);\n",
              "      }\n",
              "      quickchartButtonEl.classList.remove('colab-df-spinner');\n",
              "      quickchartButtonEl.classList.add('colab-df-quickchart-complete');\n",
              "    }\n",
              "    (() => {\n",
              "      let quickchartButtonEl =\n",
              "        document.querySelector('#df-832a1fc9-da61-4715-97cc-40c60476eb01 button');\n",
              "      quickchartButtonEl.style.display =\n",
              "        google.colab.kernel.accessAllowed ? 'block' : 'none';\n",
              "    })();\n",
              "  </script>\n",
              "</div>\n",
              "    </div>\n",
              "  </div>\n"
            ]
          },
          "metadata": {},
          "execution_count": 48
        }
      ]
    },
    {
      "cell_type": "code",
      "source": [
        "# For transforming Type we will use OrdicalEnconder due to there is a hierarchy among L, M and Hight\n",
        "import category_encoders as ce\n",
        "encoder = ce.OrdinalEncoder(cols=['Type'])\n",
        "df = encoder.fit_transform(df)\n",
        "\n",
        "# For transforming Failure type, we will use Label Encoders due to there are not a hierarchy among Failure Type.\n",
        "from sklearn.preprocessing import LabelEncoder\n",
        "scaler = LabelEncoder()\n",
        "df['Failure Type'] = scaler.fit_transform(df['Failure Type'])"
      ],
      "metadata": {
        "id": "BeJ49tWtYTY2"
      },
      "execution_count": 49,
      "outputs": []
    },
    {
      "cell_type": "code",
      "source": [],
      "metadata": {
        "id": "YyGkjlRyVckK"
      },
      "execution_count": null,
      "outputs": []
    },
    {
      "cell_type": "code",
      "source": [
        "df.head()"
      ],
      "metadata": {
        "colab": {
          "base_uri": "https://localhost:8080/",
          "height": 224
        },
        "id": "YODkcEulc5Oh",
        "outputId": "bc4acb2b-2847-4996-d1d0-51cf5e5198ef"
      },
      "execution_count": 122,
      "outputs": [
        {
          "output_type": "execute_result",
          "data": {
            "text/plain": [
              "   Type  Air temperature [°C]  Process temperature [°C]  \\\n",
              "0     1                 24.95                     35.45   \n",
              "1     2                 25.05                     35.55   \n",
              "2     2                 24.95                     35.35   \n",
              "3     2                 25.05                     35.45   \n",
              "4     2                 25.05                     35.55   \n",
              "\n",
              "   Rotational speed [rpm]  Torque [Nm]  Tool wear [min]  Failure Type  \n",
              "0                    1551         42.8                0             5  \n",
              "1                    1408         46.3                3             5  \n",
              "2                    1498         49.4                5             5  \n",
              "3                    1433         39.5                7             5  \n",
              "4                    1408         40.0                9             5  "
            ],
            "text/html": [
              "\n",
              "  <div id=\"df-aa6d9c56-a557-432c-b8f6-8eff6881f61a\" class=\"colab-df-container\">\n",
              "    <div>\n",
              "<style scoped>\n",
              "    .dataframe tbody tr th:only-of-type {\n",
              "        vertical-align: middle;\n",
              "    }\n",
              "\n",
              "    .dataframe tbody tr th {\n",
              "        vertical-align: top;\n",
              "    }\n",
              "\n",
              "    .dataframe thead th {\n",
              "        text-align: right;\n",
              "    }\n",
              "</style>\n",
              "<table border=\"1\" class=\"dataframe\">\n",
              "  <thead>\n",
              "    <tr style=\"text-align: right;\">\n",
              "      <th></th>\n",
              "      <th>Type</th>\n",
              "      <th>Air temperature [°C]</th>\n",
              "      <th>Process temperature [°C]</th>\n",
              "      <th>Rotational speed [rpm]</th>\n",
              "      <th>Torque [Nm]</th>\n",
              "      <th>Tool wear [min]</th>\n",
              "      <th>Failure Type</th>\n",
              "    </tr>\n",
              "  </thead>\n",
              "  <tbody>\n",
              "    <tr>\n",
              "      <th>0</th>\n",
              "      <td>1</td>\n",
              "      <td>24.95</td>\n",
              "      <td>35.45</td>\n",
              "      <td>1551</td>\n",
              "      <td>42.8</td>\n",
              "      <td>0</td>\n",
              "      <td>5</td>\n",
              "    </tr>\n",
              "    <tr>\n",
              "      <th>1</th>\n",
              "      <td>2</td>\n",
              "      <td>25.05</td>\n",
              "      <td>35.55</td>\n",
              "      <td>1408</td>\n",
              "      <td>46.3</td>\n",
              "      <td>3</td>\n",
              "      <td>5</td>\n",
              "    </tr>\n",
              "    <tr>\n",
              "      <th>2</th>\n",
              "      <td>2</td>\n",
              "      <td>24.95</td>\n",
              "      <td>35.35</td>\n",
              "      <td>1498</td>\n",
              "      <td>49.4</td>\n",
              "      <td>5</td>\n",
              "      <td>5</td>\n",
              "    </tr>\n",
              "    <tr>\n",
              "      <th>3</th>\n",
              "      <td>2</td>\n",
              "      <td>25.05</td>\n",
              "      <td>35.45</td>\n",
              "      <td>1433</td>\n",
              "      <td>39.5</td>\n",
              "      <td>7</td>\n",
              "      <td>5</td>\n",
              "    </tr>\n",
              "    <tr>\n",
              "      <th>4</th>\n",
              "      <td>2</td>\n",
              "      <td>25.05</td>\n",
              "      <td>35.55</td>\n",
              "      <td>1408</td>\n",
              "      <td>40.0</td>\n",
              "      <td>9</td>\n",
              "      <td>5</td>\n",
              "    </tr>\n",
              "  </tbody>\n",
              "</table>\n",
              "</div>\n",
              "    <div class=\"colab-df-buttons\">\n",
              "\n",
              "  <div class=\"colab-df-container\">\n",
              "    <button class=\"colab-df-convert\" onclick=\"convertToInteractive('df-aa6d9c56-a557-432c-b8f6-8eff6881f61a')\"\n",
              "            title=\"Convert this dataframe to an interactive table.\"\n",
              "            style=\"display:none;\">\n",
              "\n",
              "  <svg xmlns=\"http://www.w3.org/2000/svg\" height=\"24px\" viewBox=\"0 -960 960 960\">\n",
              "    <path d=\"M120-120v-720h720v720H120Zm60-500h600v-160H180v160Zm220 220h160v-160H400v160Zm0 220h160v-160H400v160ZM180-400h160v-160H180v160Zm440 0h160v-160H620v160ZM180-180h160v-160H180v160Zm440 0h160v-160H620v160Z\"/>\n",
              "  </svg>\n",
              "    </button>\n",
              "\n",
              "  <style>\n",
              "    .colab-df-container {\n",
              "      display:flex;\n",
              "      gap: 12px;\n",
              "    }\n",
              "\n",
              "    .colab-df-convert {\n",
              "      background-color: #E8F0FE;\n",
              "      border: none;\n",
              "      border-radius: 50%;\n",
              "      cursor: pointer;\n",
              "      display: none;\n",
              "      fill: #1967D2;\n",
              "      height: 32px;\n",
              "      padding: 0 0 0 0;\n",
              "      width: 32px;\n",
              "    }\n",
              "\n",
              "    .colab-df-convert:hover {\n",
              "      background-color: #E2EBFA;\n",
              "      box-shadow: 0px 1px 2px rgba(60, 64, 67, 0.3), 0px 1px 3px 1px rgba(60, 64, 67, 0.15);\n",
              "      fill: #174EA6;\n",
              "    }\n",
              "\n",
              "    .colab-df-buttons div {\n",
              "      margin-bottom: 4px;\n",
              "    }\n",
              "\n",
              "    [theme=dark] .colab-df-convert {\n",
              "      background-color: #3B4455;\n",
              "      fill: #D2E3FC;\n",
              "    }\n",
              "\n",
              "    [theme=dark] .colab-df-convert:hover {\n",
              "      background-color: #434B5C;\n",
              "      box-shadow: 0px 1px 3px 1px rgba(0, 0, 0, 0.15);\n",
              "      filter: drop-shadow(0px 1px 2px rgba(0, 0, 0, 0.3));\n",
              "      fill: #FFFFFF;\n",
              "    }\n",
              "  </style>\n",
              "\n",
              "    <script>\n",
              "      const buttonEl =\n",
              "        document.querySelector('#df-aa6d9c56-a557-432c-b8f6-8eff6881f61a button.colab-df-convert');\n",
              "      buttonEl.style.display =\n",
              "        google.colab.kernel.accessAllowed ? 'block' : 'none';\n",
              "\n",
              "      async function convertToInteractive(key) {\n",
              "        const element = document.querySelector('#df-aa6d9c56-a557-432c-b8f6-8eff6881f61a');\n",
              "        const dataTable =\n",
              "          await google.colab.kernel.invokeFunction('convertToInteractive',\n",
              "                                                    [key], {});\n",
              "        if (!dataTable) return;\n",
              "\n",
              "        const docLinkHtml = 'Like what you see? Visit the ' +\n",
              "          '<a target=\"_blank\" href=https://colab.research.google.com/notebooks/data_table.ipynb>data table notebook</a>'\n",
              "          + ' to learn more about interactive tables.';\n",
              "        element.innerHTML = '';\n",
              "        dataTable['output_type'] = 'display_data';\n",
              "        await google.colab.output.renderOutput(dataTable, element);\n",
              "        const docLink = document.createElement('div');\n",
              "        docLink.innerHTML = docLinkHtml;\n",
              "        element.appendChild(docLink);\n",
              "      }\n",
              "    </script>\n",
              "  </div>\n",
              "\n",
              "\n",
              "<div id=\"df-8714e4e7-ab3c-487f-9de2-bfde52092eb6\">\n",
              "  <button class=\"colab-df-quickchart\" onclick=\"quickchart('df-8714e4e7-ab3c-487f-9de2-bfde52092eb6')\"\n",
              "            title=\"Suggest charts.\"\n",
              "            style=\"display:none;\">\n",
              "\n",
              "<svg xmlns=\"http://www.w3.org/2000/svg\" height=\"24px\"viewBox=\"0 0 24 24\"\n",
              "     width=\"24px\">\n",
              "    <g>\n",
              "        <path d=\"M19 3H5c-1.1 0-2 .9-2 2v14c0 1.1.9 2 2 2h14c1.1 0 2-.9 2-2V5c0-1.1-.9-2-2-2zM9 17H7v-7h2v7zm4 0h-2V7h2v10zm4 0h-2v-4h2v4z\"/>\n",
              "    </g>\n",
              "</svg>\n",
              "  </button>\n",
              "\n",
              "<style>\n",
              "  .colab-df-quickchart {\n",
              "      --bg-color: #E8F0FE;\n",
              "      --fill-color: #1967D2;\n",
              "      --hover-bg-color: #E2EBFA;\n",
              "      --hover-fill-color: #174EA6;\n",
              "      --disabled-fill-color: #AAA;\n",
              "      --disabled-bg-color: #DDD;\n",
              "  }\n",
              "\n",
              "  [theme=dark] .colab-df-quickchart {\n",
              "      --bg-color: #3B4455;\n",
              "      --fill-color: #D2E3FC;\n",
              "      --hover-bg-color: #434B5C;\n",
              "      --hover-fill-color: #FFFFFF;\n",
              "      --disabled-bg-color: #3B4455;\n",
              "      --disabled-fill-color: #666;\n",
              "  }\n",
              "\n",
              "  .colab-df-quickchart {\n",
              "    background-color: var(--bg-color);\n",
              "    border: none;\n",
              "    border-radius: 50%;\n",
              "    cursor: pointer;\n",
              "    display: none;\n",
              "    fill: var(--fill-color);\n",
              "    height: 32px;\n",
              "    padding: 0;\n",
              "    width: 32px;\n",
              "  }\n",
              "\n",
              "  .colab-df-quickchart:hover {\n",
              "    background-color: var(--hover-bg-color);\n",
              "    box-shadow: 0 1px 2px rgba(60, 64, 67, 0.3), 0 1px 3px 1px rgba(60, 64, 67, 0.15);\n",
              "    fill: var(--button-hover-fill-color);\n",
              "  }\n",
              "\n",
              "  .colab-df-quickchart-complete:disabled,\n",
              "  .colab-df-quickchart-complete:disabled:hover {\n",
              "    background-color: var(--disabled-bg-color);\n",
              "    fill: var(--disabled-fill-color);\n",
              "    box-shadow: none;\n",
              "  }\n",
              "\n",
              "  .colab-df-spinner {\n",
              "    border: 2px solid var(--fill-color);\n",
              "    border-color: transparent;\n",
              "    border-bottom-color: var(--fill-color);\n",
              "    animation:\n",
              "      spin 1s steps(1) infinite;\n",
              "  }\n",
              "\n",
              "  @keyframes spin {\n",
              "    0% {\n",
              "      border-color: transparent;\n",
              "      border-bottom-color: var(--fill-color);\n",
              "      border-left-color: var(--fill-color);\n",
              "    }\n",
              "    20% {\n",
              "      border-color: transparent;\n",
              "      border-left-color: var(--fill-color);\n",
              "      border-top-color: var(--fill-color);\n",
              "    }\n",
              "    30% {\n",
              "      border-color: transparent;\n",
              "      border-left-color: var(--fill-color);\n",
              "      border-top-color: var(--fill-color);\n",
              "      border-right-color: var(--fill-color);\n",
              "    }\n",
              "    40% {\n",
              "      border-color: transparent;\n",
              "      border-right-color: var(--fill-color);\n",
              "      border-top-color: var(--fill-color);\n",
              "    }\n",
              "    60% {\n",
              "      border-color: transparent;\n",
              "      border-right-color: var(--fill-color);\n",
              "    }\n",
              "    80% {\n",
              "      border-color: transparent;\n",
              "      border-right-color: var(--fill-color);\n",
              "      border-bottom-color: var(--fill-color);\n",
              "    }\n",
              "    90% {\n",
              "      border-color: transparent;\n",
              "      border-bottom-color: var(--fill-color);\n",
              "    }\n",
              "  }\n",
              "</style>\n",
              "\n",
              "  <script>\n",
              "    async function quickchart(key) {\n",
              "      const quickchartButtonEl =\n",
              "        document.querySelector('#' + key + ' button');\n",
              "      quickchartButtonEl.disabled = true;  // To prevent multiple clicks.\n",
              "      quickchartButtonEl.classList.add('colab-df-spinner');\n",
              "      try {\n",
              "        const charts = await google.colab.kernel.invokeFunction(\n",
              "            'suggestCharts', [key], {});\n",
              "      } catch (error) {\n",
              "        console.error('Error during call to suggestCharts:', error);\n",
              "      }\n",
              "      quickchartButtonEl.classList.remove('colab-df-spinner');\n",
              "      quickchartButtonEl.classList.add('colab-df-quickchart-complete');\n",
              "    }\n",
              "    (() => {\n",
              "      let quickchartButtonEl =\n",
              "        document.querySelector('#df-8714e4e7-ab3c-487f-9de2-bfde52092eb6 button');\n",
              "      quickchartButtonEl.style.display =\n",
              "        google.colab.kernel.accessAllowed ? 'block' : 'none';\n",
              "    })();\n",
              "  </script>\n",
              "</div>\n",
              "    </div>\n",
              "  </div>\n"
            ]
          },
          "metadata": {},
          "execution_count": 122
        }
      ]
    },
    {
      "cell_type": "markdown",
      "source": [
        "Our dataset has changed:\n",
        "\n",
        "![image.png](data:image/png;base64,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)\n",
        "\n",
        "![image.png](data:image/png;base64,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)"
      ],
      "metadata": {
        "id": "UlGlq58pZgdC"
      }
    },
    {
      "cell_type": "code",
      "source": [
        "# Let's drop Target Variable:\n",
        "df = df.drop(columns='Target', axis=1)"
      ],
      "metadata": {
        "id": "s2BDphJ2Qa4j"
      },
      "execution_count": 96,
      "outputs": []
    },
    {
      "cell_type": "code",
      "source": [
        "df1 = df['Failure Type'] = 0\n",
        "df2 = df['Failure Type'] = 1\n",
        "df3 = df['Failure Type'] = 2\n",
        "df4 = df['Failure Type'] = 3\n",
        "df5 = df['Failure Type'] = 4\n",
        "df6 = df['Failure Type'] = 5\n",
        "\n",
        "print(df1, df2, df3, df4, df5, df6)"
      ],
      "metadata": {
        "colab": {
          "base_uri": "https://localhost:8080/"
        },
        "id": "JS0ZU3BwTHta",
        "outputId": "e0c4c0e9-d1e2-415e-8ab4-653fc76340b6"
      },
      "execution_count": 117,
      "outputs": [
        {
          "output_type": "stream",
          "name": "stdout",
          "text": [
            "0 1 2 3 4 5\n"
          ]
        }
      ]
    },
    {
      "cell_type": "code",
      "source": [],
      "metadata": {
        "id": "1dLVHLxsTaO-"
      },
      "execution_count": null,
      "outputs": []
    },
    {
      "cell_type": "code",
      "source": [
        "df.head()"
      ],
      "metadata": {
        "colab": {
          "base_uri": "https://localhost:8080/",
          "height": 224
        },
        "id": "5Xx0kIw-QmC4",
        "outputId": "729069f7-c8ea-4e3e-c1c2-354c942481f6"
      },
      "execution_count": 97,
      "outputs": [
        {
          "output_type": "execute_result",
          "data": {
            "text/plain": [
              "   Type  Air temperature [°C]  Process temperature [°C]  \\\n",
              "0     1                 24.95                     35.45   \n",
              "1     2                 25.05                     35.55   \n",
              "2     2                 24.95                     35.35   \n",
              "3     2                 25.05                     35.45   \n",
              "4     2                 25.05                     35.55   \n",
              "\n",
              "   Rotational speed [rpm]  Torque [Nm]  Tool wear [min]  Failure Type  \n",
              "0                    1551         42.8                0             1  \n",
              "1                    1408         46.3                3             1  \n",
              "2                    1498         49.4                5             1  \n",
              "3                    1433         39.5                7             1  \n",
              "4                    1408         40.0                9             1  "
            ],
            "text/html": [
              "\n",
              "  <div id=\"df-9042fb1b-568f-49fe-bce5-563d8b083a0d\" class=\"colab-df-container\">\n",
              "    <div>\n",
              "<style scoped>\n",
              "    .dataframe tbody tr th:only-of-type {\n",
              "        vertical-align: middle;\n",
              "    }\n",
              "\n",
              "    .dataframe tbody tr th {\n",
              "        vertical-align: top;\n",
              "    }\n",
              "\n",
              "    .dataframe thead th {\n",
              "        text-align: right;\n",
              "    }\n",
              "</style>\n",
              "<table border=\"1\" class=\"dataframe\">\n",
              "  <thead>\n",
              "    <tr style=\"text-align: right;\">\n",
              "      <th></th>\n",
              "      <th>Type</th>\n",
              "      <th>Air temperature [°C]</th>\n",
              "      <th>Process temperature [°C]</th>\n",
              "      <th>Rotational speed [rpm]</th>\n",
              "      <th>Torque [Nm]</th>\n",
              "      <th>Tool wear [min]</th>\n",
              "      <th>Failure Type</th>\n",
              "    </tr>\n",
              "  </thead>\n",
              "  <tbody>\n",
              "    <tr>\n",
              "      <th>0</th>\n",
              "      <td>1</td>\n",
              "      <td>24.95</td>\n",
              "      <td>35.45</td>\n",
              "      <td>1551</td>\n",
              "      <td>42.8</td>\n",
              "      <td>0</td>\n",
              "      <td>1</td>\n",
              "    </tr>\n",
              "    <tr>\n",
              "      <th>1</th>\n",
              "      <td>2</td>\n",
              "      <td>25.05</td>\n",
              "      <td>35.55</td>\n",
              "      <td>1408</td>\n",
              "      <td>46.3</td>\n",
              "      <td>3</td>\n",
              "      <td>1</td>\n",
              "    </tr>\n",
              "    <tr>\n",
              "      <th>2</th>\n",
              "      <td>2</td>\n",
              "      <td>24.95</td>\n",
              "      <td>35.35</td>\n",
              "      <td>1498</td>\n",
              "      <td>49.4</td>\n",
              "      <td>5</td>\n",
              "      <td>1</td>\n",
              "    </tr>\n",
              "    <tr>\n",
              "      <th>3</th>\n",
              "      <td>2</td>\n",
              "      <td>25.05</td>\n",
              "      <td>35.45</td>\n",
              "      <td>1433</td>\n",
              "      <td>39.5</td>\n",
              "      <td>7</td>\n",
              "      <td>1</td>\n",
              "    </tr>\n",
              "    <tr>\n",
              "      <th>4</th>\n",
              "      <td>2</td>\n",
              "      <td>25.05</td>\n",
              "      <td>35.55</td>\n",
              "      <td>1408</td>\n",
              "      <td>40.0</td>\n",
              "      <td>9</td>\n",
              "      <td>1</td>\n",
              "    </tr>\n",
              "  </tbody>\n",
              "</table>\n",
              "</div>\n",
              "    <div class=\"colab-df-buttons\">\n",
              "\n",
              "  <div class=\"colab-df-container\">\n",
              "    <button class=\"colab-df-convert\" onclick=\"convertToInteractive('df-9042fb1b-568f-49fe-bce5-563d8b083a0d')\"\n",
              "            title=\"Convert this dataframe to an interactive table.\"\n",
              "            style=\"display:none;\">\n",
              "\n",
              "  <svg xmlns=\"http://www.w3.org/2000/svg\" height=\"24px\" viewBox=\"0 -960 960 960\">\n",
              "    <path d=\"M120-120v-720h720v720H120Zm60-500h600v-160H180v160Zm220 220h160v-160H400v160Zm0 220h160v-160H400v160ZM180-400h160v-160H180v160Zm440 0h160v-160H620v160ZM180-180h160v-160H180v160Zm440 0h160v-160H620v160Z\"/>\n",
              "  </svg>\n",
              "    </button>\n",
              "\n",
              "  <style>\n",
              "    .colab-df-container {\n",
              "      display:flex;\n",
              "      gap: 12px;\n",
              "    }\n",
              "\n",
              "    .colab-df-convert {\n",
              "      background-color: #E8F0FE;\n",
              "      border: none;\n",
              "      border-radius: 50%;\n",
              "      cursor: pointer;\n",
              "      display: none;\n",
              "      fill: #1967D2;\n",
              "      height: 32px;\n",
              "      padding: 0 0 0 0;\n",
              "      width: 32px;\n",
              "    }\n",
              "\n",
              "    .colab-df-convert:hover {\n",
              "      background-color: #E2EBFA;\n",
              "      box-shadow: 0px 1px 2px rgba(60, 64, 67, 0.3), 0px 1px 3px 1px rgba(60, 64, 67, 0.15);\n",
              "      fill: #174EA6;\n",
              "    }\n",
              "\n",
              "    .colab-df-buttons div {\n",
              "      margin-bottom: 4px;\n",
              "    }\n",
              "\n",
              "    [theme=dark] .colab-df-convert {\n",
              "      background-color: #3B4455;\n",
              "      fill: #D2E3FC;\n",
              "    }\n",
              "\n",
              "    [theme=dark] .colab-df-convert:hover {\n",
              "      background-color: #434B5C;\n",
              "      box-shadow: 0px 1px 3px 1px rgba(0, 0, 0, 0.15);\n",
              "      filter: drop-shadow(0px 1px 2px rgba(0, 0, 0, 0.3));\n",
              "      fill: #FFFFFF;\n",
              "    }\n",
              "  </style>\n",
              "\n",
              "    <script>\n",
              "      const buttonEl =\n",
              "        document.querySelector('#df-9042fb1b-568f-49fe-bce5-563d8b083a0d button.colab-df-convert');\n",
              "      buttonEl.style.display =\n",
              "        google.colab.kernel.accessAllowed ? 'block' : 'none';\n",
              "\n",
              "      async function convertToInteractive(key) {\n",
              "        const element = document.querySelector('#df-9042fb1b-568f-49fe-bce5-563d8b083a0d');\n",
              "        const dataTable =\n",
              "          await google.colab.kernel.invokeFunction('convertToInteractive',\n",
              "                                                    [key], {});\n",
              "        if (!dataTable) return;\n",
              "\n",
              "        const docLinkHtml = 'Like what you see? Visit the ' +\n",
              "          '<a target=\"_blank\" href=https://colab.research.google.com/notebooks/data_table.ipynb>data table notebook</a>'\n",
              "          + ' to learn more about interactive tables.';\n",
              "        element.innerHTML = '';\n",
              "        dataTable['output_type'] = 'display_data';\n",
              "        await google.colab.output.renderOutput(dataTable, element);\n",
              "        const docLink = document.createElement('div');\n",
              "        docLink.innerHTML = docLinkHtml;\n",
              "        element.appendChild(docLink);\n",
              "      }\n",
              "    </script>\n",
              "  </div>\n",
              "\n",
              "\n",
              "<div id=\"df-1dbe7b1f-7472-4ef4-838b-a95153f83327\">\n",
              "  <button class=\"colab-df-quickchart\" onclick=\"quickchart('df-1dbe7b1f-7472-4ef4-838b-a95153f83327')\"\n",
              "            title=\"Suggest charts.\"\n",
              "            style=\"display:none;\">\n",
              "\n",
              "<svg xmlns=\"http://www.w3.org/2000/svg\" height=\"24px\"viewBox=\"0 0 24 24\"\n",
              "     width=\"24px\">\n",
              "    <g>\n",
              "        <path d=\"M19 3H5c-1.1 0-2 .9-2 2v14c0 1.1.9 2 2 2h14c1.1 0 2-.9 2-2V5c0-1.1-.9-2-2-2zM9 17H7v-7h2v7zm4 0h-2V7h2v10zm4 0h-2v-4h2v4z\"/>\n",
              "    </g>\n",
              "</svg>\n",
              "  </button>\n",
              "\n",
              "<style>\n",
              "  .colab-df-quickchart {\n",
              "      --bg-color: #E8F0FE;\n",
              "      --fill-color: #1967D2;\n",
              "      --hover-bg-color: #E2EBFA;\n",
              "      --hover-fill-color: #174EA6;\n",
              "      --disabled-fill-color: #AAA;\n",
              "      --disabled-bg-color: #DDD;\n",
              "  }\n",
              "\n",
              "  [theme=dark] .colab-df-quickchart {\n",
              "      --bg-color: #3B4455;\n",
              "      --fill-color: #D2E3FC;\n",
              "      --hover-bg-color: #434B5C;\n",
              "      --hover-fill-color: #FFFFFF;\n",
              "      --disabled-bg-color: #3B4455;\n",
              "      --disabled-fill-color: #666;\n",
              "  }\n",
              "\n",
              "  .colab-df-quickchart {\n",
              "    background-color: var(--bg-color);\n",
              "    border: none;\n",
              "    border-radius: 50%;\n",
              "    cursor: pointer;\n",
              "    display: none;\n",
              "    fill: var(--fill-color);\n",
              "    height: 32px;\n",
              "    padding: 0;\n",
              "    width: 32px;\n",
              "  }\n",
              "\n",
              "  .colab-df-quickchart:hover {\n",
              "    background-color: var(--hover-bg-color);\n",
              "    box-shadow: 0 1px 2px rgba(60, 64, 67, 0.3), 0 1px 3px 1px rgba(60, 64, 67, 0.15);\n",
              "    fill: var(--button-hover-fill-color);\n",
              "  }\n",
              "\n",
              "  .colab-df-quickchart-complete:disabled,\n",
              "  .colab-df-quickchart-complete:disabled:hover {\n",
              "    background-color: var(--disabled-bg-color);\n",
              "    fill: var(--disabled-fill-color);\n",
              "    box-shadow: none;\n",
              "  }\n",
              "\n",
              "  .colab-df-spinner {\n",
              "    border: 2px solid var(--fill-color);\n",
              "    border-color: transparent;\n",
              "    border-bottom-color: var(--fill-color);\n",
              "    animation:\n",
              "      spin 1s steps(1) infinite;\n",
              "  }\n",
              "\n",
              "  @keyframes spin {\n",
              "    0% {\n",
              "      border-color: transparent;\n",
              "      border-bottom-color: var(--fill-color);\n",
              "      border-left-color: var(--fill-color);\n",
              "    }\n",
              "    20% {\n",
              "      border-color: transparent;\n",
              "      border-left-color: var(--fill-color);\n",
              "      border-top-color: var(--fill-color);\n",
              "    }\n",
              "    30% {\n",
              "      border-color: transparent;\n",
              "      border-left-color: var(--fill-color);\n",
              "      border-top-color: var(--fill-color);\n",
              "      border-right-color: var(--fill-color);\n",
              "    }\n",
              "    40% {\n",
              "      border-color: transparent;\n",
              "      border-right-color: var(--fill-color);\n",
              "      border-top-color: var(--fill-color);\n",
              "    }\n",
              "    60% {\n",
              "      border-color: transparent;\n",
              "      border-right-color: var(--fill-color);\n",
              "    }\n",
              "    80% {\n",
              "      border-color: transparent;\n",
              "      border-right-color: var(--fill-color);\n",
              "      border-bottom-color: var(--fill-color);\n",
              "    }\n",
              "    90% {\n",
              "      border-color: transparent;\n",
              "      border-bottom-color: var(--fill-color);\n",
              "    }\n",
              "  }\n",
              "</style>\n",
              "\n",
              "  <script>\n",
              "    async function quickchart(key) {\n",
              "      const quickchartButtonEl =\n",
              "        document.querySelector('#' + key + ' button');\n",
              "      quickchartButtonEl.disabled = true;  // To prevent multiple clicks.\n",
              "      quickchartButtonEl.classList.add('colab-df-spinner');\n",
              "      try {\n",
              "        const charts = await google.colab.kernel.invokeFunction(\n",
              "            'suggestCharts', [key], {});\n",
              "      } catch (error) {\n",
              "        console.error('Error during call to suggestCharts:', error);\n",
              "      }\n",
              "      quickchartButtonEl.classList.remove('colab-df-spinner');\n",
              "      quickchartButtonEl.classList.add('colab-df-quickchart-complete');\n",
              "    }\n",
              "    (() => {\n",
              "      let quickchartButtonEl =\n",
              "        document.querySelector('#df-1dbe7b1f-7472-4ef4-838b-a95153f83327 button');\n",
              "      quickchartButtonEl.style.display =\n",
              "        google.colab.kernel.accessAllowed ? 'block' : 'none';\n",
              "    })();\n",
              "  </script>\n",
              "</div>\n",
              "    </div>\n",
              "  </div>\n"
            ]
          },
          "metadata": {},
          "execution_count": 97
        }
      ]
    },
    {
      "cell_type": "code",
      "source": [
        "# Let's split our dataset between target variable:Failure Type (y) and explanatorial variables (X):\n",
        "X = df.drop(columns=\"Failure Type\" , axis=1)\n",
        "y = df[\"Failure Type\"]"
      ],
      "metadata": {
        "id": "wG37SuLqYTQi"
      },
      "execution_count": 98,
      "outputs": []
    },
    {
      "cell_type": "markdown",
      "source": [
        "![image.png](data:image/png;base64,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)"
      ],
      "metadata": {
        "id": "CHpvsffoePaz"
      }
    },
    {
      "cell_type": "code",
      "source": [
        "# Let's split our dataset into Train and test parts, the proporcion will be 80% for Training, 20% for testing:\n",
        "from sklearn.model_selection import train_test_split\n",
        "X_train, X_test, y_train, y_test = train_test_split(X, y, test_size=0.2, random_state=21)"
      ],
      "metadata": {
        "id": "-O_bO3OiYTL0"
      },
      "execution_count": 99,
      "outputs": []
    },
    {
      "cell_type": "markdown",
      "source": [
        "## Logistics Regression Model:"
      ],
      "metadata": {
        "id": "W_wAmwQwetd_"
      }
    },
    {
      "cell_type": "code",
      "source": [
        "# Logistics regression Model:\n",
        "\n",
        "from sklearn.linear_model import LogisticRegression\n",
        "from sklearn.metrics import accuracy_score, classification_report, confusion_matrix, ConfusionMatrixDisplay\n",
        "\n",
        "lr = LogisticRegression()       # Creating the model\n",
        "lr.fit(X_train, y_train)        # Assigning model\n",
        "y_pred_lr = lr.predict(X_test)  # Predicting model\n",
        "\n",
        "log_train = round(lr.score(X_train, y_train) * 100, 2)            # Calculating percentajes\n",
        "log_accuracy = round(accuracy_score(y_pred_lr, y_test) * 100, 2)  # Calculating percentajes of Accuracy\n",
        "\n",
        "\n",
        "cm = confusion_matrix(y_test, y_pred_lr)\n",
        "\n",
        "\n",
        "print(f'Training Accuracy: {log_train}')\n",
        "print(f'Model Accuracy:  {log_accuracy}')\n",
        "print('Classification Report: \\n', classification_report(y_test, y_pred_lr))\n",
        "disp = ConfusionMatrixDisplay(confusion_matrix=cm)\n",
        "disp.plot()\n",
        "plt.show()\n"
      ],
      "metadata": {
        "id": "x1dP4DiVYTJa"
      },
      "execution_count": null,
      "outputs": []
    },
    {
      "cell_type": "code",
      "source": [
        "# Importar librerías necesarias\n",
        "import numpy as np\n",
        "from sklearn.model_selection import train_test_split\n",
        "from sklearn.linear_model import LogisticRegression\n",
        "from sklearn.datasets import make_classification\n",
        "from sklearn.metrics import accuracy_score\n",
        "\n",
        "\n",
        "# Inicializar el modelo de regresión logística\n",
        "model = LogisticRegression()\n",
        "\n",
        "# Entrenar el modelo con los datos de entrenamiento\n",
        "model.fit(X_train, y_train)\n",
        "\n",
        "# Realizar predicciones en el conjunto de prueba\n",
        "y_pred = model.predict(X_test)\n",
        "\n",
        "# Calcular la exactitud (accuracy) del modelo\n",
        "accuracy = accuracy_score(y_test, y_pred)\n",
        "print(f'Exactitud del modelo: {accuracy}')\n",
        "\n",
        "# Ahora, puedes utilizar este modelo entrenado para hacer predicciones con nuevos datos. Por ejemplo:\n",
        "new_data_point = np.array([1, 24.95, 35.45,\t1551,\t42.8])\n",
        "new_data_point_2d = new_data_point.reshape(1, -1)\n",
        "prediction = model.predict(new_data_point_2d)\n",
        "print(f'Predicción para los nuevos datos: {prediction}')"
      ],
      "metadata": {
        "id": "sWdudGKzjTd5"
      },
      "execution_count": null,
      "outputs": []
    },
    {
      "cell_type": "markdown",
      "source": [
        "## Decision Tree Classifier:"
      ],
      "metadata": {
        "id": "PfYxZI9lj3lq"
      }
    },
    {
      "cell_type": "code",
      "source": [
        "# Decision Tree:\n",
        "\n",
        "from sklearn.tree import DecisionTreeClassifier\n",
        "from sklearn.metrics import confusion_matrix\n",
        "\n",
        "decisor = DecisionTreeClassifier()\n",
        "decisor.fit(X_train, y_train)\n",
        "y_pred = decisor.predict(X_test)\n",
        "\n",
        "decisor_train = round(decisor.score(X_train, y_train)*100, 2)\n",
        "decisor_accuracy = round(accuracy_score(y_pred, y_test)*100, 2)\n",
        "\n",
        "print(f'Training Accuracy: {decisor_train}')\n",
        "print(f'Model Accuracy: {decisor_accuracy}')\n",
        "print(\"Classification_Report: \\n\",classification_report(y_test,y_pred))\n",
        "\n",
        "\n",
        "#Confusion Matrix:\n",
        "conf_matrix = confusion_matrix(y_test, y_pred)\n",
        "\n",
        "# Visualizar la matriz de confusión con seaborn\n",
        "plt.figure(figsize=(6, 4))\n",
        "sns.heatmap(conf_matrix, annot=True, fmt='d', cmap='Blues',\n",
        "            xticklabels=['Clase 0', 'Clase 1'],\n",
        "            yticklabels=['Clase 0', 'Clase 1'])\n",
        "plt.xlabel('Prediction')\n",
        "plt.ylabel('Real Value')\n",
        "plt.title('Confusion Matrix')\n",
        "plt.show()"
      ],
      "metadata": {
        "colab": {
          "base_uri": "https://localhost:8080/",
          "height": 682
        },
        "id": "y0IkAU73kS2J",
        "outputId": "3a73ff19-1c39-4a66-d469-ce8bd7a0c084"
      },
      "execution_count": 71,
      "outputs": [
        {
          "output_type": "stream",
          "name": "stdout",
          "text": [
            "Training Accuracy: 100.0\n",
            "Model Accuracy: 99.45\n",
            "Classification_Report: \n",
            "               precision    recall  f1-score   support\n",
            "\n",
            "           0       0.97      0.91      0.94        32\n",
            "           1       1.00      1.00      1.00      1921\n",
            "           2       0.93      0.88      0.90        16\n",
            "           3       0.90      1.00      0.95        19\n",
            "           4       0.00      0.00      0.00         3\n",
            "           5       0.89      0.89      0.89         9\n",
            "\n",
            "    accuracy                           0.99      2000\n",
            "   macro avg       0.78      0.78      0.78      2000\n",
            "weighted avg       0.99      0.99      0.99      2000\n",
            "\n"
          ]
        },
        {
          "output_type": "display_data",
          "data": {
            "text/plain": [
              "<Figure size 600x400 with 2 Axes>"
            ],
            "image/png": "[encoded data removed]"
          },
          "metadata": {}
        }
      ]
    },
    {
      "cell_type": "markdown",
      "source": [
        "## Random Forest Classifier:"
      ],
      "metadata": {
        "id": "Gwkb8A1bj3jU"
      }
    },
    {
      "cell_type": "code",
      "source": [
        "from sklearn.ensemble import RandomForestClassifier\n",
        "from sklearn.metrics import confusion_matrix\n",
        "\n",
        "random_forest = RandomForestClassifier(n_estimators=100)\n",
        "random_forest.fit(X_train, y_train)\n",
        "y_pred_rf = random_forest.predict(X_test)\n",
        "random_forest.score(X_train, y_train)\n",
        "\n",
        "random_forest_train = round(random_forest.score(X_train, y_train) * 100, 2)\n",
        "random_forest_accuracy = round(accuracy_score(y_pred_rf, y_test) * 100, 2)\n",
        "\n",
        "print(f'Training Accuracy: {random_forest_train}')\n",
        "print(f'Model Accuracy: {random_forest_accuracy}')\n",
        "print(\"Classification_Report: \\n\", classification_report(y_test,y_pred_rf))\n",
        "\n",
        "\n",
        "#Confusion Matrix:\n",
        "conf_matrix = confusion_matrix(y_test, y_pred)\n",
        "\n",
        "# Visualize conf_matrix wiht seaborn\n",
        "plt.figure(figsize=(6, 4))\n",
        "sns.heatmap(conf_matrix, annot=True, fmt='d', cmap='Blues',\n",
        "            xticklabels=['Class 0', 'Class 1', 'Class 2', 'Class 3', 'Class 4', 'Class 5'],\n",
        "            yticklabels=['Class 0', 'Class 1', 'Class 2', 'Class 3', 'Class 4', 'Class 5'])\n",
        "plt.xlabel('Prediction')\n",
        "plt.ylabel('Real Value')\n",
        "plt.title('Confusion Matrix')\n",
        "plt.show()"
      ],
      "metadata": {
        "colab": {
          "base_uri": "https://localhost:8080/",
          "height": 682
        },
        "id": "RZW2FUpglBB4",
        "outputId": "de8a28fa-db3a-4698-cdcc-f6005ee46f48"
      },
      "execution_count": 100,
      "outputs": [
        {
          "output_type": "stream",
          "name": "stdout",
          "text": [
            "Training Accuracy: 100.0\n",
            "Model Accuracy: 98.4\n",
            "Classification_Report: \n",
            "               precision    recall  f1-score   support\n",
            "\n",
            "           0       1.00      0.59      0.75        32\n",
            "           1       0.98      1.00      0.99      1921\n",
            "           2       0.92      0.69      0.79        16\n",
            "           3       0.95      1.00      0.97        19\n",
            "           4       0.00      0.00      0.00         3\n",
            "           5       0.00      0.00      0.00         9\n",
            "\n",
            "    accuracy                           0.98      2000\n",
            "   macro avg       0.64      0.55      0.58      2000\n",
            "weighted avg       0.98      0.98      0.98      2000\n",
            "\n"
          ]
        },
        {
          "output_type": "display_data",
          "data": {
            "text/plain": [
              "<Figure size 600x400 with 2 Axes>"
            ],
            "image/png": "[encoded data removed]"
          },
          "metadata": {}
        }
      ]
    },
    {
      "cell_type": "markdown",
      "source": [
        "## Support vector machine Clasiffier:"
      ],
      "metadata": {
        "id": "Xit0pyt-j3g4"
      }
    },
    {
      "cell_type": "code",
      "source": [
        "#SVM:\n",
        "\n",
        "from sklearn.svm import SVC\n",
        "svc = SVC()\n",
        "svc.fit(X_train, y_train)\n",
        "y_pred_svc = svc.predict(X_test)\n",
        "\n",
        "svc_train = round(svc.score(X_train, y_train)*100, 2)\n",
        "svc_accuracy = round(accuracy_score(y_pred_svc, y_test)*100, 2)\n",
        "\n",
        "print(f'Training Accuracy: {svc_train}')\n",
        "print(f'Model Accuracy: {svc_accuracy}')\n",
        "print(\"Classification_Report: \\n\", classification_report(y_test, y_pred_svc))\n",
        "\n",
        "\n",
        "#Confusion Matrix:\n",
        "conf_matrix = confusion_matrix(y_test, y_pred)\n",
        "\n",
        "# Visualizar la matriz de confusión con seaborn\n",
        "plt.figure(figsize=(6, 4))\n",
        "sns.heatmap(conf_matrix, annot=True, fmt='d', cmap='Blues',\n",
        "            xticklabels=['Clase 0', 'Clase 1'],\n",
        "            yticklabels=['Clase 0', 'Clase 1'])\n",
        "plt.xlabel('Prediction')\n",
        "plt.ylabel('Real Value')\n",
        "plt.title('Confusion Matrix')\n",
        "plt.show()"
      ],
      "metadata": {
        "colab": {
          "base_uri": "https://localhost:8080/",
          "height": 682
        },
        "id": "f_Ld6dc_lG6O",
        "outputId": "4c470c81-39f3-4b0c-ce60-6d9ab5d31e11"
      },
      "execution_count": 72,
      "outputs": [
        {
          "output_type": "stream",
          "name": "stdout",
          "text": [
            "Training Accuracy: 96.64\n",
            "Model Accuracy: 96.05\n",
            "Classification_Report: \n",
            "               precision    recall  f1-score   support\n",
            "\n",
            "           0       0.00      0.00      0.00        32\n",
            "           1       0.96      1.00      0.98      1921\n",
            "           2       0.00      0.00      0.00        16\n",
            "           3       0.00      0.00      0.00        19\n",
            "           4       0.00      0.00      0.00         3\n",
            "           5       0.00      0.00      0.00         9\n",
            "\n",
            "    accuracy                           0.96      2000\n",
            "   macro avg       0.16      0.17      0.16      2000\n",
            "weighted avg       0.92      0.96      0.94      2000\n",
            "\n"
          ]
        },
        {
          "output_type": "display_data",
          "data": {
            "text/plain": [
              "<Figure size 600x400 with 2 Axes>"
            ],
            "image/png": "[encoded data removed]"
          },
          "metadata": {}
        }
      ]
    },
    {
      "cell_type": "code",
      "source": [],
      "metadata": {
        "id": "aMO4hIDIIKAY"
      },
      "execution_count": null,
      "outputs": []
    },
    {
      "cell_type": "markdown",
      "source": [
        "## K-nearest neighbors (K-NN):\n"
      ],
      "metadata": {
        "id": "xPGu1asakVpJ"
      }
    },
    {
      "cell_type": "markdown",
      "source": [
        "## XGBoost:"
      ],
      "metadata": {
        "id": "vytx_PSqkb5t"
      }
    },
    {
      "cell_type": "markdown",
      "source": [
        "## Model Building:"
      ],
      "metadata": {
        "id": "8aHtaBcJj3eM"
      }
    },
    {
      "cell_type": "code",
      "source": [
        "#models\n",
        "\n",
        "models = pd.DataFrame({'Model':['Support Vector Machines', 'Random Forest', 'Decision Tree'],\n",
        "                       'Training Accuracy': [svc_train, decisor_train, random_forest_train],\n",
        "                       'Model Accuracy Score': [svc_accuracy, decisor_accuracy, random_forest_accuracy]})"
      ],
      "metadata": {
        "id": "JUXXyGqflOG9"
      },
      "execution_count": 75,
      "outputs": []
    },
    {
      "cell_type": "code",
      "source": [
        "pd.options.display.precision= 2\n",
        "models.sort_values(by='Model Accuracy Score', ascending=False)"
      ],
      "metadata": {
        "colab": {
          "base_uri": "https://localhost:8080/",
          "height": 143
        },
        "id": "W8TJq39jlQiJ",
        "outputId": "e705badd-1774-4427-9aa4-52f5c8c7a4f7"
      },
      "execution_count": 76,
      "outputs": [
        {
          "output_type": "execute_result",
          "data": {
            "text/plain": [
              "                     Model  Training Accuracy  Model Accuracy Score\n",
              "2            Decision Tree             100.00                 99.60\n",
              "1            Random Forest             100.00                 99.45\n",
              "0  Support Vector Machines              96.64                 96.05"
            ],
            "text/html": [
              "\n",
              "  <div id=\"df-3f934581-26a6-480b-90d3-174d3b3d0884\" class=\"colab-df-container\">\n",
              "    <div>\n",
              "<style scoped>\n",
              "    .dataframe tbody tr th:only-of-type {\n",
              "        vertical-align: middle;\n",
              "    }\n",
              "\n",
              "    .dataframe tbody tr th {\n",
              "        vertical-align: top;\n",
              "    }\n",
              "\n",
              "    .dataframe thead th {\n",
              "        text-align: right;\n",
              "    }\n",
              "</style>\n",
              "<table border=\"1\" class=\"dataframe\">\n",
              "  <thead>\n",
              "    <tr style=\"text-align: right;\">\n",
              "      <th></th>\n",
              "      <th>Model</th>\n",
              "      <th>Training Accuracy</th>\n",
              "      <th>Model Accuracy Score</th>\n",
              "    </tr>\n",
              "  </thead>\n",
              "  <tbody>\n",
              "    <tr>\n",
              "      <th>2</th>\n",
              "      <td>Decision Tree</td>\n",
              "      <td>100.00</td>\n",
              "      <td>99.60</td>\n",
              "    </tr>\n",
              "    <tr>\n",
              "      <th>1</th>\n",
              "      <td>Random Forest</td>\n",
              "      <td>100.00</td>\n",
              "      <td>99.45</td>\n",
              "    </tr>\n",
              "    <tr>\n",
              "      <th>0</th>\n",
              "      <td>Support Vector Machines</td>\n",
              "      <td>96.64</td>\n",
              "      <td>96.05</td>\n",
              "    </tr>\n",
              "  </tbody>\n",
              "</table>\n",
              "</div>\n",
              "    <div class=\"colab-df-buttons\">\n",
              "\n",
              "  <div class=\"colab-df-container\">\n",
              "    <button class=\"colab-df-convert\" onclick=\"convertToInteractive('df-3f934581-26a6-480b-90d3-174d3b3d0884')\"\n",
              "            title=\"Convert this dataframe to an interactive table.\"\n",
              "            style=\"display:none;\">\n",
              "\n",
              "  <svg xmlns=\"http://www.w3.org/2000/svg\" height=\"24px\" viewBox=\"0 -960 960 960\">\n",
              "    <path d=\"M120-120v-720h720v720H120Zm60-500h600v-160H180v160Zm220 220h160v-160H400v160Zm0 220h160v-160H400v160ZM180-400h160v-160H180v160Zm440 0h160v-160H620v160ZM180-180h160v-160H180v160Zm440 0h160v-160H620v160Z\"/>\n",
              "  </svg>\n",
              "    </button>\n",
              "\n",
              "  <style>\n",
              "    .colab-df-container {\n",
              "      display:flex;\n",
              "      gap: 12px;\n",
              "    }\n",
              "\n",
              "    .colab-df-convert {\n",
              "      background-color: #E8F0FE;\n",
              "      border: none;\n",
              "      border-radius: 50%;\n",
              "      cursor: pointer;\n",
              "      display: none;\n",
              "      fill: #1967D2;\n",
              "      height: 32px;\n",
              "      padding: 0 0 0 0;\n",
              "      width: 32px;\n",
              "    }\n",
              "\n",
              "    .colab-df-convert:hover {\n",
              "      background-color: #E2EBFA;\n",
              "      box-shadow: 0px 1px 2px rgba(60, 64, 67, 0.3), 0px 1px 3px 1px rgba(60, 64, 67, 0.15);\n",
              "      fill: #174EA6;\n",
              "    }\n",
              "\n",
              "    .colab-df-buttons div {\n",
              "      margin-bottom: 4px;\n",
              "    }\n",
              "\n",
              "    [theme=dark] .colab-df-convert {\n",
              "      background-color: #3B4455;\n",
              "      fill: #D2E3FC;\n",
              "    }\n",
              "\n",
              "    [theme=dark] .colab-df-convert:hover {\n",
              "      background-color: #434B5C;\n",
              "      box-shadow: 0px 1px 3px 1px rgba(0, 0, 0, 0.15);\n",
              "      filter: drop-shadow(0px 1px 2px rgba(0, 0, 0, 0.3));\n",
              "      fill: #FFFFFF;\n",
              "    }\n",
              "  </style>\n",
              "\n",
              "    <script>\n",
              "      const buttonEl =\n",
              "        document.querySelector('#df-3f934581-26a6-480b-90d3-174d3b3d0884 button.colab-df-convert');\n",
              "      buttonEl.style.display =\n",
              "        google.colab.kernel.accessAllowed ? 'block' : 'none';\n",
              "\n",
              "      async function convertToInteractive(key) {\n",
              "        const element = document.querySelector('#df-3f934581-26a6-480b-90d3-174d3b3d0884');\n",
              "        const dataTable =\n",
              "          await google.colab.kernel.invokeFunction('convertToInteractive',\n",
              "                                                    [key], {});\n",
              "        if (!dataTable) return;\n",
              "\n",
              "        const docLinkHtml = 'Like what you see? Visit the ' +\n",
              "          '<a target=\"_blank\" href=https://colab.research.google.com/notebooks/data_table.ipynb>data table notebook</a>'\n",
              "          + ' to learn more about interactive tables.';\n",
              "        element.innerHTML = '';\n",
              "        dataTable['output_type'] = 'display_data';\n",
              "        await google.colab.output.renderOutput(dataTable, element);\n",
              "        const docLink = document.createElement('div');\n",
              "        docLink.innerHTML = docLinkHtml;\n",
              "        element.appendChild(docLink);\n",
              "      }\n",
              "    </script>\n",
              "  </div>\n",
              "\n",
              "\n",
              "<div id=\"df-73089bfc-8362-4144-a4b8-493c4e55409c\">\n",
              "  <button class=\"colab-df-quickchart\" onclick=\"quickchart('df-73089bfc-8362-4144-a4b8-493c4e55409c')\"\n",
              "            title=\"Suggest charts.\"\n",
              "            style=\"display:none;\">\n",
              "\n",
              "<svg xmlns=\"http://www.w3.org/2000/svg\" height=\"24px\"viewBox=\"0 0 24 24\"\n",
              "     width=\"24px\">\n",
              "    <g>\n",
              "        <path d=\"M19 3H5c-1.1 0-2 .9-2 2v14c0 1.1.9 2 2 2h14c1.1 0 2-.9 2-2V5c0-1.1-.9-2-2-2zM9 17H7v-7h2v7zm4 0h-2V7h2v10zm4 0h-2v-4h2v4z\"/>\n",
              "    </g>\n",
              "</svg>\n",
              "  </button>\n",
              "\n",
              "<style>\n",
              "  .colab-df-quickchart {\n",
              "      --bg-color: #E8F0FE;\n",
              "      --fill-color: #1967D2;\n",
              "      --hover-bg-color: #E2EBFA;\n",
              "      --hover-fill-color: #174EA6;\n",
              "      --disabled-fill-color: #AAA;\n",
              "      --disabled-bg-color: #DDD;\n",
              "  }\n",
              "\n",
              "  [theme=dark] .colab-df-quickchart {\n",
              "      --bg-color: #3B4455;\n",
              "      --fill-color: #D2E3FC;\n",
              "      --hover-bg-color: #434B5C;\n",
              "      --hover-fill-color: #FFFFFF;\n",
              "      --disabled-bg-color: #3B4455;\n",
              "      --disabled-fill-color: #666;\n",
              "  }\n",
              "\n",
              "  .colab-df-quickchart {\n",
              "    background-color: var(--bg-color);\n",
              "    border: none;\n",
              "    border-radius: 50%;\n",
              "    cursor: pointer;\n",
              "    display: none;\n",
              "    fill: var(--fill-color);\n",
              "    height: 32px;\n",
              "    padding: 0;\n",
              "    width: 32px;\n",
              "  }\n",
              "\n",
              "  .colab-df-quickchart:hover {\n",
              "    background-color: var(--hover-bg-color);\n",
              "    box-shadow: 0 1px 2px rgba(60, 64, 67, 0.3), 0 1px 3px 1px rgba(60, 64, 67, 0.15);\n",
              "    fill: var(--button-hover-fill-color);\n",
              "  }\n",
              "\n",
              "  .colab-df-quickchart-complete:disabled,\n",
              "  .colab-df-quickchart-complete:disabled:hover {\n",
              "    background-color: var(--disabled-bg-color);\n",
              "    fill: var(--disabled-fill-color);\n",
              "    box-shadow: none;\n",
              "  }\n",
              "\n",
              "  .colab-df-spinner {\n",
              "    border: 2px solid var(--fill-color);\n",
              "    border-color: transparent;\n",
              "    border-bottom-color: var(--fill-color);\n",
              "    animation:\n",
              "      spin 1s steps(1) infinite;\n",
              "  }\n",
              "\n",
              "  @keyframes spin {\n",
              "    0% {\n",
              "      border-color: transparent;\n",
              "      border-bottom-color: var(--fill-color);\n",
              "      border-left-color: var(--fill-color);\n",
              "    }\n",
              "    20% {\n",
              "      border-color: transparent;\n",
              "      border-left-color: var(--fill-color);\n",
              "      border-top-color: var(--fill-color);\n",
              "    }\n",
              "    30% {\n",
              "      border-color: transparent;\n",
              "      border-left-color: var(--fill-color);\n",
              "      border-top-color: var(--fill-color);\n",
              "      border-right-color: var(--fill-color);\n",
              "    }\n",
              "    40% {\n",
              "      border-color: transparent;\n",
              "      border-right-color: var(--fill-color);\n",
              "      border-top-color: var(--fill-color);\n",
              "    }\n",
              "    60% {\n",
              "      border-color: transparent;\n",
              "      border-right-color: var(--fill-color);\n",
              "    }\n",
              "    80% {\n",
              "      border-color: transparent;\n",
              "      border-right-color: var(--fill-color);\n",
              "      border-bottom-color: var(--fill-color);\n",
              "    }\n",
              "    90% {\n",
              "      border-color: transparent;\n",
              "      border-bottom-color: var(--fill-color);\n",
              "    }\n",
              "  }\n",
              "</style>\n",
              "\n",
              "  <script>\n",
              "    async function quickchart(key) {\n",
              "      const quickchartButtonEl =\n",
              "        document.querySelector('#' + key + ' button');\n",
              "      quickchartButtonEl.disabled = true;  // To prevent multiple clicks.\n",
              "      quickchartButtonEl.classList.add('colab-df-spinner');\n",
              "      try {\n",
              "        const charts = await google.colab.kernel.invokeFunction(\n",
              "            'suggestCharts', [key], {});\n",
              "      } catch (error) {\n",
              "        console.error('Error during call to suggestCharts:', error);\n",
              "      }\n",
              "      quickchartButtonEl.classList.remove('colab-df-spinner');\n",
              "      quickchartButtonEl.classList.add('colab-df-quickchart-complete');\n",
              "    }\n",
              "    (() => {\n",
              "      let quickchartButtonEl =\n",
              "        document.querySelector('#df-73089bfc-8362-4144-a4b8-493c4e55409c button');\n",
              "      quickchartButtonEl.style.display =\n",
              "        google.colab.kernel.accessAllowed ? 'block' : 'none';\n",
              "    })();\n",
              "  </script>\n",
              "</div>\n",
              "    </div>\n",
              "  </div>\n"
            ]
          },
          "metadata": {},
          "execution_count": 76
        }
      ]
    },
    {
      "cell_type": "code",
      "source": [
        "prediction1 = random_forest.predict(X_test)\n",
        "print(prediction1)"
      ],
      "metadata": {
        "colab": {
          "base_uri": "https://localhost:8080/"
        },
        "id": "sjYZrF7LlXH6",
        "outputId": "27e03eb3-5342-41c4-deac-51d60e9e2940"
      },
      "execution_count": 77,
      "outputs": [
        {
          "output_type": "stream",
          "name": "stdout",
          "text": [
            "[1 1 1 ... 1 1 1]\n"
          ]
        }
      ]
    },
    {
      "cell_type": "code",
      "source": [
        "cross_checking = pd.DataFrame({'Actual' : y_test , 'Predicted' : prediction1})\n",
        "cross_checking.sample(5).style.background_gradient(\n",
        "        cmap='coolwarm').set_properties(**{'color': 'LigntGreen'})\n"
      ],
      "metadata": {
        "colab": {
          "base_uri": "https://localhost:8080/",
          "height": 206
        },
        "id": "mHk_qayllUub",
        "outputId": "c4a324db-1376-4e49-eafa-3319697f58e3"
      },
      "execution_count": 79,
      "outputs": [
        {
          "output_type": "execute_result",
          "data": {
            "text/plain": [
              "<pandas.io.formats.style.Styler at 0x78d52ef56710>"
            ],
            "text/html": [
              "<style type=\"text/css\">\n",
              "#T_54804_row0_col0, #T_54804_row0_col1, #T_54804_row1_col0, #T_54804_row1_col1, #T_54804_row2_col0, #T_54804_row2_col1, #T_54804_row3_col0, #T_54804_row3_col1, #T_54804_row4_col0, #T_54804_row4_col1 {\n",
              "  background-color: #3b4cc0;\n",
              "  color: #f1f1f1;\n",
              "  color: LigntGreen;\n",
              "}\n",
              "</style>\n",
              "<table id=\"T_54804\" class=\"dataframe\">\n",
              "  <thead>\n",
              "    <tr>\n",
              "      <th class=\"blank level0\" >&nbsp;</th>\n",
              "      <th id=\"T_54804_level0_col0\" class=\"col_heading level0 col0\" >Actual</th>\n",
              "      <th id=\"T_54804_level0_col1\" class=\"col_heading level0 col1\" >Predicted</th>\n",
              "    </tr>\n",
              "  </thead>\n",
              "  <tbody>\n",
              "    <tr>\n",
              "      <th id=\"T_54804_level0_row0\" class=\"row_heading level0 row0\" >6712</th>\n",
              "      <td id=\"T_54804_row0_col0\" class=\"data row0 col0\" >1</td>\n",
              "      <td id=\"T_54804_row0_col1\" class=\"data row0 col1\" >1</td>\n",
              "    </tr>\n",
              "    <tr>\n",
              "      <th id=\"T_54804_level0_row1\" class=\"row_heading level0 row1\" >9694</th>\n",
              "      <td id=\"T_54804_row1_col0\" class=\"data row1 col0\" >1</td>\n",
              "      <td id=\"T_54804_row1_col1\" class=\"data row1 col1\" >1</td>\n",
              "    </tr>\n",
              "    <tr>\n",
              "      <th id=\"T_54804_level0_row2\" class=\"row_heading level0 row2\" >3365</th>\n",
              "      <td id=\"T_54804_row2_col0\" class=\"data row2 col0\" >1</td>\n",
              "      <td id=\"T_54804_row2_col1\" class=\"data row2 col1\" >1</td>\n",
              "    </tr>\n",
              "    <tr>\n",
              "      <th id=\"T_54804_level0_row3\" class=\"row_heading level0 row3\" >2398</th>\n",
              "      <td id=\"T_54804_row3_col0\" class=\"data row3 col0\" >1</td>\n",
              "      <td id=\"T_54804_row3_col1\" class=\"data row3 col1\" >1</td>\n",
              "    </tr>\n",
              "    <tr>\n",
              "      <th id=\"T_54804_level0_row4\" class=\"row_heading level0 row4\" >9577</th>\n",
              "      <td id=\"T_54804_row4_col0\" class=\"data row4 col0\" >1</td>\n",
              "      <td id=\"T_54804_row4_col1\" class=\"data row4 col1\" >1</td>\n",
              "    </tr>\n",
              "  </tbody>\n",
              "</table>\n"
            ]
          },
          "metadata": {},
          "execution_count": 79
        }
      ]
    },
    {
      "cell_type": "code",
      "source": [],
      "metadata": {
        "id": "SYy7Iuu0LJj4"
      },
      "execution_count": null,
      "outputs": []
    },
    {
      "cell_type": "markdown",
      "source": [
        "# **Deployment of the best model, in our case: Random Forest Classifier:**"
      ],
      "metadata": {
        "id": "M7m76ZXxLKTp"
      }
    },
    {
      "cell_type": "markdown",
      "source": [
        "## Creating an pretrained deployable model with ONNX:"
      ],
      "metadata": {
        "id": "536ecnTxOUlk"
      }
    },
    {
      "cell_type": "code",
      "source": [
        "# Let's transform our model built in our Jupyter notebook into a interactive model pretrained for deploying it.\n",
        "# The new format will be ONNX\n",
        "\n",
        "# Installing skl2onnx:\n",
        "!pip install skl2onnx"
      ],
      "metadata": {
        "id": "hmXg-5ySLSdv"
      },
      "execution_count": null,
      "outputs": []
    },
    {
      "cell_type": "code",
      "source": [
        "# Building the pretrained model:\n",
        "from skl2onnx import convert_sklearn\n",
        "from skl2onnx.common.data_types import FloatTensorType\n",
        "\n",
        "# Model is random_forest and X_train is train data:\n",
        "initial_type = [('float_input', FloatTensorType([None, X_train.shape[1]]))]\n",
        "onx = convert_sklearn(random_forest, initial_types=initial_type)\n",
        "\n",
        "with open(\"random_forest.onnx\", \"wb\") as f:\n",
        "    f.write(onx.SerializeToString())"
      ],
      "metadata": {
        "id": "nqIX40lCLhfO"
      },
      "execution_count": 103,
      "outputs": []
    },
    {
      "cell_type": "markdown",
      "source": [
        "## Building the interactive mode:"
      ],
      "metadata": {
        "id": "8WXiYSqlOi_W"
      }
    },
    {
      "cell_type": "code",
      "source": [
        "# Building the interactive mode:\n",
        "!pip install onnxruntime"
      ],
      "metadata": {
        "colab": {
          "base_uri": "https://localhost:8080/"
        },
        "id": "p9Qvg-m8MQ9J",
        "outputId": "0b7489a0-b9ea-463d-f491-73f7777a89f1"
      },
      "execution_count": 85,
      "outputs": [
        {
          "output_type": "stream",
          "name": "stdout",
          "text": [
            "Collecting onnxruntime\n",
            "  Downloading onnxruntime-1.16.1-cp310-cp310-manylinux_2_17_x86_64.manylinux2014_x86_64.whl (6.2 MB)\n",
            "\u001b[2K     \u001b[90m━━━━━━━━━━━━━━━━━━━━━━━━━━━━━━━━━━━━━━━━\u001b[0m \u001b[32m6.2/6.2 MB\u001b[0m \u001b[31m41.3 MB/s\u001b[0m eta \u001b[36m0:00:00\u001b[0m\n",
            "\u001b[?25hCollecting coloredlogs (from onnxruntime)\n",
            "  Downloading coloredlogs-15.0.1-py2.py3-none-any.whl (46 kB)\n",
            "\u001b[2K     \u001b[90m━━━━━━━━━━━━━━━━━━━━━━━━━━━━━━━━━━━━━━━━\u001b[0m \u001b[32m46.0/46.0 kB\u001b[0m \u001b[31m5.3 MB/s\u001b[0m eta \u001b[36m0:00:00\u001b[0m\n",
            "\u001b[?25hRequirement already satisfied: flatbuffers in /usr/local/lib/python3.10/dist-packages (from onnxruntime) (23.5.26)\n",
            "Requirement already satisfied: numpy>=1.21.6 in /usr/local/lib/python3.10/dist-packages (from onnxruntime) (1.23.5)\n",
            "Requirement already satisfied: packaging in /usr/local/lib/python3.10/dist-packages (from onnxruntime) (23.2)\n",
            "Requirement already satisfied: protobuf in /usr/local/lib/python3.10/dist-packages (from onnxruntime) (3.20.2)\n",
            "Requirement already satisfied: sympy in /usr/local/lib/python3.10/dist-packages (from onnxruntime) (1.12)\n",
            "Collecting humanfriendly>=9.1 (from coloredlogs->onnxruntime)\n",
            "  Downloading humanfriendly-10.0-py2.py3-none-any.whl (86 kB)\n",
            "\u001b[2K     \u001b[90m━━━━━━━━━━━━━━━━━━━━━━━━━━━━━━━━━━━━━━━━\u001b[0m \u001b[32m86.8/86.8 kB\u001b[0m \u001b[31m11.4 MB/s\u001b[0m eta \u001b[36m0:00:00\u001b[0m\n",
            "\u001b[?25hRequirement already satisfied: mpmath>=0.19 in /usr/local/lib/python3.10/dist-packages (from sympy->onnxruntime) (1.3.0)\n",
            "Installing collected packages: humanfriendly, coloredlogs, onnxruntime\n",
            "Successfully installed coloredlogs-15.0.1 humanfriendly-10.0 onnxruntime-1.16.1\n"
          ]
        }
      ]
    },
    {
      "cell_type": "code",
      "source": [
        "import onnxruntime as rt\n",
        "import numpy as np\n",
        "\n",
        "# Loading random_forest.onnx\n",
        "sess = rt.InferenceSession(\"random_forest.onnx\")\n",
        "\n",
        "# Input data:\n",
        "input_data = np.array([1, 24.95, 35.45, 1551,\t42.8, 0], dtype=np.float32)\n",
        "input_data = input_data.reshape(1, -1)\n",
        "\n",
        "# Input-Output Name\n",
        "input_name = sess.get_inputs()[0].name\n",
        "output_name = sess.get_outputs()[0].name\n",
        "\n",
        "# Execute and results:\n",
        "result = sess.run([output_name], {input_name: input_data})\n"
      ],
      "metadata": {
        "id": "huV7bWzINmMA"
      },
      "execution_count": 104,
      "outputs": []
    },
    {
      "cell_type": "code",
      "source": [
        "result"
      ],
      "metadata": {
        "colab": {
          "base_uri": "https://localhost:8080/"
        },
        "id": "694l_TEzOyK9",
        "outputId": "39be637e-cf5d-459b-e031-fae2a406a15c"
      },
      "execution_count": 105,
      "outputs": [
        {
          "output_type": "execute_result",
          "data": {
            "text/plain": [
              "[array([1], dtype=int64)]"
            ]
          },
          "metadata": {},
          "execution_count": 105
        }
      ]
    },
    {
      "cell_type": "markdown",
      "source": [
        "## Building a API for interacting with our model with FastAPI"
      ],
      "metadata": {
        "id": "aEvOAal7O9Kf"
      }
    },
    {
      "cell_type": "code",
      "source": [
        "!pip install fastapi uvicorn"
      ],
      "metadata": {
        "colab": {
          "base_uri": "https://localhost:8080/"
        },
        "id": "J2jBAs5yXePX",
        "outputId": "ec2cfbb7-a9c9-4e2e-d536-8bce675df6f1"
      },
      "execution_count": 126,
      "outputs": [
        {
          "output_type": "stream",
          "name": "stdout",
          "text": [
            "Requirement already satisfied: fastapi in /usr/local/lib/python3.10/dist-packages (0.104.1)\n",
            "Requirement already satisfied: uvicorn in /usr/local/lib/python3.10/dist-packages (0.24.0.post1)\n",
            "Requirement already satisfied: anyio<4.0.0,>=3.7.1 in /usr/local/lib/python3.10/dist-packages (from fastapi) (3.7.1)\n",
            "Requirement already satisfied: pydantic!=1.8,!=1.8.1,!=2.0.0,!=2.0.1,!=2.1.0,<3.0.0,>=1.7.4 in /usr/local/lib/python3.10/dist-packages (from fastapi) (1.10.13)\n",
            "Requirement already satisfied: starlette<0.28.0,>=0.27.0 in /usr/local/lib/python3.10/dist-packages (from fastapi) (0.27.0)\n",
            "Requirement already satisfied: typing-extensions>=4.8.0 in /usr/local/lib/python3.10/dist-packages (from fastapi) (4.8.0)\n",
            "Requirement already satisfied: click>=7.0 in /usr/local/lib/python3.10/dist-packages (from uvicorn) (8.1.7)\n",
            "Requirement already satisfied: h11>=0.8 in /usr/local/lib/python3.10/dist-packages (from uvicorn) (0.14.0)\n",
            "Requirement already satisfied: idna>=2.8 in /usr/local/lib/python3.10/dist-packages (from anyio<4.0.0,>=3.7.1->fastapi) (3.4)\n",
            "Requirement already satisfied: sniffio>=1.1 in /usr/local/lib/python3.10/dist-packages (from anyio<4.0.0,>=3.7.1->fastapi) (1.3.0)\n",
            "Requirement already satisfied: exceptiongroup in /usr/local/lib/python3.10/dist-packages (from anyio<4.0.0,>=3.7.1->fastapi) (1.1.3)\n"
          ]
        }
      ]
    },
    {
      "cell_type": "code",
      "source": [
        "# For eliminating errors:\n",
        "!pip install typing-extensions --upgrade"
      ],
      "metadata": {
        "colab": {
          "base_uri": "https://localhost:8080/"
        },
        "id": "ACqqu3cBX0Tr",
        "outputId": "67b7d578-da75-46ba-8262-6422a08ff5c2"
      },
      "execution_count": 134,
      "outputs": [
        {
          "output_type": "stream",
          "name": "stdout",
          "text": [
            "Requirement already satisfied: typing-extensions in /usr/local/lib/python3.10/dist-packages (4.8.0)\n"
          ]
        }
      ]
    },
    {
      "cell_type": "code",
      "source": [
        "!pip install typing_extensions==4.8.0 --force-reinstall\n"
      ],
      "metadata": {
        "colab": {
          "base_uri": "https://localhost:8080/"
        },
        "id": "fmGKa4zfYAuA",
        "outputId": "1ff7c632-5108-4b41-e3e9-51f65f6a8c91"
      },
      "execution_count": 135,
      "outputs": [
        {
          "output_type": "stream",
          "name": "stdout",
          "text": [
            "Collecting typing_extensions==4.8.0\n",
            "  Using cached typing_extensions-4.8.0-py3-none-any.whl (31 kB)\n",
            "Installing collected packages: typing_extensions\n",
            "  Attempting uninstall: typing_extensions\n",
            "    Found existing installation: typing_extensions 4.8.0\n",
            "    Uninstalling typing_extensions-4.8.0:\n",
            "      Successfully uninstalled typing_extensions-4.8.0\n",
            "\u001b[31mERROR: pip's dependency resolver does not currently take into account all the packages that are installed. This behaviour is the source of the following dependency conflicts.\n",
            "lida 0.0.10 requires kaleido, which is not installed.\n",
            "lida 0.0.10 requires python-multipart, which is not installed.\n",
            "tensorflow 2.14.0 requires protobuf!=4.21.0,!=4.21.1,!=4.21.2,!=4.21.3,!=4.21.4,!=4.21.5,<5.0.0dev,>=3.20.3, but you have protobuf 3.20.2 which is incompatible.\n",
            "tensorflow-probability 0.22.0 requires typing-extensions<4.6.0, but you have typing-extensions 4.8.0 which is incompatible.\u001b[0m\u001b[31m\n",
            "\u001b[0mSuccessfully installed typing_extensions-4.8.0\n"
          ]
        }
      ]
    },
    {
      "cell_type": "code",
      "source": [
        "from fastapi import FastAPI\n",
        "\n",
        "app = FastAPI()\n",
        "\n",
        "@app.get(\"/\")\n",
        "def read_root():\n",
        "    return {\"Hello\": \"World\"}\n"
      ],
      "metadata": {
        "id": "sk1WYcYHXsR0"
      },
      "execution_count": null,
      "outputs": []
    },
    {
      "cell_type": "code",
      "source": [
        "from fastapi import FastAPI\n",
        "import numpy as np\n",
        "import onnxruntime as rt\n",
        "from pydantic import BaseModel\n",
        "\n",
        "class Item(BaseModel):\n",
        "    input: list\n",
        "\n",
        "app = FastAPI()\n",
        "\n",
        "# loading model in onnx format:\n",
        "sess = rt.InferenceSession(\"random_forest.onnx\")\n",
        "\n",
        "@app.post('/predict')\n",
        "def predict(item: Item):\n",
        "    # Input data\n",
        "    input_data = np.array(item.input, dtype=np.float32)\n",
        "\n",
        "    # Input/output names:\n",
        "    input_name = sess.get_inputs()[0].name\n",
        "    output_name = sess.get_outputs()[0].name\n",
        "\n",
        "    # Executing our model:\n",
        "    result = sess.run([output_name], {input_name: input_data})\n",
        "\n",
        "    # Returning our answer in JSON format:\n",
        "    return {'prediction': result.tolist()}\n"
      ],
      "metadata": {
        "colab": {
          "base_uri": "https://localhost:8080/",
          "height": 529
        },
        "id": "QqqxZRHtPBxS",
        "outputId": "8a423823-bde4-4af9-92ea-921e7122c02c"
      },
      "execution_count": 136,
      "outputs": [
        {
          "output_type": "error",
          "ename": "ImportError",
          "evalue": "ignored",
          "traceback": [
            "\u001b[0;31m---------------------------------------------------------------------------\u001b[0m",
            "\u001b[0;31mImportError\u001b[0m                               Traceback (most recent call last)",
            "\u001b[0;32m<ipython-input-136-dfb266bb7869>\u001b[0m in \u001b[0;36m<cell line: 1>\u001b[0;34m()\u001b[0m\n\u001b[0;32m----> 1\u001b[0;31m \u001b[0;32mfrom\u001b[0m \u001b[0mfastapi\u001b[0m \u001b[0;32mimport\u001b[0m \u001b[0mFastAPI\u001b[0m\u001b[0;34m\u001b[0m\u001b[0;34m\u001b[0m\u001b[0m\n\u001b[0m\u001b[1;32m      2\u001b[0m \u001b[0;32mimport\u001b[0m \u001b[0mnumpy\u001b[0m \u001b[0;32mas\u001b[0m \u001b[0mnp\u001b[0m\u001b[0;34m\u001b[0m\u001b[0;34m\u001b[0m\u001b[0m\n\u001b[1;32m      3\u001b[0m \u001b[0;32mimport\u001b[0m \u001b[0monnxruntime\u001b[0m \u001b[0;32mas\u001b[0m \u001b[0mrt\u001b[0m\u001b[0;34m\u001b[0m\u001b[0;34m\u001b[0m\u001b[0m\n\u001b[1;32m      4\u001b[0m \u001b[0;32mfrom\u001b[0m \u001b[0mpydantic\u001b[0m \u001b[0;32mimport\u001b[0m \u001b[0mBaseModel\u001b[0m\u001b[0;34m\u001b[0m\u001b[0;34m\u001b[0m\u001b[0m\n\u001b[1;32m      5\u001b[0m \u001b[0;34m\u001b[0m\u001b[0m\n",
            "\u001b[0;32m/usr/local/lib/python3.10/dist-packages/fastapi/__init__.py\u001b[0m in \u001b[0;36m<module>\u001b[0;34m\u001b[0m\n\u001b[1;32m      5\u001b[0m \u001b[0;32mfrom\u001b[0m \u001b[0mstarlette\u001b[0m \u001b[0;32mimport\u001b[0m \u001b[0mstatus\u001b[0m \u001b[0;32mas\u001b[0m \u001b[0mstatus\u001b[0m\u001b[0;34m\u001b[0m\u001b[0;34m\u001b[0m\u001b[0m\n\u001b[1;32m      6\u001b[0m \u001b[0;34m\u001b[0m\u001b[0m\n\u001b[0;32m----> 7\u001b[0;31m \u001b[0;32mfrom\u001b[0m \u001b[0;34m.\u001b[0m\u001b[0mapplications\u001b[0m \u001b[0;32mimport\u001b[0m \u001b[0mFastAPI\u001b[0m \u001b[0;32mas\u001b[0m \u001b[0mFastAPI\u001b[0m\u001b[0;34m\u001b[0m\u001b[0;34m\u001b[0m\u001b[0m\n\u001b[0m\u001b[1;32m      8\u001b[0m \u001b[0;32mfrom\u001b[0m \u001b[0;34m.\u001b[0m\u001b[0mbackground\u001b[0m \u001b[0;32mimport\u001b[0m \u001b[0mBackgroundTasks\u001b[0m \u001b[0;32mas\u001b[0m \u001b[0mBackgroundTasks\u001b[0m\u001b[0;34m\u001b[0m\u001b[0;34m\u001b[0m\u001b[0m\n\u001b[1;32m      9\u001b[0m \u001b[0;32mfrom\u001b[0m \u001b[0;34m.\u001b[0m\u001b[0mdatastructures\u001b[0m \u001b[0;32mimport\u001b[0m \u001b[0mUploadFile\u001b[0m \u001b[0;32mas\u001b[0m \u001b[0mUploadFile\u001b[0m\u001b[0;34m\u001b[0m\u001b[0;34m\u001b[0m\u001b[0m\n",
            "\u001b[0;32m/usr/local/lib/python3.10/dist-packages/fastapi/applications.py\u001b[0m in \u001b[0;36m<module>\u001b[0;34m\u001b[0m\n\u001b[1;32m     14\u001b[0m )\n\u001b[1;32m     15\u001b[0m \u001b[0;34m\u001b[0m\u001b[0m\n\u001b[0;32m---> 16\u001b[0;31m \u001b[0;32mfrom\u001b[0m \u001b[0mfastapi\u001b[0m \u001b[0;32mimport\u001b[0m \u001b[0mrouting\u001b[0m\u001b[0;34m\u001b[0m\u001b[0;34m\u001b[0m\u001b[0m\n\u001b[0m\u001b[1;32m     17\u001b[0m \u001b[0;32mfrom\u001b[0m \u001b[0mfastapi\u001b[0m\u001b[0;34m.\u001b[0m\u001b[0mdatastructures\u001b[0m \u001b[0;32mimport\u001b[0m \u001b[0mDefault\u001b[0m\u001b[0;34m,\u001b[0m \u001b[0mDefaultPlaceholder\u001b[0m\u001b[0;34m\u001b[0m\u001b[0;34m\u001b[0m\u001b[0m\n\u001b[1;32m     18\u001b[0m from fastapi.exception_handlers import (\n",
            "\u001b[0;32m/usr/local/lib/python3.10/dist-packages/fastapi/routing.py\u001b[0m in \u001b[0;36m<module>\u001b[0;34m\u001b[0m\n\u001b[1;32m     20\u001b[0m )\n\u001b[1;32m     21\u001b[0m \u001b[0;34m\u001b[0m\u001b[0m\n\u001b[0;32m---> 22\u001b[0;31m \u001b[0;32mfrom\u001b[0m \u001b[0mfastapi\u001b[0m \u001b[0;32mimport\u001b[0m \u001b[0mparams\u001b[0m\u001b[0;34m\u001b[0m\u001b[0;34m\u001b[0m\u001b[0m\n\u001b[0m\u001b[1;32m     23\u001b[0m from fastapi._compat import (\n\u001b[1;32m     24\u001b[0m     \u001b[0mModelField\u001b[0m\u001b[0;34m,\u001b[0m\u001b[0;34m\u001b[0m\u001b[0;34m\u001b[0m\u001b[0m\n",
            "\u001b[0;32m/usr/local/lib/python3.10/dist-packages/fastapi/params.py\u001b[0m in \u001b[0;36m<module>\u001b[0;34m\u001b[0m\n\u001b[1;32m      3\u001b[0m \u001b[0;32mfrom\u001b[0m \u001b[0mtyping\u001b[0m \u001b[0;32mimport\u001b[0m \u001b[0mAny\u001b[0m\u001b[0;34m,\u001b[0m \u001b[0mCallable\u001b[0m\u001b[0;34m,\u001b[0m \u001b[0mDict\u001b[0m\u001b[0;34m,\u001b[0m \u001b[0mList\u001b[0m\u001b[0;34m,\u001b[0m \u001b[0mOptional\u001b[0m\u001b[0;34m,\u001b[0m \u001b[0mSequence\u001b[0m\u001b[0;34m,\u001b[0m \u001b[0mUnion\u001b[0m\u001b[0;34m\u001b[0m\u001b[0;34m\u001b[0m\u001b[0m\n\u001b[1;32m      4\u001b[0m \u001b[0;34m\u001b[0m\u001b[0m\n\u001b[0;32m----> 5\u001b[0;31m \u001b[0;32mfrom\u001b[0m \u001b[0mfastapi\u001b[0m\u001b[0;34m.\u001b[0m\u001b[0mopenapi\u001b[0m\u001b[0;34m.\u001b[0m\u001b[0mmodels\u001b[0m \u001b[0;32mimport\u001b[0m \u001b[0mExample\u001b[0m\u001b[0;34m\u001b[0m\u001b[0;34m\u001b[0m\u001b[0m\n\u001b[0m\u001b[1;32m      6\u001b[0m \u001b[0;32mfrom\u001b[0m \u001b[0mpydantic\u001b[0m\u001b[0;34m.\u001b[0m\u001b[0mfields\u001b[0m \u001b[0;32mimport\u001b[0m \u001b[0mFieldInfo\u001b[0m\u001b[0;34m\u001b[0m\u001b[0;34m\u001b[0m\u001b[0m\n\u001b[1;32m      7\u001b[0m \u001b[0;32mfrom\u001b[0m \u001b[0mtyping_extensions\u001b[0m \u001b[0;32mimport\u001b[0m \u001b[0mAnnotated\u001b[0m\u001b[0;34m,\u001b[0m \u001b[0mdeprecated\u001b[0m\u001b[0;34m\u001b[0m\u001b[0;34m\u001b[0m\u001b[0m\n",
            "\u001b[0;32m/usr/local/lib/python3.10/dist-packages/fastapi/openapi/models.py\u001b[0m in \u001b[0;36m<module>\u001b[0;34m\u001b[0m\n\u001b[1;32m      2\u001b[0m \u001b[0;32mfrom\u001b[0m \u001b[0mtyping\u001b[0m \u001b[0;32mimport\u001b[0m \u001b[0mAny\u001b[0m\u001b[0;34m,\u001b[0m \u001b[0mCallable\u001b[0m\u001b[0;34m,\u001b[0m \u001b[0mDict\u001b[0m\u001b[0;34m,\u001b[0m \u001b[0mIterable\u001b[0m\u001b[0;34m,\u001b[0m \u001b[0mList\u001b[0m\u001b[0;34m,\u001b[0m \u001b[0mOptional\u001b[0m\u001b[0;34m,\u001b[0m \u001b[0mSet\u001b[0m\u001b[0;34m,\u001b[0m \u001b[0mType\u001b[0m\u001b[0;34m,\u001b[0m \u001b[0mUnion\u001b[0m\u001b[0;34m\u001b[0m\u001b[0;34m\u001b[0m\u001b[0m\n\u001b[1;32m      3\u001b[0m \u001b[0;34m\u001b[0m\u001b[0m\n\u001b[0;32m----> 4\u001b[0;31m from fastapi._compat import (\n\u001b[0m\u001b[1;32m      5\u001b[0m     \u001b[0mPYDANTIC_V2\u001b[0m\u001b[0;34m,\u001b[0m\u001b[0;34m\u001b[0m\u001b[0;34m\u001b[0m\u001b[0m\n\u001b[1;32m      6\u001b[0m     \u001b[0mCoreSchema\u001b[0m\u001b[0;34m,\u001b[0m\u001b[0;34m\u001b[0m\u001b[0;34m\u001b[0m\u001b[0m\n",
            "\u001b[0;32m/usr/local/lib/python3.10/dist-packages/fastapi/_compat.py\u001b[0m in \u001b[0;36m<module>\u001b[0;34m\u001b[0m\n\u001b[1;32m     18\u001b[0m )\n\u001b[1;32m     19\u001b[0m \u001b[0;34m\u001b[0m\u001b[0m\n\u001b[0;32m---> 20\u001b[0;31m \u001b[0;32mfrom\u001b[0m \u001b[0mfastapi\u001b[0m\u001b[0;34m.\u001b[0m\u001b[0mexceptions\u001b[0m \u001b[0;32mimport\u001b[0m \u001b[0mRequestErrorModel\u001b[0m\u001b[0;34m\u001b[0m\u001b[0;34m\u001b[0m\u001b[0m\n\u001b[0m\u001b[1;32m     21\u001b[0m \u001b[0;32mfrom\u001b[0m \u001b[0mfastapi\u001b[0m\u001b[0;34m.\u001b[0m\u001b[0mtypes\u001b[0m \u001b[0;32mimport\u001b[0m \u001b[0mIncEx\u001b[0m\u001b[0;34m,\u001b[0m \u001b[0mModelNameMap\u001b[0m\u001b[0;34m,\u001b[0m \u001b[0mUnionType\u001b[0m\u001b[0;34m\u001b[0m\u001b[0;34m\u001b[0m\u001b[0m\n\u001b[1;32m     22\u001b[0m \u001b[0;32mfrom\u001b[0m \u001b[0mpydantic\u001b[0m \u001b[0;32mimport\u001b[0m \u001b[0mBaseModel\u001b[0m\u001b[0;34m,\u001b[0m \u001b[0mcreate_model\u001b[0m\u001b[0;34m\u001b[0m\u001b[0;34m\u001b[0m\u001b[0m\n",
            "\u001b[0;32m/usr/local/lib/python3.10/dist-packages/fastapi/exceptions.py\u001b[0m in \u001b[0;36m<module>\u001b[0;34m\u001b[0m\n\u001b[1;32m      4\u001b[0m \u001b[0;32mfrom\u001b[0m \u001b[0mstarlette\u001b[0m\u001b[0;34m.\u001b[0m\u001b[0mexceptions\u001b[0m \u001b[0;32mimport\u001b[0m \u001b[0mHTTPException\u001b[0m \u001b[0;32mas\u001b[0m \u001b[0mStarletteHTTPException\u001b[0m\u001b[0;34m\u001b[0m\u001b[0;34m\u001b[0m\u001b[0m\n\u001b[1;32m      5\u001b[0m \u001b[0;32mfrom\u001b[0m \u001b[0mstarlette\u001b[0m\u001b[0;34m.\u001b[0m\u001b[0mexceptions\u001b[0m \u001b[0;32mimport\u001b[0m \u001b[0mWebSocketException\u001b[0m \u001b[0;32mas\u001b[0m \u001b[0mStarletteWebSocketException\u001b[0m\u001b[0;34m\u001b[0m\u001b[0;34m\u001b[0m\u001b[0m\n\u001b[0;32m----> 6\u001b[0;31m \u001b[0;32mfrom\u001b[0m \u001b[0mtyping_extensions\u001b[0m \u001b[0;32mimport\u001b[0m \u001b[0mAnnotated\u001b[0m\u001b[0;34m,\u001b[0m \u001b[0mDoc\u001b[0m  \u001b[0;31m# type: ignore [attr-defined]\u001b[0m\u001b[0;34m\u001b[0m\u001b[0;34m\u001b[0m\u001b[0m\n\u001b[0m\u001b[1;32m      7\u001b[0m \u001b[0;34m\u001b[0m\u001b[0m\n\u001b[1;32m      8\u001b[0m \u001b[0;34m\u001b[0m\u001b[0m\n",
            "\u001b[0;31mImportError\u001b[0m: cannot import name 'Doc' from 'typing_extensions' (/usr/local/lib/python3.10/dist-packages/typing_extensions.py)",
            "",
            "\u001b[0;31m---------------------------------------------------------------------------\u001b[0;32m\nNOTE: If your import is failing due to a missing package, you can\nmanually install dependencies using either !pip or !apt.\n\nTo view examples of installing some common dependencies, click the\n\"Open Examples\" button below.\n\u001b[0;31m---------------------------------------------------------------------------\u001b[0m\n"
          ],
          "errorDetails": {
            "actions": [
              {
                "action": "open_url",
                "actionText": "Open Examples",
                "url": "/notebooks/snippets/importing_libraries.ipynb"
              }
            ]
          }
        }
      ]
    },
    {
      "cell_type": "code",
      "source": [
        "# 1. Containerizing our FastAPI:\n",
        "# Create a requirement.txt with:  at least:\n",
        "  # fastapi\n",
        "  # uvicorn\n",
        "  # onnxruntime\n",
        "  # numpy\n",
        "  # pydantic\n",
        "\n",
        "# Using Python defult imagen:\n",
        "FROM python:3.8-slim-buster\n",
        "\n",
        "# Work directory:\n",
        "WORKDIR /app\n",
        "\n",
        "# requirements.txt file copy and instaling dependencies:\n",
        "COPY requirements.txt .\n",
        "RUN pip install --no-cache-dir -r requirements.txt\n",
        "\n",
        "# all archives copy:\n",
        "COPY . .\n",
        "\n",
        "# Expose port of execution:\n",
        "EXPOSE 8000\n",
        "\n",
        "# comand for execute the application\n",
        "CMD [\"uvicorn\", \"main:app\", \"--host\", \"0.0.0.0\", \"--port\", \"8000\"] # main:app should be change for our app ubication.\n",
        "\n",
        "\n",
        "\n",
        "# 2. Docker build -t my_fastapi_app .       # my_fastapi_app will be the name of the container.\n",
        "\n",
        "# 3. Docker run -p 8000:8000 my_fastapi_app    # will be the execution of the api."
      ],
      "metadata": {
        "id": "KvP7M4PhiFly"
      },
      "execution_count": null,
      "outputs": []
    }
  ]
}